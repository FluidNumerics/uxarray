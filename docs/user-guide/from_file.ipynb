{
 "cells": [
  {
   "cell_type": "markdown",
   "id": "4a432a8bf95d9cdb",
   "metadata": {},
   "source": [
    "# Open File\n",
    "uxarray Grid object provides a few options to load grid file. Such as:\n",
    "\n",
    "1. from_dataset (ux.Grid.from_dataset(GRID_FILENAME, use_dual=True or False))\n",
    "2. open_grid (ux.open_grid(GRID_FILENAME, use_dual=True or False))\n",
    "3. from_file (ux.Grid.from_file(GRID_FILENAME, backend=\"geopandas\" or \"xarray\"))\n",
    "\n",
    "This notebook demonstrates to use the from_file function and options.\n",
    "File formats such as:\n",
    "\n",
    "1. Shapefile\n",
    "2. Geojson\n",
    "\n",
    "\n",
    "and others can be opened using the uxarray Grid classes from_file function.\n"
   ]
  },
  {
   "cell_type": "code",
   "execution_count": null,
   "id": "b35ba4a2c30750e4",
   "metadata": {
    "ExecuteTime": {
     "end_time": "2024-10-09T17:50:50.244285Z",
     "start_time": "2024-10-09T17:50:50.239653Z"
    }
   },
   "outputs": [],
   "source": [
    "import uxarray as ux\n",
    "import warnings\n",
    "import geocat.datafiles as geodf\n",
    "\n",
    "warnings.filterwarnings(\"ignore\")"
   ]
  },
  {
   "cell_type": "markdown",
   "id": "395a3db7-495c-4cff-b733-06bbe522a604",
   "metadata": {},
   "source": [
    "## Load a shapefile and plot  \n",
    "\n",
    "* This section demonstrates how to load a shapefile using uxarray's from_file function\n",
    "* The shapefile used in this example is the US national boundary file from the US Census Bureau. It is a 20m resolution shapefile that represents the national boundary of the United States. \n",
    "* The data plotted is subset to a specific bounding box, which is defined by the latitude and longitude bounds. The result is plotted using the matplotlib backend."
   ]
  },
  {
   "cell_type": "code",
   "execution_count": null,
   "id": "b4160275c09fe6b0",
   "metadata": {
    "ExecuteTime": {
     "end_time": "2024-10-09T17:50:51.217211Z",
     "start_time": "2024-10-09T17:50:50.540946Z"
    }
   },
   "outputs": [],
   "source": [
    "shp_filename = (\n",
    "    \"../../test/meshfiles/shp/cb_2018_us_nation_20m/cb_2018_us_nation_20m.shp\"\n",
    ")\n",
    "uxds = ux.Grid.from_file(shp_filename)\n",
    "lat_bounds = [-90, -70]\n",
    "lon_bounds = [20, 55]\n",
    "uxds = uxds.subset.bounding_box(lon_bounds, lat_bounds)\n",
    "uxds.plot(\n",
    "    title=\"US 20m Focus on Mainland (cb_2018_us_nation_20m.shp)\",\n",
    "    backend=\"matplotlib\",\n",
    "    width=500,\n",
    ")"
   ]
  },
  {
   "cell_type": "markdown",
   "id": "9808189d",
   "metadata": {},
   "source": [
    "# Load a Geojson file and plot\n",
    "\n",
    " * This section demonstrates how to load a Geojson file using uxarray's from_file function\n",
    " * The Geojson file used in this example is the Chicago neighborhoods dataset from GitHub. The plot is shown using \"bokeh\" backend for bounds specific to the region.\n",
    "\n"
   ]
  },
  {
   "cell_type": "code",
   "execution_count": null,
   "id": "31d92527",
   "metadata": {},
   "outputs": [],
   "source": [
    "geojson_filename = \"https://raw.githubusercontent.com/blackmad/neighborhoods/refs/heads/master/chicago.geojson\"\n",
    "uxgeojson = ux.Grid.from_file(geojson_filename)\n",
    "lat_bounds = [41.6, 42.1]\n",
    "lon_bounds = [-87.7, -87.5]\n",
    "uxgeojson.subset.bounding_box(lon_bounds, lat_bounds).plot(backend=\"bokeh\")"
   ]
  },
  {
   "cell_type": "markdown",
   "id": "f2f14b3a",
   "metadata": {},
   "source": [
    "# NetCDF \n",
    "\n",
    "Regular NetCDF files can also be opened using this function"
   ]
  },
  {
   "cell_type": "code",
   "execution_count": null,
   "id": "aba5d650",
   "metadata": {},
   "outputs": [],
   "source": [
    "nc_filename = \"../../test/meshfiles/scrip/outCSne8/outCSne8.nc\"\n",
    "# uxgrid = ux.Grid.from_file(nc_filename, backend=\"xarray\")\n",
    "uxgrid = ux.open_grid(nc_filename)\n",
    "uxgrid.plot(backend=\"bokeh\")"
   ]
  },
  {
   "cell_type": "markdown",
   "id": "f27481e2-5c1c-4189-b0c7-39737c4e47f8",
   "metadata": {},
   "source": [
    "# Remapping from Shapefile\n",
    "\n",
    "Here is demonstrated a remapping example using shapefiles. This shapefile is of the Chicago neighborhoods."
   ]
  },
  {
   "cell_type": "code",
   "execution_count": null,
   "id": "002b3f66-11ed-4f3d-905f-967802b9fff2",
   "metadata": {},
   "outputs": [],
   "source": [
    "shp_filename = (\n",
    "    \"../../test/meshfiles/shp/chicago_neighborhoods/chicago_neighborhoods.shp\"\n",
    ")\n",
    "uxds = ux.Grid.from_file(shp_filename)\n",
    "lat_bounds = [41, 43]\n",
    "lon_bounds = [-89, -90]\n",
    "uxds = uxds.subset.bounding_box(lon_bounds, lat_bounds)\n",
    "uxds.plot(\n",
    "    title=\"Chicago Neighborhoods\",\n",
    "    backend=\"bokeh\",\n",
    ")"
   ]
  },
  {
   "cell_type": "markdown",
   "id": "c9447221-aaba-4155-868d-f88b791e559e",
   "metadata": {},
   "source": [
    "The data used for the remapping is a global relative humidity dataset. Using UXarray's built in remapping functions we can transfer data from these datafiles, onto the shapefile and then plot the results."
   ]
  },
  {
   "cell_type": "code",
   "execution_count": null,
   "id": "9b629686-8286-4336-b188-8a1b12c0fcd2",
   "metadata": {},
   "outputs": [],
   "source": [
    "datafiles = (\n",
    "    geodf.get(\n",
    "        \"netcdf_files/MPAS/FalkoJudt/dyamond_1/30km/diag.2016-08-20_00.00.00_subset.nc\"\n",
    "    ),\n",
    "    geodf.get(\"netcdf_files/MPAS/FalkoJudt/dyamond_1/30km/x1.655362.grid_subset.nc\"),\n",
    ")\n",
    "\n",
    "uxds_source = ux.open_dataset(datafiles[1], datafiles[0])"
   ]
  },
  {
   "cell_type": "code",
   "execution_count": null,
   "id": "af78a1ed-e9e4-4dd0-a58f-87640e7d5f11",
   "metadata": {},
   "outputs": [],
   "source": [
    "chicago_relative_humidty = uxds_source[\"relhum_200hPa\"].remap.inverse_distance_weighted(\n",
    "    uxds, remap_to=\"face centers\"\n",
    ")\n",
    "\n",
    "chicago_relative_humidty[0].plot(cmap=ux.cmaps.sequential_blue, title=\"Chicago Neighborhoods Relative Humidty\", backend=\"bokeh\")"
   ]
  },
  {
   "cell_type": "code",
   "execution_count": null,
   "id": "d619507c-85bf-4b4e-bdbb-10b21356927f",
   "metadata": {},
   "outputs": [],
   "source": []
  }
 ],
 "metadata": {
  "kernelspec": {
   "display_name": "Python 3 (ipykernel)",
   "language": "python",
   "name": "python3"
  },
  "language_info": {
   "codemirror_mode": {
    "name": "ipython",
    "version": 3
   },
   "file_extension": ".py",
   "mimetype": "text/x-python",
   "name": "python",
   "nbconvert_exporter": "python",
   "pygments_lexer": "ipython3",
   "version": "3.12.7"
  }
 },
 "nbformat": 4,
 "nbformat_minor": 5
}
