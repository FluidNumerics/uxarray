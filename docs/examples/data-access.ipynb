{
 "cells": [
  {
   "cell_type": "markdown",
   "source": [
    "# Accessing Data\n",
    "\n",
    "Unstructured grid files can be represented in one of many different conventions (UGRID, SCRIP, EXODUS, etc). These conventions have different definitions and representations of the variables used to describe unstructured grids.\n",
    "\n",
    "UXarray unifies all of these conventions at the data loading step by representing grid files in the UGRID convention. This notebook will showcase the different methods available for accessing data stored in `Grid` objects. For more details on how to load in data, check out our other usage example [here](https://uxarray.readthedocs.io/en/latest/examples/reading-data.html)\n",
    "\n",
    "**Methods**\n",
    "1. Indexing with Original Variable Name\n",
    "2. UGRID Convenience Attributes\n",
    "3. Indexing with Variable Dictionary"
   ],
   "metadata": {
    "collapsed": false
   }
  },
  {
   "cell_type": "code",
   "execution_count": 4,
   "outputs": [],
   "source": [
    "import uxarray as ux\n",
    "import xarray as xr"
   ],
   "metadata": {
    "collapsed": false
   }
  },
  {
   "cell_type": "code",
   "execution_count": 5,
   "outputs": [],
   "source": [
    "# Base Data Path\n",
    "base_path = \"../../test/meshfiles/\"\n",
    "\n",
    "# Grid File Paths\n",
    "ugrid_01_path = base_path + \"outCSne30.ug\"\n",
    "ugrid_02_path = base_path + \"geoflow-small/grid.nc\""
   ],
   "metadata": {
    "collapsed": false
   }
  },
  {
   "cell_type": "markdown",
   "source": [
    "# Data\n",
    "\n",
    "We will be using two grid files, both of which are in the UGRID convention. However, the key difference between them is the names used to describe the variables. The output of the bottom cell showcases the slight differences in variable names"
   ],
   "metadata": {
    "collapsed": false
   }
  },
  {
   "cell_type": "code",
   "execution_count": 16,
   "outputs": [
    {
     "name": "stdout",
     "output_type": "stream",
     "text": [
      "\n",
      "Variable Names\n",
      "ugrid_01 variable names: ['Mesh2', 'Mesh2_face_nodes', 'Mesh2_node_x', 'Mesh2_node_y', 'nMesh2_face', 'nMaxMesh2_face_nodes', 'nMesh2_node']\n",
      "ugrid_02 variable names: ['mesh', 'mesh_face_nodes', 'mesh_depth', 'mesh_node_x', 'mesh_node_y', 'nMeshFaces', 'nFaceNodes', 'nMeshNodes', 'meshLayers']\n"
     ]
    }
   ],
   "source": [
    "# Load grid files and extract variable names\n",
    "grid_ds_01 = xr.open_dataset(ugrid_01_path)\n",
    "ugrid_01 = ux.Grid(grid_ds_01)\n",
    "ugrid_01_names = list(ugrid_01.ds.keys()) + list(ugrid_01.ds.coords) + list(ugrid_01.ds.dims)\n",
    "\n",
    "grid_ds_02 = xr.open_dataset(ugrid_02_path)\n",
    "ugrid_02 = ux.Grid(grid_ds_02)\n",
    "ugrid_02_names = list(ugrid_02.ds.keys()) + list(ugrid_02.ds.coords) + list(ugrid_02.ds.dims)\n",
    "\n",
    "print(\"\\nVariable Names\")\n",
    "print(\"ugrid_01 variable names:\", ugrid_01_names)\n",
    "print(\"ugrid_02 variable names:\", ugrid_02_names)"
   ],
   "metadata": {
    "collapsed": false
   }
  },
  {
   "cell_type": "markdown",
   "source": [
    "# Indexing with Original Variable Name\n",
    "\n",
    "The simplest approach is to use the original variable name as an index into the grid dataset `Grid.ds`. Since `ugrid_01` and `ugrid_02` have different names for their variables, the index for accessing them will be different for both datasets."
   ],
   "metadata": {
    "collapsed": false
   }
  },
  {
   "cell_type": "code",
   "execution_count": 20,
   "outputs": [],
   "source": [
    "x_1 = ugrid_01.ds['Mesh2_node_x']\n",
    "y_1 = ugrid_01.ds['Mesh2_node_y']\n",
    "face_nodes_1 = ugrid_01.ds['Mesh2_face_nodes']\n",
    "n_face_nodes_1 = ugrid_01.ds['nMaxMesh2_face_nodes']\n",
    "\n",
    "x_2 = ugrid_02.ds['mesh_node_x']\n",
    "y_2 = ugrid_02.ds['mesh_node_y']\n",
    "face_nodes_2 = ugrid_02.ds['mesh_face_nodes']\n",
    "n_face_nodes_2 = ugrid_02.ds['nFaceNodes']"
   ],
   "metadata": {
    "collapsed": false
   }
  },
  {
   "cell_type": "markdown",
   "source": [
    "# Indexing with UGRID Variable Dictionary\n",
    "\n",
    "UXarray provides a `Grid.ds_var_names` dictionary which uses UGRID convention variable names as keys to access the original variable names. This allows us to use the same index into either dataset, since the dictionary expects the UGRID variable name as a key. However, this makes our index much longer than the previous method.\n"
   ],
   "metadata": {
    "collapsed": false
   }
  },
  {
   "cell_type": "code",
   "execution_count": 24,
   "outputs": [],
   "source": [
    "var_names = ugrid_01.ds_var_names\n",
    "x_1 = ugrid_01.ds[var_names['Mesh2_node_x']]\n",
    "y_1 = ugrid_01.ds[var_names['Mesh2_node_y']]\n",
    "face_nodes_1 = ugrid_01.ds[var_names['Mesh2_face_nodes']]\n",
    "n_face_nodes_1 = ugrid_01.ds[var_names['nMesh2_node']]\n",
    "\n",
    "var_names = ugrid_02.ds_var_names\n",
    "x_2 = ugrid_02.ds[var_names['Mesh2_node_x']]\n",
    "y_2 = ugrid_02.ds[var_names['Mesh2_node_y']]\n",
    "face_nodes_2 = ugrid_02.ds[var_names['Mesh2_face_nodes']]\n",
    "n_face_nodes_2 = ugrid_02.ds[var_names['nMesh2_node']]"
   ],
   "metadata": {
    "collapsed": false
   }
  },
  {
   "cell_type": "markdown",
   "source": [
    "# UGRID Convenience Attributes\n",
    "The last way of accessing data is to use the UGRID data access attributes. These utilize the `ds_var_names` dictionary behind the hood to return a reference to the Xarray data array. This eliminates the need to remember the original variable names and needing to index with the `ds_var_names` dictionary."
   ],
   "metadata": {
    "collapsed": false
   }
  },
  {
   "cell_type": "code",
   "execution_count": 22,
   "outputs": [],
   "source": [
    "x_1 = ugrid_01.Mesh2_node_x\n",
    "y_1 = ugrid_01.Mesh2_node_y\n",
    "face_nodes_1 = ugrid_01.Mesh2_face_nodes\n",
    "n_face_nodes_1 = ugrid_01.nMesh2_node\n",
    "\n",
    "x_2 = ugrid_02.Mesh2_node_x\n",
    "y_2 = ugrid_02.Mesh2_node_y\n",
    "face_nodes_2 = ugrid_02.Mesh2_face_nodes\n",
    "n_face_nodes_2 = ugrid_02.nMesh2_node"
   ],
   "metadata": {
    "collapsed": false
   }
  }
 ],
 "metadata": {
  "kernelspec": {
   "display_name": "Python 3",
   "language": "python",
   "name": "python3"
  },
  "language_info": {
   "codemirror_mode": {
    "name": "ipython",
    "version": 2
   },
   "file_extension": ".py",
   "mimetype": "text/x-python",
   "name": "python",
   "nbconvert_exporter": "python",
   "pygments_lexer": "ipython2",
   "version": "2.7.6"
  }
 },
 "nbformat": 4,
 "nbformat_minor": 0
}
