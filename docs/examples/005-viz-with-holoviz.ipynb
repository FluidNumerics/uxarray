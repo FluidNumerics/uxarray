{
 "cells": [
  {
   "cell_type": "markdown",
   "source": [
    "# Conversion to GeoDataFrame for Visualization with HoloViz Packages\n",
    "Authors: [Philip Chmielowiec](https://github.com/philipc2), [Ian Franda](https://github.com/ifranda)\n",
    "\n",
    "## Overview\n",
    "This notebook showcases the necessary workflow for visualizing Unstructured Grids using UXarary paired with HoloViz. Specifically, outlined is the conversion to a `GeoDataFrame` which allows visualization with packages from the HoloViz stack. Showcased are basic visualization examples using the `hvPlot` pacakge."
   ],
   "metadata": {
    "collapsed": false
   }
  },
  {
   "cell_type": "code",
   "execution_count": null,
   "metadata": {
    "ExecuteTime": {
     "end_time": "2023-08-30T14:09:40.653109Z",
     "start_time": "2023-08-30T14:09:40.642186Z"
    }
   },
   "outputs": [],
   "source": [
    "import uxarray as ux\n",
    "import numpy as np\n",
    "import warnings\n",
    "\n",
    "import matplotlib\n",
    "import matplotlib.pyplot as plt\n",
    "\n",
    "import hvplot.pandas\n",
    "import holoviews as hv\n",
    "\n",
    "warnings.filterwarnings(\"ignore\")"
   ]
  },
  {
   "cell_type": "markdown",
   "metadata": {},
   "source": [
    "## Data\n",
    "\n",
    "For this notebook, we will be using E3SM output, {elaborate more on the data}."
   ]
  },
  {
   "cell_type": "code",
   "execution_count": null,
   "metadata": {
    "ExecuteTime": {
     "end_time": "2023-08-30T14:09:40.668576Z",
     "start_time": "2023-08-30T14:09:40.662110Z"
    }
   },
   "outputs": [],
   "source": [
    "base_path = \"../../test/meshfiles/ugrid/outCSne30/\"\n",
    "grid_path = base_path + \"outCSne30.ug\"\n",
    "data_path = base_path + \"outCSne30_vortex.nc\""
   ]
  },
  {
   "cell_type": "code",
   "execution_count": null,
   "metadata": {
    "ExecuteTime": {
     "end_time": "2023-08-30T14:09:40.828555Z",
     "start_time": "2023-08-30T14:09:40.670873Z"
    }
   },
   "outputs": [],
   "source": [
    "uxds = ux.open_dataset(grid_path, data_path)"
   ]
  },
  {
   "cell_type": "code",
   "execution_count": null,
   "metadata": {
    "ExecuteTime": {
     "end_time": "2023-08-30T14:09:40.862528Z",
     "start_time": "2023-08-30T14:09:40.830552Z"
    }
   },
   "outputs": [],
   "source": [
    "uxds"
   ]
  },
  {
   "cell_type": "code",
   "execution_count": null,
   "metadata": {
    "ExecuteTime": {
     "end_time": "2023-08-30T14:09:40.874508Z",
     "start_time": "2023-08-30T14:09:40.861528Z"
    }
   },
   "outputs": [],
   "source": [
    "uxds.uxgrid"
   ]
  },
  {
   "cell_type": "markdown",
   "metadata": {},
   "source": [
    "## Conversion to `spatialpandas.GeoDataFrame` for Visualization\n",
    "\n",
    "In order to support visualization with the popular HoloViz stack of libraries (hvPlot, HoloViews, Datashader, etc.), UXarray provides methods for converting `Grid` and `UxDataArray` objects into a SpatialPandas `GeoDataFrame`, which can be used for visualizing the nodes, edges, and polygons that represent each grid, in addition to data variables.\n"
   ]
  },
  {
   "cell_type": "markdown",
   "metadata": {},
   "source": [
    "### `Grid` Conversion\n",
    "\n",
    "If you wish to *only* represent the grid as geometries without any data variables mapped to them, you can use the `Grid.to_geodataframe()` method to obtain a `GeoDataFrame` with a singular geometry column representing each face represented as a `MultiPolygon`"
   ]
  },
  {
   "cell_type": "code",
   "execution_count": null,
   "metadata": {
    "ExecuteTime": {
     "end_time": "2023-08-30T14:09:42.268547Z",
     "start_time": "2023-08-30T14:09:40.873509Z"
    }
   },
   "outputs": [],
   "source": [
    "gdf_grid = uxds.uxgrid.to_geodataframe()\n",
    "gdf_grid"
   ]
  },
  {
   "cell_type": "markdown",
   "metadata": {},
   "source": [
    "### `UxDataArray` & `UxDataset` Conversion\n",
    "\n",
    "If you are interested in mapping data to each face, you can index the `UxDataset` with the variable of instance (in this case \"psi\") to return the same `GeoDataFrame` as above, but now with data mapped to each face."
   ]
  },
  {
   "cell_type": "code",
   "execution_count": null,
   "metadata": {
    "ExecuteTime": {
     "end_time": "2023-08-30T14:09:42.283297Z",
     "start_time": "2023-08-30T14:09:42.272549Z"
    }
   },
   "outputs": [],
   "source": [
    "gdf_data = uxds['psi'].to_geodataframe()\n",
    "gdf_data"
   ]
  },
  {
   "cell_type": "markdown",
   "metadata": {},
   "source": [
    "### Challenges with Representing Geoscience Data as Geometries\n",
    "\n",
    "When we convert to a `GeoDataFrame`, we internally represent the surface of a sphere as a collection of polygons over a 2D projection. However, this leads to issues around the Antimeridian (180 degrees east or west), which polygons are incorrectly constructed and have incorrect geometries. When constructing the `GeoDataFrame`, UXarray detects and corrects any polygon that touches or crosses the antimeridian. An array of indices of these faces can be accessed as part of the `Grid` object.\n",
    "<br>\n",
    "\n",
    "<figure>\n",
    "<center><img src=\"https://upload.wikimedia.org/wikipedia/commons/thumb/8/8d/Earth_map_with_180th_meridian.jpg/640px-Earth_map_with_180th_meridian.jpg\" style=\"height: 300px; width:600px;\"/></center>\n",
    "<center><figcaption>Antimeridian Visual</figcaption></center>\n",
    "</figure>\n"
   ]
  },
  {
   "cell_type": "code",
   "execution_count": null,
   "metadata": {
    "ExecuteTime": {
     "end_time": "2023-08-30T14:09:42.289203Z",
     "start_time": "2023-08-30T14:09:42.285295Z"
    }
   },
   "outputs": [],
   "source": [
    "uxds.uxgrid.antimeridian_face_indices"
   ]
  },
  {
   "cell_type": "markdown",
   "metadata": {},
   "source": [
    "Taking a look at one of these faces that crosses or touches the antimeridian, we can see that it's split across the antimeridian and represented as a `MultiPolygon`, which allows us to properly render this two dimension grid."
   ]
  },
  {
   "cell_type": "code",
   "execution_count": null,
   "metadata": {
    "ExecuteTime": {
     "end_time": "2023-08-30T14:09:42.295415Z",
     "start_time": "2023-08-30T14:09:42.292204Z"
    }
   },
   "outputs": [],
   "source": [
    "gdf_data.geometry[uxds.uxgrid.antimeridian_face_indices[0]]"
   ]
  },
  {
   "cell_type": "markdown",
   "metadata": {},
   "source": [
    "For more details about the algorithm used for splitting these polygons, see the [Antimeridian Python Package](https://antimeridian.readthedocs.io/en/stable/).\n"
   ]
  },
  {
   "cell_type": "markdown",
   "metadata": {},
   "source": [
    "## Visualizing Geometries"
   ]
  },
  {
   "cell_type": "markdown",
   "metadata": {},
   "source": [
    "### Nodes"
   ]
  },
  {
   "cell_type": "code",
   "execution_count": null,
   "metadata": {
    "ExecuteTime": {
     "end_time": "2023-08-30T14:09:43.793325Z",
     "start_time": "2023-08-30T14:09:42.298415Z"
    }
   },
   "outputs": [],
   "source": [
    "hv.extension(\"matplotlib\")\n",
    "\n",
    "plot_kwargs = {\"size\": 6.0, \"xlabel\": \"Longitude\", \"ylabel\": \"Latitude\",\n",
    "               \"coastline\": True, \"width\": 1600, \"title\": \"Node Plot (Matplotlib Backend)\"}\n",
    "\n",
    "\n",
    "gdf_grid.hvplot.points(**plot_kwargs)"
   ]
  },
  {
   "cell_type": "code",
   "execution_count": null,
   "metadata": {
    "ExecuteTime": {
     "end_time": "2023-08-30T14:09:45.007058Z",
     "start_time": "2023-08-30T14:09:43.796325Z"
    }
   },
   "outputs": [],
   "source": [
    "hv.extension(\"bokeh\")\n",
    "\n",
    "plot_kwargs = {\"s\": 1.0, \"xlabel\": \"Longitude\", \"ylabel\": \"Latitude\", \"coastline\": True, \"frame_width\": 700, \"title\": \"Node Plot (Bokeh Backend)\"}\n",
    "\n",
    "gdf_grid.hvplot.points(**plot_kwargs)"
   ]
  },
  {
   "cell_type": "markdown",
   "metadata": {},
   "source": [
    "### Edges"
   ]
  },
  {
   "cell_type": "code",
   "execution_count": null,
   "metadata": {
    "ExecuteTime": {
     "start_time": "2023-08-30T14:35:34.656314Z",
     "end_time": "2023-08-30T14:35:39.049754Z"
    }
   },
   "outputs": [],
   "source": [
    "hv.extension(\"matplotlib\")\n",
    "\n",
    "plot_kwargs = {\"linewidth\": 1.0, \"xlabel\":\" Longitude\", \"ylabel\": \"Latitude\", \"coastline\": True, \"width\": 1600 , \"title\": \"Edge Plot (Matplotlib Backend)\", \"color\": \"black\"}\n",
    "\n",
    "import cartopy.crs as ccrs\n",
    "\n",
    "gdf_grid.hvplot.paths(**plot_kwargs)"
   ]
  },
  {
   "cell_type": "code",
   "execution_count": null,
   "metadata": {
    "ExecuteTime": {
     "end_time": "2023-08-30T14:09:53.393457Z",
     "start_time": "2023-08-30T14:09:49.327187Z"
    }
   },
   "outputs": [],
   "source": [
    "hv.extension(\"bokeh\")\n",
    "\n",
    "plot_kwargs = {\"line_width\": 0.5, \"xlabel\": \"Longitude\", \"ylabel\": \"Latitude\", \"coastline\": True, \"frame_width\": 700, \"title\": \"Edge Plot (Bokeh Backend)\"}\n",
    "\n",
    "gdf_grid.hvplot.paths(**plot_kwargs)"
   ]
  },
  {
   "cell_type": "markdown",
   "metadata": {},
   "source": [
    "## Visualizing Data Variables"
   ]
  },
  {
   "cell_type": "code",
   "execution_count": null,
   "metadata": {
    "ExecuteTime": {
     "start_time": "2023-08-30T14:34:33.995542Z",
     "end_time": "2023-08-30T14:34:34.440961Z"
    }
   },
   "outputs": [],
   "source": [
    "hv.extension(\"matplotlib\")\n",
    "\n",
    "plot_kwargs = {\"c\": \"psi\", \"cmap\": \"inferno\", \"width\": 400, \"height\": 200, \"title\": \"Filled Polygon Plot (Matplotlib Backend, Rasterized)\", \"xlabel\":\" Longitude\", \"ylabel\": \"Latitude\"}\n",
    "\n",
    "gdf_data.hvplot.polygons(**plot_kwargs, rasterize=True)"
   ]
  },
  {
   "cell_type": "markdown",
   "metadata": {},
   "source": [
    "```{note}\n",
    "Visualuzing filled polygons without rasterization using the matplotlib backend produces incorrect results, see [hvplot/#1099](https://github.com/holoviz/hvplot/issues/1099)\n",
    "```"
   ]
  },
  {
   "cell_type": "code",
   "execution_count": null,
   "metadata": {
    "ExecuteTime": {
     "start_time": "2023-08-30T14:34:43.832942Z",
     "end_time": "2023-08-30T14:34:46.602743Z"
    }
   },
   "outputs": [],
   "source": [
    "hv.extension(\"bokeh\")\n",
    "\n",
    "plot_kwargs = {\"c\": \"psi\",  \"cmap\": \"inferno\", \"line_width\": 0.1,  \"frame_width\": 500, \"frame_height\": 250, \"xlabel\":\" Longitude\", \"ylabel\": \"Latitude\"}\n",
    "\n",
    "gdf_data.hvplot.polygons(**plot_kwargs, rasterize=True)\n",
    "\n",
    "hv.Layout(gdf_data.hvplot.polygons(**plot_kwargs, rasterize=True).opts(title=\"Filled Polygon Plot (Bokeh Backend, Rasterized)\") +\n",
    "          gdf_data.hvplot.polygons(**plot_kwargs, rasterize=False).opts(title=\"Filled Polygon Plot (Bokeh Backend, Vector)\")).cols(1)"
   ]
  },
  {
   "cell_type": "markdown",
   "source": [
    "## Geographic Projections"
   ],
   "metadata": {
    "collapsed": false
   }
  },
  {
   "cell_type": "code",
   "execution_count": null,
   "outputs": [],
   "source": [
    "hv.extension(\"matplotlib\")\n",
    "\n",
    "plot_kwargs = {\"c\": \"psi\", \"cmap\": \"inferno\", \"width\": 400, \"height\": 200, \"title\": \"Filled Polygon Plot (Matplotlib Backend, Rasterized)\", \"xlabel\":\" Longitude\", \"ylabel\": \"Latitude\"}\n",
    "\n",
    "gdf_data.hvplot.polygons(**plot_kwargs, rasterize=True, projection=ccrs.Orthographic())"
   ],
   "metadata": {
    "collapsed": false,
    "ExecuteTime": {
     "start_time": "2023-08-30T14:36:00.129765Z",
     "end_time": "2023-08-30T14:36:00.556761Z"
    }
   }
  },
  {
   "cell_type": "markdown",
   "source": [],
   "metadata": {
    "collapsed": false
   }
  }
 ],
 "metadata": {
  "kernelspec": {
   "display_name": "Python 3 (ipykernel)",
   "language": "python",
   "name": "python3"
  },
  "language_info": {
   "codemirror_mode": {
    "name": "ipython",
    "version": 3
   },
   "file_extension": ".py",
   "mimetype": "text/x-python",
   "name": "python",
   "nbconvert_exporter": "python",
   "pygments_lexer": "ipython3",
   "version": "3.11.4"
  }
 },
 "nbformat": 4,
 "nbformat_minor": 1
}
