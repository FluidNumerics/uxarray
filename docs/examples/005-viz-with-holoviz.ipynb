{
 "cells": [
  {
   "cell_type": "markdown",
   "source": [
    "# Conversion to GeoDataFrame & Visualization with HoloViz"
   ],
   "metadata": {
    "collapsed": false
   }
  },
  {
   "cell_type": "code",
   "execution_count": null,
   "outputs": [],
   "source": [
    "import uxarray as ux\n",
    "import numpy as np\n",
    "\n",
    "import matplotlib\n",
    "import matplotlib.pyplot as plt\n",
    "\n",
    "import hvplot.pandas\n",
    "import holoviews as hv\n",
    "\n",
    "import warnings\n",
    "warnings.filterwarnings(\"ignore\")\n",
    "\n",
    "cmap = matplotlib.colors.LinearSegmentedColormap.from_list(\"Color_Theme\", plt.cm.Blues(np.linspace(0.2, 1, 30)))"
   ],
   "metadata": {
    "collapsed": false,
    "ExecuteTime": {
     "start_time": "2023-08-29T17:14:14.560428Z",
     "end_time": "2023-08-29T17:14:14.591377Z"
    }
   }
  },
  {
   "cell_type": "markdown",
   "source": [
    "## Data\n",
    "\n",
    "In this notebook, we will be using E3SM output, {elaborate more on the data}."
   ],
   "metadata": {
    "collapsed": false
   }
  },
  {
   "cell_type": "code",
   "execution_count": null,
   "outputs": [],
   "source": [
    "base_path = \"../../test/meshfiles/ugrid/outCSne30/\"\n",
    "grid_path = base_path + \"outCSne30.ug\"\n",
    "data_path = base_path + \"outCSne30_vortex.nc\""
   ],
   "metadata": {
    "collapsed": false,
    "ExecuteTime": {
     "start_time": "2023-08-29T17:14:14.572032Z",
     "end_time": "2023-08-29T17:14:14.592377Z"
    }
   }
  },
  {
   "cell_type": "code",
   "execution_count": null,
   "outputs": [],
   "source": [
    "uxds = ux.open_dataset(grid_path, data_path)"
   ],
   "metadata": {
    "collapsed": false,
    "ExecuteTime": {
     "start_time": "2023-08-29T17:14:14.578378Z",
     "end_time": "2023-08-29T17:14:14.612035Z"
    }
   }
  },
  {
   "cell_type": "code",
   "execution_count": null,
   "outputs": [],
   "source": [
    "uxds"
   ],
   "metadata": {
    "collapsed": false,
    "ExecuteTime": {
     "start_time": "2023-08-29T17:37:21.825200Z",
     "end_time": "2023-08-29T17:37:21.829561Z"
    }
   }
  },
  {
   "cell_type": "code",
   "execution_count": null,
   "outputs": [],
   "source": [
    "uxds.uxgrid"
   ],
   "metadata": {
    "collapsed": false,
    "ExecuteTime": {
     "start_time": "2023-08-29T17:37:27.599788Z",
     "end_time": "2023-08-29T17:37:27.608085Z"
    }
   }
  },
  {
   "cell_type": "markdown",
   "source": [
    "## Conversion to `spatialpandas.GeoDataFrame` for Visualization\n",
    "\n",
    "In order to support visualization with the popular HoloViz stack of libraries (hvPlot, HoloViews, Datashader, etc.), UXarray provides methods for converting `Grid` and `UxDatArray` objects into a SpatialPandas `GeoDataFrame`, which can be used for visiualizaing the nodes, edges, and polygons the compose each grid, in addition to data variables.\n",
    "\n",
    "TODO: Links to Ian's SIParCS work, brief overview of antimeridian handling"
   ],
   "metadata": {
    "collapsed": false
   }
  },
  {
   "cell_type": "markdown",
   "source": [
    "### `Grid` Conversion"
   ],
   "metadata": {
    "collapsed": false
   }
  },
  {
   "cell_type": "code",
   "execution_count": null,
   "outputs": [],
   "source": [
    "gdf_grid = uxds.uxgrid.to_geodataframe()\n",
    "gdf_grid"
   ],
   "metadata": {
    "collapsed": false
   }
  },
  {
   "cell_type": "markdown",
   "source": [
    "### `UxDataArray` & `UxDataset` Conversion"
   ],
   "metadata": {
    "collapsed": false
   }
  },
  {
   "cell_type": "code",
   "execution_count": null,
   "outputs": [],
   "source": [
    "gdf_data = uxds['psi'].to_geodataframe()\n",
    "gdf_data"
   ],
   "metadata": {
    "collapsed": false
   }
  },
  {
   "cell_type": "markdown",
   "source": [
    "### Challenges with Representing Geoscience Data as Geometries\n",
    "\n",
    "When we convert to a `GeoDataFrame`, we internally represent the surface of a sphere as a collection of polygons over a 2D projection. However, this leads to issues around the Antimeridian (180 degrees east or west), which polygons are incorrectly constructed and have incorrect geometries. When constructing the `GeoDataFrame`, UXarray detects and corrects any polygon that touches or crosses the antimeridian. An array of indices of these faces can be accessed as part of the `Grid` object.\n",
    "<br>\n",
    "\n",
    "<figure>\n",
    "<center><img src=\"https://upload.wikimedia.org/wikipedia/commons/thumb/8/8d/Earth_map_with_180th_meridian.jpg/640px-Earth_map_with_180th_meridian.jpg\" style=\"height: 250px; width:500px;\"/></center>\n",
    "<center><figcaption>Antimeridian Visual</figcaption></center>\n",
    "</figure>\n"
   ],
   "metadata": {
    "collapsed": false
   }
  },
  {
   "cell_type": "code",
   "execution_count": null,
   "outputs": [],
   "source": [
    "uxds.uxgrid.antimeridian_face_indices"
   ],
   "metadata": {
    "collapsed": false,
    "ExecuteTime": {
     "start_time": "2023-08-29T18:09:32.130594Z",
     "end_time": "2023-08-29T18:09:32.143703Z"
    }
   }
  },
  {
   "cell_type": "markdown",
   "source": [
    "Taking a look at one of these faces that crosses or touches the antimeridian, we can see that it's split across the antimeridian and represented as a `MultiPolygon`, which allows us to properly render this two dimension grid."
   ],
   "metadata": {
    "collapsed": false
   }
  },
  {
   "cell_type": "code",
   "execution_count": null,
   "outputs": [],
   "source": [
    "gdf_data.geometry[uxds.uxgrid.antimeridian_face_indices[0]]"
   ],
   "metadata": {
    "collapsed": false,
    "ExecuteTime": {
     "start_time": "2023-08-29T18:32:02.011558Z",
     "end_time": "2023-08-29T18:32:02.016778Z"
    }
   }
  },
  {
   "cell_type": "code",
   "execution_count": null,
   "outputs": [],
   "source": [
    "gdf_data.geometry[uxds.uxgrid.antimeridian_face_indices[0]].to_shapely()"
   ],
   "metadata": {
    "collapsed": false,
    "ExecuteTime": {
     "start_time": "2023-08-29T18:33:01.373657Z",
     "end_time": "2023-08-29T18:33:01.388251Z"
    }
   }
  },
  {
   "cell_type": "markdown",
   "source": [
    "For more details about the algorithm used for splitting these polygons, see the [Antimeridian Python Package](https://antimeridian.readthedocs.io/en/stable/).\n"
   ],
   "metadata": {
    "collapsed": false
   }
  },
  {
   "cell_type": "markdown",
   "source": [
    "## Visualizing Geometries"
   ],
   "metadata": {
    "collapsed": false
   }
  },
  {
   "cell_type": "markdown",
   "source": [
    "### Nodes"
   ],
   "metadata": {
    "collapsed": false
   }
  },
  {
   "cell_type": "code",
   "execution_count": null,
   "outputs": [],
   "source": [
    "hv.extension(\"matplotlib\")\n",
    "\n",
    "plot_kwargs = {\"size\": 6.0, \"xlabel\": \"Longitude\", \"ylabel\": \"Latitude\",\n",
    "               \"coastline\": True, \"width\": 1600}\n",
    "\n",
    "gdf_grid.hvplot.points(**plot_kwargs)"
   ],
   "metadata": {
    "collapsed": false,
    "ExecuteTime": {
     "start_time": "2023-08-29T17:14:14.850810Z",
     "end_time": "2023-08-29T17:14:16.233259Z"
    }
   }
  },
  {
   "cell_type": "code",
   "execution_count": null,
   "outputs": [],
   "source": [
    "hv.extension(\"bokeh\")\n",
    "\n",
    "plot_kwargs = {\"s\": 2.0, \"xlabel\": \"Longitude\", \"ylabel\": \"Latitude\", \"coastline\": True, \"frame_width\": 700}\n",
    "\n",
    "gdf_grid.hvplot.points(**plot_kwargs)"
   ],
   "metadata": {
    "collapsed": false,
    "ExecuteTime": {
     "start_time": "2023-08-29T17:15:05.496399Z",
     "end_time": "2023-08-29T17:15:06.450621Z"
    }
   }
  },
  {
   "cell_type": "markdown",
   "source": [
    "### Edges"
   ],
   "metadata": {
    "collapsed": false
   }
  },
  {
   "cell_type": "code",
   "execution_count": null,
   "outputs": [],
   "source": [
    "hv.extension(\"matplotlib\")\n",
    "\n",
    "plot_kwargs = {\"linewidth\": 0.5, \"xlabel\":\" Longitude\", \"ylabel\": \"Latitude\", \"coastline\": True, \"width\": 1600}\n",
    "\n",
    "gdf_grid.hvplot.paths(**plot_kwargs)"
   ],
   "metadata": {
    "collapsed": false,
    "ExecuteTime": {
     "start_time": "2023-08-29T17:14:17.309986Z",
     "end_time": "2023-08-29T17:14:21.088270Z"
    }
   }
  },
  {
   "cell_type": "code",
   "execution_count": null,
   "outputs": [],
   "source": [
    "hv.extension(\"bokeh\")\n",
    "\n",
    "plot_kwargs = {\"line_width\": 0.5, \"xlabel\": \"Longitude\", \"ylabel\": \"Latitude\", \"coastline\": True, \"frame_width\": 700}\n",
    "\n",
    "gdf_grid.hvplot.paths(**plot_kwargs)"
   ],
   "metadata": {
    "collapsed": false,
    "ExecuteTime": {
     "start_time": "2023-08-29T17:15:11.581123Z",
     "end_time": "2023-08-29T17:15:15.919537Z"
    }
   }
  },
  {
   "cell_type": "markdown",
   "source": [
    "## Visualizing Data Variables"
   ],
   "metadata": {
    "collapsed": false
   }
  },
  {
   "cell_type": "code",
   "execution_count": null,
   "outputs": [],
   "source": [
    "hv.extension(\"matplotlib\")\n",
    "\n",
    "plot_kwargs = {\"c\": \"psi\", \"cmap\": cmap, \"width\": 400, \"height\": 200} #TODO\n",
    "\n",
    "gdf_data.hvplot.polygons(**plot_kwargs, rasterize=True)"
   ],
   "metadata": {
    "collapsed": false,
    "ExecuteTime": {
     "start_time": "2023-08-29T17:14:45.875665Z",
     "end_time": "2023-08-29T17:14:46.213998Z"
    }
   }
  },
  {
   "cell_type": "markdown",
   "source": [
    "add node about matplotlib vector not plotting properly, link to bokeh issue\n"
   ],
   "metadata": {
    "collapsed": false
   }
  },
  {
   "cell_type": "code",
   "execution_count": null,
   "outputs": [],
   "source": [
    "hv.extension(\"bokeh\")\n",
    "\n",
    "plot_kwargs = {\"c\": \"psi\",  \"cmap\": cmap, \"line_width\": 0.1,  \"frame_width\": 500, \"frame_height\": 250}\n",
    "\n",
    "gdf_data.hvplot.polygons(**plot_kwargs, rasterize=True)\n",
    "\n",
    "hv.Layout(gdf_data.hvplot.polygons(**plot_kwargs, rasterize=True) + gdf_data.hvplot.polygons(**plot_kwargs, rasterize=False)).cols(1)"
   ],
   "metadata": {
    "collapsed": false,
    "ExecuteTime": {
     "start_time": "2023-08-29T17:14:25.426423Z",
     "end_time": "2023-08-29T17:14:30.928223Z"
    }
   }
  }
 ],
 "metadata": {
  "kernelspec": {
   "display_name": "Python 3",
   "language": "python",
   "name": "python3"
  },
  "language_info": {
   "codemirror_mode": {
    "name": "ipython",
    "version": 2
   },
   "file_extension": ".py",
   "mimetype": "text/x-python",
   "name": "python",
   "nbconvert_exporter": "python",
   "pygments_lexer": "ipython2",
   "version": "2.7.6"
  }
 },
 "nbformat": 4,
 "nbformat_minor": 0
}
