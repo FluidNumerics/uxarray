{
 "cells": [
  {
   "cell_type": "markdown",
   "source": [
    "# Visualization with hvPlot & Conversion to GeoDataFrame\n",
    "Authors: [Philip Chmielowiec](https://github.com/philipc2), [Ian Franda](https://github.com/ifranda)\n",
    "\n",
    "## Overview\n",
    "This notebook showcases the necessary workflow for visualizing Unstructured Grids using UXarary paired with HoloViz. Specifically, outlined is the conversion to a `GeoDataFrame` which allows visualization with packages from the HoloViz stack. Showcased are basic visualization examples using the `hvPlot` pacakge."
   ],
   "metadata": {
    "collapsed": false
   }
  },
  {
   "cell_type": "code",
   "execution_count": null,
   "outputs": [],
   "source": [
    "import uxarray as ux\n",
    "import numpy as np\n",
    "import warnings\n",
    "\n",
    "import matplotlib\n",
    "import matplotlib.pyplot as plt\n",
    "\n",
    "import hvplot.pandas\n",
    "import holoviews as hv\n",
    "\n",
    "cmap = matplotlib.colors.LinearSegmentedColormap.from_list(\"Color_Theme\", plt.cm.Blues(np.linspace(0.2, 1, 30)))\n",
    "\n",
    "warnings.filterwarnings(\"ignore\")"
   ],
   "metadata": {
    "collapsed": false,
    "ExecuteTime": {
     "start_time": "2023-08-30T00:07:18.435462Z",
     "end_time": "2023-08-30T00:07:18.449460Z"
    }
   }
  },
  {
   "cell_type": "markdown",
   "source": [
    "## Data\n",
    "\n",
    "For this notebook, we will be using E3SM output, {elaborate more on the data}."
   ],
   "metadata": {
    "collapsed": false
   }
  },
  {
   "cell_type": "code",
   "execution_count": null,
   "outputs": [],
   "source": [
    "base_path = \"../../test/meshfiles/ugrid/outCSne30/\"\n",
    "grid_path = base_path + \"outCSne30.ug\"\n",
    "data_path = base_path + \"outCSne30_vortex.nc\""
   ],
   "metadata": {
    "collapsed": false,
    "ExecuteTime": {
     "start_time": "2023-08-30T00:07:18.719519Z",
     "end_time": "2023-08-30T00:07:18.724631Z"
    }
   }
  },
  {
   "cell_type": "code",
   "execution_count": null,
   "outputs": [],
   "source": [
    "uxds = ux.open_dataset(grid_path, data_path)"
   ],
   "metadata": {
    "collapsed": false,
    "ExecuteTime": {
     "start_time": "2023-08-30T00:07:18.846278Z",
     "end_time": "2023-08-30T00:07:19.058124Z"
    }
   }
  },
  {
   "cell_type": "code",
   "execution_count": null,
   "outputs": [],
   "source": [
    "uxds"
   ],
   "metadata": {
    "collapsed": false,
    "ExecuteTime": {
     "start_time": "2023-08-30T00:07:19.061123Z",
     "end_time": "2023-08-30T00:07:19.075828Z"
    }
   }
  },
  {
   "cell_type": "code",
   "execution_count": null,
   "outputs": [],
   "source": [
    "uxds.uxgrid"
   ],
   "metadata": {
    "collapsed": false,
    "ExecuteTime": {
     "start_time": "2023-08-30T00:07:19.118800Z",
     "end_time": "2023-08-30T00:07:19.125754Z"
    }
   }
  },
  {
   "cell_type": "markdown",
   "source": [
    "## Conversion to `spatialpandas.GeoDataFrame` for Visualization\n",
    "\n",
    "In order to support visualization with the popular HoloViz stack of libraries (hvPlot, HoloViews, Datashader, etc.), UXarray provides methods for converting `Grid` and `UxDataArray` objects into a SpatialPandas `GeoDataFrame`, which can be used for visualizing the nodes, edges, and polygons that represent each grid, in addition to data variables.\n",
    "\n",
    "```{note}\n",
    "For further\n",
    "```"
   ],
   "metadata": {
    "collapsed": false
   }
  },
  {
   "cell_type": "markdown",
   "source": [
    "### `Grid` Conversion\n",
    "\n",
    "If you wish to *only* represent the grid as geometries without any data variables mapped to them, you can use the `Grid.to_geodataframe()` method to obtain a `GeoDataFrame` with a singular geometry column representing each face represented as a `MultiPolygon`"
   ],
   "metadata": {
    "collapsed": false
   }
  },
  {
   "cell_type": "code",
   "execution_count": null,
   "outputs": [],
   "source": [
    "gdf_grid = uxds.uxgrid.to_geodataframe()\n",
    "gdf_grid"
   ],
   "metadata": {
    "collapsed": false,
    "ExecuteTime": {
     "start_time": "2023-08-30T00:07:19.553961Z",
     "end_time": "2023-08-30T00:07:20.594619Z"
    }
   }
  },
  {
   "cell_type": "markdown",
   "source": [
    "### `UxDataArray` & `UxDataset` Conversion\n",
    "\n",
    "If you are interested in mapping data to each face, you can index the `UxDataset` with the variable of instance (in this case \"psi\") to return the same `GeoDataFrame` as above, but now with data mapped to each face."
   ],
   "metadata": {
    "collapsed": false
   }
  },
  {
   "cell_type": "code",
   "execution_count": null,
   "outputs": [],
   "source": [
    "gdf_data = uxds['psi'].to_geodataframe()\n",
    "gdf_data"
   ],
   "metadata": {
    "collapsed": false,
    "ExecuteTime": {
     "start_time": "2023-08-30T00:07:20.597620Z",
     "end_time": "2023-08-30T00:07:20.606507Z"
    }
   }
  },
  {
   "cell_type": "markdown",
   "source": [
    "### Challenges with Representing Geoscience Data as Geometries\n",
    "\n",
    "When we convert to a `GeoDataFrame`, we internally represent the surface of a sphere as a collection of polygons over a 2D projection. However, this leads to issues around the Antimeridian (180 degrees east or west), which polygons are incorrectly constructed and have incorrect geometries. When constructing the `GeoDataFrame`, UXarray detects and corrects any polygon that touches or crosses the antimeridian. An array of indices of these faces can be accessed as part of the `Grid` object.\n",
    "<br>\n",
    "\n",
    "<figure>\n",
    "<center><img src=\"https://upload.wikimedia.org/wikipedia/commons/thumb/8/8d/Earth_map_with_180th_meridian.jpg/640px-Earth_map_with_180th_meridian.jpg\" style=\"height: 300px; width:600px;\"/></center>\n",
    "<center><figcaption>Antimeridian Visual</figcaption></center>\n",
    "</figure>\n"
   ],
   "metadata": {
    "collapsed": false
   }
  },
  {
   "cell_type": "code",
   "execution_count": null,
   "outputs": [],
   "source": [
    "uxds.uxgrid.antimeridian_face_indices"
   ],
   "metadata": {
    "collapsed": false,
    "ExecuteTime": {
     "start_time": "2023-08-30T00:07:21.055012Z",
     "end_time": "2023-08-30T00:07:21.070011Z"
    }
   }
  },
  {
   "cell_type": "markdown",
   "source": [
    "Taking a look at one of these faces that crosses or touches the antimeridian, we can see that it's split across the antimeridian and represented as a `MultiPolygon`, which allows us to properly render this two dimension grid."
   ],
   "metadata": {
    "collapsed": false
   }
  },
  {
   "cell_type": "code",
   "execution_count": null,
   "outputs": [],
   "source": [
    "gdf_data.geometry[uxds.uxgrid.antimeridian_face_indices[0]]"
   ],
   "metadata": {
    "collapsed": false,
    "ExecuteTime": {
     "start_time": "2023-08-30T00:07:22.105802Z",
     "end_time": "2023-08-30T00:07:22.112944Z"
    }
   }
  },
  {
   "cell_type": "markdown",
   "source": [
    "For more details about the algorithm used for splitting these polygons, see the [Antimeridian Python Package](https://antimeridian.readthedocs.io/en/stable/).\n"
   ],
   "metadata": {
    "collapsed": false
   }
  },
  {
   "cell_type": "markdown",
   "source": [
    "## Visualizing Geometries"
   ],
   "metadata": {
    "collapsed": false
   }
  },
  {
   "cell_type": "markdown",
   "source": [
    "### Nodes"
   ],
   "metadata": {
    "collapsed": false
   }
  },
  {
   "cell_type": "code",
   "execution_count": null,
   "outputs": [],
   "source": [
    "hv.extension(\"matplotlib\")\n",
    "\n",
    "plot_kwargs = {\"size\": 6.0, \"xlabel\": \"Longitude\", \"ylabel\": \"Latitude\",\n",
    "               \"coastline\": True, \"width\": 1600, \"title\": \"Node Plot (Matplotlib Backend)\"}\n",
    "\n",
    "gdf_grid.hvplot.points(**plot_kwargs)"
   ],
   "metadata": {
    "collapsed": false,
    "ExecuteTime": {
     "start_time": "2023-08-30T00:07:38.656498Z",
     "end_time": "2023-08-30T00:07:39.905908Z"
    }
   }
  },
  {
   "cell_type": "code",
   "execution_count": null,
   "outputs": [],
   "source": [
    "hv.extension(\"bokeh\")\n",
    "\n",
    "plot_kwargs = {\"s\": 1.0, \"xlabel\": \"Longitude\", \"ylabel\": \"Latitude\", \"coastline\": True, \"frame_width\": 700, \"title\": \"Node Plot (Bokeh Backend)\"}\n",
    "\n",
    "gdf_grid.hvplot.points(**plot_kwargs)"
   ],
   "metadata": {
    "collapsed": false,
    "ExecuteTime": {
     "start_time": "2023-08-30T00:08:16.481584Z",
     "end_time": "2023-08-30T00:08:17.544604Z"
    }
   }
  },
  {
   "cell_type": "markdown",
   "source": [
    "### Edges"
   ],
   "metadata": {
    "collapsed": false
   }
  },
  {
   "cell_type": "code",
   "execution_count": null,
   "outputs": [],
   "source": [
    "hv.extension(\"matplotlib\")\n",
    "\n",
    "plot_kwargs = {\"linewidth\": 0.5, \"xlabel\":\" Longitude\", \"ylabel\": \"Latitude\", \"coastline\": True, \"width\": 1600 , \"title\": \"Edge Plot (Matplotlib Backend)\"}\n",
    "\n",
    "gdf_grid.hvplot.paths(**plot_kwargs)"
   ],
   "metadata": {
    "collapsed": false,
    "ExecuteTime": {
     "start_time": "2023-08-30T00:08:31.596981Z",
     "end_time": "2023-08-30T00:08:36.067938Z"
    }
   }
  },
  {
   "cell_type": "code",
   "execution_count": null,
   "outputs": [],
   "source": [
    "hv.extension(\"bokeh\")\n",
    "\n",
    "plot_kwargs = {\"line_width\": 0.5, \"xlabel\": \"Longitude\", \"ylabel\": \"Latitude\", \"coastline\": True, \"frame_width\": 700, \"title\": \"Edge Plot (Bokeh Backend)\"}\n",
    "\n",
    "gdf_grid.hvplot.paths(**plot_kwargs)"
   ],
   "metadata": {
    "collapsed": false,
    "ExecuteTime": {
     "start_time": "2023-08-30T00:08:46.219212Z",
     "end_time": "2023-08-30T00:08:49.816549Z"
    }
   }
  },
  {
   "cell_type": "markdown",
   "source": [
    "## Visualizing Data Variables"
   ],
   "metadata": {
    "collapsed": false
   }
  },
  {
   "cell_type": "code",
   "execution_count": null,
   "outputs": [],
   "source": [
    "hv.extension(\"matplotlib\")\n",
    "\n",
    "plot_kwargs = {\"c\": \"psi\", \"cmap\": \"plasma\", \"width\": 400, \"height\": 200, \"title\": \"Filled Polygon Plot (Matplotlib Backend, Rasterized)\", \"xlabel\":\" Longitude\", \"ylabel\": \"Latitude\"}\n",
    "\n",
    "gdf_data.hvplot.polygons(**plot_kwargs, rasterize=True)"
   ],
   "metadata": {
    "collapsed": false,
    "ExecuteTime": {
     "start_time": "2023-08-30T00:13:26.708185Z",
     "end_time": "2023-08-30T00:13:26.977377Z"
    }
   }
  },
  {
   "cell_type": "markdown",
   "source": [
    "```{note}\n",
    "Visualuzing filled polygons without rasterization using the matplotlib backend produces incorrect results, see [hvplot/#1099](https://github.com/holoviz/hvplot/issues/1099)\n",
    "```"
   ],
   "metadata": {
    "collapsed": false
   }
  },
  {
   "cell_type": "code",
   "execution_count": null,
   "outputs": [],
   "source": [
    "hv.extension(\"bokeh\")\n",
    "\n",
    "plot_kwargs = {\"c\": \"psi\",  \"cmap\": \"plasma\", \"line_width\": 0.1,  \"frame_width\": 500, \"frame_height\": 250, \"xlabel\":\" Longitude\", \"ylabel\": \"Latitude\"}\n",
    "\n",
    "gdf_data.hvplot.polygons(**plot_kwargs, rasterize=True)\n",
    "\n",
    "hv.Layout(gdf_data.hvplot.polygons(**plot_kwargs, rasterize=True).opts(title=\"Filled Polygon Plot (Bokeh Backend, Rasterized)\") +\n",
    "          gdf_data.hvplot.polygons(**plot_kwargs, rasterize=False).opts(title=\"Filled Polygon Plot (Bokeh Backend, Vector)\")).cols(1)"
   ],
   "metadata": {
    "collapsed": false,
    "ExecuteTime": {
     "start_time": "2023-08-30T00:13:36.723738Z",
     "end_time": "2023-08-30T00:13:39.268274Z"
    }
   }
  }
 ],
 "metadata": {
  "kernelspec": {
   "display_name": "Python 3",
   "language": "python",
   "name": "python3"
  },
  "language_info": {
   "codemirror_mode": {
    "name": "ipython",
    "version": 2
   },
   "file_extension": ".py",
   "mimetype": "text/x-python",
   "name": "python",
   "nbconvert_exporter": "python",
   "pygments_lexer": "ipython2",
   "version": "2.7.6"
  }
 },
 "nbformat": 4,
 "nbformat_minor": 0
}
