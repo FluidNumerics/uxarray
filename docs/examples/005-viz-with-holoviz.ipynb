{
 "cells": [
  {
   "cell_type": "markdown",
   "source": [
    "# Visualization with HoloViz"
   ],
   "metadata": {
    "collapsed": false
   }
  },
  {
   "cell_type": "code",
   "execution_count": null,
   "outputs": [],
   "source": [
    "import uxarray as ux\n",
    "import numpy as np\n",
    "\n",
    "import matplotlib\n",
    "import matplotlib.pyplot as plt\n",
    "\n",
    "import hvplot.pandas\n",
    "import holoviews as hv\n",
    "\n",
    "import warnings\n",
    "warnings.filterwarnings(\"ignore\")\n",
    "\n",
    "cmap = matplotlib.colors.LinearSegmentedColormap.from_list(\"Color_Theme\", plt.cm.Blues(np.linspace(0.2, 1, 30)))"
   ],
   "metadata": {
    "collapsed": false,
    "ExecuteTime": {
     "start_time": "2023-08-29T14:05:18.732704Z",
     "end_time": "2023-08-29T14:05:18.757163Z"
    }
   }
  },
  {
   "cell_type": "code",
   "execution_count": null,
   "outputs": [],
   "source": [
    "base_path = \"../../test/meshfiles/ugrid/outCSne30/\"\n",
    "grid_path = base_path + \"outCSne30.ug\"\n",
    "data_path = base_path + \"outCSne30_vortex.nc\""
   ],
   "metadata": {
    "collapsed": false,
    "ExecuteTime": {
     "start_time": "2023-08-29T13:54:47.184938Z",
     "end_time": "2023-08-29T13:54:47.188748Z"
    }
   }
  },
  {
   "cell_type": "code",
   "execution_count": null,
   "outputs": [],
   "source": [
    "uxds = ux.open_dataset(grid_path, data_path)"
   ],
   "metadata": {
    "collapsed": false,
    "ExecuteTime": {
     "start_time": "2023-08-29T13:54:47.188748Z",
     "end_time": "2023-08-29T13:54:47.196954Z"
    }
   }
  },
  {
   "cell_type": "code",
   "execution_count": null,
   "outputs": [],
   "source": [
    "gdf_grid = uxds.uxgrid.to_geodataframe()"
   ],
   "metadata": {
    "collapsed": false,
    "ExecuteTime": {
     "start_time": "2023-08-29T13:54:47.197955Z",
     "end_time": "2023-08-29T13:54:47.487290Z"
    }
   }
  },
  {
   "cell_type": "markdown",
   "source": [
    "## Visualizing Geometries"
   ],
   "metadata": {
    "collapsed": false
   }
  },
  {
   "cell_type": "markdown",
   "source": [
    "### Nodes"
   ],
   "metadata": {
    "collapsed": false
   }
  },
  {
   "cell_type": "code",
   "execution_count": null,
   "outputs": [],
   "source": [
    "hv.extension(\"matplotlib\")\n",
    "\n",
    "plot_kwargs = {\"size\": 6.0, \"xlabel\": \"Longitude\", \"ylabel\": \"Latitude\",\n",
    "               \"coastline\": True}\n",
    "\n",
    "gdf_grid.hvplot.points(**plot_kwargs)"
   ],
   "metadata": {
    "collapsed": false,
    "ExecuteTime": {
     "start_time": "2023-08-29T14:08:48.508569Z",
     "end_time": "2023-08-29T14:08:49.781569Z"
    }
   }
  },
  {
   "cell_type": "code",
   "execution_count": null,
   "outputs": [],
   "source": [
    "hv.extension(\"bokeh\")\n",
    "\n",
    "plot_kwargs = {\"s\": 2.0, \"xlabel\": \"Longitude\", \"ylabel\": \"Latitude\", \"coastline\": True}\n",
    "\n",
    "gdf_grid.hvplot.points(**plot_kwargs)"
   ],
   "metadata": {
    "collapsed": false,
    "ExecuteTime": {
     "start_time": "2023-08-29T14:08:49.807568Z",
     "end_time": "2023-08-29T14:08:51.102439Z"
    }
   }
  },
  {
   "cell_type": "markdown",
   "source": [
    "### Edges"
   ],
   "metadata": {
    "collapsed": false
   }
  },
  {
   "cell_type": "code",
   "execution_count": null,
   "outputs": [],
   "source": [
    "hv.extension(\"matplotlib\")\n",
    "\n",
    "plot_kwargs = {\"linewidth\": 0.5, \"xlabel\":\" Longitude\", \"ylabel\": \"Latitude\", \"coastline\": True}\n",
    "\n",
    "gdf_grid.hvplot.paths(**plot_kwargs)"
   ],
   "metadata": {
    "collapsed": false,
    "ExecuteTime": {
     "start_time": "2023-08-29T14:08:51.102439Z",
     "end_time": "2023-08-29T14:08:54.975465Z"
    }
   }
  },
  {
   "cell_type": "code",
   "execution_count": null,
   "outputs": [],
   "source": [
    "hv.extension(\"bokeh\")\n",
    "\n",
    "plot_kwargs = {\"line_width\": 0.5, \"xlabel\": \"Longitude\", \"ylabel\": \"Latitude\", \"coastline\": True}\n",
    "\n",
    "gdf_grid.hvplot.paths(**plot_kwargs)"
   ],
   "metadata": {
    "collapsed": false,
    "ExecuteTime": {
     "start_time": "2023-08-29T14:08:54.958468Z",
     "end_time": "2023-08-29T14:08:58.670465Z"
    }
   }
  },
  {
   "cell_type": "markdown",
   "source": [
    "## Visualizing Data Variables"
   ],
   "metadata": {
    "collapsed": false
   }
  },
  {
   "cell_type": "code",
   "execution_count": null,
   "outputs": [],
   "source": [
    "gdf_data = uxds['psi'].to_geodataframe()"
   ],
   "metadata": {
    "collapsed": false,
    "ExecuteTime": {
     "start_time": "2023-08-29T14:03:41.031378Z",
     "end_time": "2023-08-29T14:03:41.036728Z"
    }
   }
  },
  {
   "cell_type": "code",
   "execution_count": null,
   "outputs": [],
   "source": [
    "hv.extension(\"matplotlib\")\n",
    "\n",
    "plot_kwargs = {\"c\": \"psi\", \"cmap\": cmap} #TODO\n",
    "\n",
    "gdf_data.hvplot.polygons(**plot_kwargs, rasterize=True)"
   ],
   "metadata": {
    "collapsed": false,
    "ExecuteTime": {
     "start_time": "2023-08-29T14:04:08.926700Z",
     "end_time": "2023-08-29T14:04:08.960635Z"
    }
   }
  },
  {
   "cell_type": "markdown",
   "source": [
    "add node about matplotlib vector not plotting properly, link to bokeh issue\n"
   ],
   "metadata": {
    "collapsed": false
   }
  },
  {
   "cell_type": "code",
   "execution_count": null,
   "outputs": [],
   "source": [
    "hv.extension(\"bokeh\")\n",
    "\n",
    "plot_kwargs = {\"c\": \"psi\",  \"cmap\": cmap, \"line_width\": 0.1,  \"frame_width\": 1000}\n",
    "\n",
    "gdf_data.hvplot.polygons(**plot_kwargs, rasterize=True)\n",
    "\n",
    "hv.Layout(gdf_data.hvplot.polygons(**plot_kwargs, rasterize=True) + gdf_data.hvplot.polygons(**plot_kwargs, rasterize=False)).cols(1)"
   ],
   "metadata": {
    "collapsed": false,
    "ExecuteTime": {
     "start_time": "2023-08-29T14:10:56.611214Z",
     "end_time": "2023-08-29T14:10:59.446101Z"
    }
   }
  }
 ],
 "metadata": {
  "kernelspec": {
   "display_name": "Python 3",
   "language": "python",
   "name": "python3"
  },
  "language_info": {
   "codemirror_mode": {
    "name": "ipython",
    "version": 2
   },
   "file_extension": ".py",
   "mimetype": "text/x-python",
   "name": "python",
   "nbconvert_exporter": "python",
   "pygments_lexer": "ipython2",
   "version": "2.7.6"
  }
 },
 "nbformat": 4,
 "nbformat_minor": 0
}
