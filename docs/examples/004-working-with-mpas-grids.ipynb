{
 "cells": [
  {
   "cell_type": "markdown",
   "source": [
    "# Working with MPAS Meshes"
   ],
   "metadata": {
    "collapsed": false
   }
  },
  {
   "cell_type": "markdown",
   "source": [
    "##  Mesh Definition\n",
    "\n",
    "All components of MPAS lie on a C-grid staggered Voronoi Mesh as seen in the figure below:\n",
    "\n",
    "<p align=\"center\">\n",
    "  <img src=\"../_static/examples/mpas/c-grid.png\"\n",
    "  width=\"400\" / >\n",
    "</p>\n",
    "\n",
    "This type of mesh is represented through two different sub-meshes. The Primal Mesh represents the Voronoi Mesh and the Dual Mesh represents the Triangular Mesh.\n",
    "\n",
    "*to-do: more in-depth description/overview of MPAS from the website and specification document.*\n",
    "\n",
    "\n"
   ],
   "metadata": {
    "collapsed": false
   }
  },
  {
   "cell_type": "markdown",
   "source": [
    "## Imports"
   ],
   "metadata": {
    "collapsed": false
   }
  },
  {
   "cell_type": "code",
   "execution_count": null,
   "outputs": [],
   "source": [
    "import xarray as xr\n",
    "import numpy as np\n",
    "import uxarray as ux"
   ],
   "metadata": {
    "collapsed": false
   }
  },
  {
   "cell_type": "markdown",
   "source": [
    "## Grid and Data Files\n",
    "\n",
    "As mentioned in earlier notebooks, the grid definition and data variables are typically stored in separate files. However, in this example, our dataset will contain both within the same file, which is often the case when working with smaller datasets. With this in mind, we will be working exclusively with 'Grid' objects and not with 'UxDataset` or `UxDataArray` objects.\n",
    "\n"
   ],
   "metadata": {
    "collapsed": false
   }
  },
  {
   "cell_type": "code",
   "execution_count": null,
   "outputs": [],
   "source": [
    "mpas_root_filepath = \"../../test/meshfiles/mpas/\"\n",
    "mpas_dataset_filepath = mpas_root_filepath + \"QU/mesh.QU.1920km.151026.nc\"\n",
    "\n",
    "xrds_mpas = xr.open_dataset(mpas_dataset_filepath)\n",
    "xrds_mpas"
   ],
   "metadata": {
    "collapsed": false
   }
  },
  {
   "cell_type": "markdown",
   "source": [
    "This dataset contains the full set of connectivity variables needed to describe an MPAS mesh, as described in the MPAS Specification Document [2]. Below is a list of connectivity variables and their geometric meaning, which will be further described when comparing to the UGRID encoding:\n",
    "\n",
    "\n",
    "### Primal Mesh\n",
    "* **lonVertex, latVertex**: Corner Vertices of Primal Mesh cells\n",
    "* **lonCell, latCell**: Center Vertices of Primal Mesh cells\n",
    "* **verticesOnCell**: Vertex indices that surround each Primal Mesh cell\n",
    "* **verticesOnEdge**: Vertex indices that saddle a given edge\n",
    "* **nEdgesOnCell**: Maximum number of edges that can surround a cell\n",
    "\n",
    "### Dual Mesh\n",
    "* **lonCell, latCell**: Corner Vertices of Dual Mesh cells\n",
    "* **lonVertex, latVertex**: Center Vertices of Dual Mesh cells\n",
    "* **cellsOnVertex**: Vertex indices that surround each Dual Mesh cell\n",
    "* **cellsOnEdge**: Vertex indices that saddle a given edge\n"
   ],
   "metadata": {
    "collapsed": false
   }
  },
  {
   "cell_type": "markdown",
   "source": [],
   "metadata": {
    "collapsed": false
   }
  },
  {
   "cell_type": "markdown",
   "source": [],
   "metadata": {
    "collapsed": false
   }
  },
  {
   "cell_type": "markdown",
   "source": [
    "## Constructing a Grid Object\n",
    "\n",
    "The `xarray.Dataset` that we opened above stores the coordinates and connectivity variables for both the Primal and Dual meshes together in a single dataset. These variables are stored according to the MPAS Specification standards. With UXarray, we can create `Grid` objects for either the Primal or Dual meshes. The `uxarray.Grid` class parses our input dataset, detects that it is represented in the MPAS specifications, and encodes either the Primal or Dual mesh in the UGRID conventions."
   ],
   "metadata": {
    "collapsed": false
   }
  },
  {
   "cell_type": "code",
   "execution_count": null,
   "outputs": [],
   "source": [
    "primal_mesh = ux.open_grid(mpas_dataset_filepath, use_dual=False)\n",
    "dual_mesh = ux.open_grid(mpas_dataset_filepath, use_dual=True)"
   ],
   "metadata": {
    "collapsed": false
   }
  },
  {
   "cell_type": "code",
   "execution_count": null,
   "outputs": [],
   "source": [
    "primal_mesh"
   ],
   "metadata": {
    "collapsed": false
   }
  },
  {
   "cell_type": "code",
   "execution_count": null,
   "outputs": [],
   "source": [
    "dual_mesh"
   ],
   "metadata": {
    "collapsed": false
   }
  },
  {
   "cell_type": "markdown",
   "source": [
    "## Relationship between MPAS and UGRID\n",
    "*to-do: describe MPAS to UGRID encoding, differences in fill values, standardized datatypes, and how geometric connectivity variables relate between these two conventions*\n",
    "\n",
    "*create a table to showcase the mapping between MPAS and UGRID*\n",
    "\n",
    "### Connectivity (Primal Mesh)\n",
    "`Mesh2_node_x` & `Mesh2_node_y`\n",
    "* Derived from `lonVertex` & `latVertex`\n",
    "* Converted from Radians to Degrees\n",
    "\n",
    "`Mesh2_face_nodes`\n",
    "* Derived from `verticesOnCell`\n",
    "* Padding is replaced with `INT_FILL_VALUE`\n",
    "* Missing Values (zeros) replaced with `INT_FILL_VALUE`\n",
    "* Converted to zero-index"
   ],
   "metadata": {
    "collapsed": false
   }
  },
  {
   "cell_type": "markdown",
   "source": [
    "## Functionality"
   ],
   "metadata": {
    "collapsed": false
   }
  },
  {
   "cell_type": "markdown",
   "source": [
    "### Face Area"
   ],
   "metadata": {
    "collapsed": false
   }
  },
  {
   "cell_type": "code",
   "execution_count": null,
   "outputs": [],
   "source": [
    "primal_mesh_total_area = uxds_primal.uxgrid.calculate_total_face_area()\n",
    "primal_mesh_total_area"
   ],
   "metadata": {
    "collapsed": false
   }
  },
  {
   "cell_type": "code",
   "execution_count": null,
   "outputs": [],
   "source": [
    "primal_mesh_face_areas = uxds_primal.uxgrid.face_areas\n",
    "primal_mesh_face_areas.sum()"
   ],
   "metadata": {
    "collapsed": false
   }
  },
  {
   "cell_type": "code",
   "execution_count": null,
   "outputs": [],
   "source": [
    "dual_mesh_total_area = uxds_dual.uxgrid.calculate_total_face_area()\n",
    "dual_mesh_total_area"
   ],
   "metadata": {
    "collapsed": false
   }
  },
  {
   "cell_type": "code",
   "execution_count": null,
   "outputs": [],
   "source": [
    "dual_mesh_face_areas = uxds_dual.uxgrid.face_areas\n",
    "primal_mesh_face_areas.sum()"
   ],
   "metadata": {
    "collapsed": false
   }
  },
  {
   "cell_type": "markdown",
   "source": [
    "### Integration"
   ],
   "metadata": {
    "collapsed": false
   }
  },
  {
   "cell_type": "code",
   "execution_count": null,
   "outputs": [],
   "source": [
    "# to-do, need to fix function before adding"
   ],
   "metadata": {
    "collapsed": false
   }
  },
  {
   "cell_type": "markdown",
   "source": [
    "## Visualization\n",
    "\n",
    "*very messy, waiting on other PR's to get merged before doing primal mesh*"
   ],
   "metadata": {
    "collapsed": false
   }
  },
  {
   "cell_type": "code",
   "execution_count": null,
   "outputs": [],
   "source": [
    "import numpy as np\n",
    "import matplotlib.pyplot as plt\n",
    "from matplotlib.collections import PolyCollection\n",
    "\n",
    "from uxarray.utils.helpers import close_face_nodes"
   ],
   "metadata": {
    "collapsed": false
   }
  },
  {
   "cell_type": "markdown",
   "source": [
    "### Helper Functions"
   ],
   "metadata": {
    "collapsed": false
   }
  },
  {
   "cell_type": "code",
   "execution_count": null,
   "outputs": [],
   "source": [
    "def get_verts(uxds):\n",
    "    nodes_per_face = uxds.uxgrid.nNodes_per_face.values\n",
    "    x = uxds.uxgrid.Mesh2_node_x.values\n",
    "    y = uxds.uxgrid.Mesh2_node_y.values\n",
    "    closed_face_nodes = close_face_nodes(uxds.uxgrid.Mesh2_face_nodes.values,\n",
    "                                         uxds.uxgrid.nMesh2_face,\n",
    "                                         uxds.uxgrid.nMaxMesh2_face_nodes)\n",
    "\n",
    "    verts = []\n",
    "    for face_node, n_nodes in zip(closed_face_nodes, nodes_per_face):\n",
    "        polygon_x = x[face_node[0:n_nodes]]\n",
    "        polygon_y = y[face_node[0:n_nodes]]\n",
    "\n",
    "        if np.any(np.abs(polygon_x - 180) > 170):\n",
    "            continue\n",
    "\n",
    "        vert = np.array([polygon_x, polygon_y])\n",
    "        verts.append(vert.T)\n",
    "\n",
    "    return verts"
   ],
   "metadata": {
    "collapsed": false
   }
  },
  {
   "cell_type": "markdown",
   "source": [
    "### Primal Mesh"
   ],
   "metadata": {
    "collapsed": false
   }
  },
  {
   "cell_type": "code",
   "execution_count": null,
   "outputs": [],
   "source": [
    "primal_vertices = get_verts(uxds_primal)\n",
    "primal_polygons = PolyCollection(primal_vertices, edgecolors='Black', alpha=0.5)\n",
    "\n",
    "fig, ax = plt.subplots()\n",
    "ax.add_collection(primal_polygons, autolim=False)\n",
    "ax.set_xlim(0, 360)\n",
    "ax.set_ylim(-80, 80)\n",
    "ax.set_title(\"Primal Mesh\")"
   ],
   "metadata": {
    "collapsed": false
   }
  },
  {
   "cell_type": "markdown",
   "source": [
    "### Dual Mesh"
   ],
   "metadata": {
    "collapsed": false
   }
  },
  {
   "cell_type": "code",
   "execution_count": null,
   "outputs": [],
   "source": [
    "dual_vertices = get_verts(uxds_dual)\n",
    "dual_polygons = PolyCollection(dual_vertices, edgecolors='Black', alpha=0.5)\n",
    "\n",
    "fig, ax = plt.subplots()\n",
    "ax.add_collection(dual_polygons, autolim=False)\n",
    "ax.set_xlim(0, 360)\n",
    "ax.set_ylim(-80, 80)\n",
    "ax.set_title(\"Dual Mesh\")"
   ],
   "metadata": {
    "collapsed": false
   }
  },
  {
   "cell_type": "markdown",
   "source": [
    "## Primal and Dual"
   ],
   "metadata": {
    "collapsed": false
   }
  },
  {
   "cell_type": "code",
   "execution_count": null,
   "outputs": [],
   "source": [
    "dual_vertices = get_verts(uxds_dual)\n",
    "dual_polygons = PolyCollection(dual_vertices, edgecolors='Black', alpha=0.5)\n",
    "primal_vertices = get_verts(uxds_primal)\n",
    "primal_polygons = PolyCollection(primal_vertices, edgecolors='Black', alpha=0.5)\n",
    "\n",
    "fig, ax = plt.subplots()\n",
    "ax.add_collection(primal_polygons, autolim=False)\n",
    "ax.add_collection(dual_polygons, autolim=False)\n",
    "ax.set_xlim(0, 360)\n",
    "ax.set_ylim(-80, 80)\n",
    "ax.set_title(\"Dual & Primal Mesh\")"
   ],
   "metadata": {
    "collapsed": false
   }
  },
  {
   "cell_type": "markdown",
   "source": [
    "## References\n",
    "\n",
    "[1] https://mpas-dev.github.io/\n",
    "\n",
    "[2] https://mpas-dev.github.io/files/documents/MPAS-MeshSpec.pdf\n",
    "\n",
    "[3] http://ugrid-conventions.github.io/ugrid-conventions/"
   ],
   "metadata": {
    "collapsed": false
   }
  }
 ],
 "metadata": {
  "kernelspec": {
   "display_name": "Python 3",
   "language": "python",
   "name": "python3"
  },
  "language_info": {
   "codemirror_mode": {
    "name": "ipython",
    "version": 2
   },
   "file_extension": ".py",
   "mimetype": "text/x-python",
   "name": "python",
   "nbconvert_exporter": "python",
   "pygments_lexer": "ipython2",
   "version": "2.7.6"
  }
 },
 "nbformat": 4,
 "nbformat_minor": 0
}
