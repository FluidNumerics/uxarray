{
 "cells": [
  {
   "attachments": {},
   "cell_type": "markdown",
   "metadata": {
    "collapsed": false
   },
   "source": [
    "# Working with MPAS Meshes\n"
   ]
  },
  {
   "attachments": {},
   "cell_type": "markdown",
   "metadata": {
    "collapsed": false
   },
   "source": [
    "##  MPAS Mesh Overview\n",
    "\n",
    "All components of MPAS lie on a C-grid staggered Voronoi Mesh as seen in the figure below:\n",
    "\n",
    "<p align=\"center\">\n",
    "  <img src=\"../_static/examples/mpas/c-grid.png\"\n",
    "  width=\"400\" / >\n",
    "</p>\n",
    "\n",
    "This type of mesh is represented through two different sub-meshes. The Primal Mesh represents the Voronoi Mesh and the Dual Mesh represents the Triangular Mesh.\n",
    "\n",
    "\n",
    "\n"
   ]
  },
  {
   "attachments": {},
   "cell_type": "markdown",
   "metadata": {
    "collapsed": false
   },
   "source": [
    "## Dataset Overview\n",
    "\n",
    "As mentioned in earlier notebooks, the grid definition and data variables are typically stored in separate files. However, in this example, our dataset will contain both within the same file, which is often the case when working with smaller datasets. With this in mind, we will be working exclusively with `Grid` objects to investigate the grid topology and not with `UxDataset` or `UxDataArray` objects.\n",
    "\n"
   ]
  },
  {
   "cell_type": "code",
   "execution_count": null,
   "outputs": [],
   "source": [
    "import xarray as xr\n",
    "import numpy as np\n",
    "import uxarray as ux"
   ],
   "metadata": {
    "collapsed": false
   }
  },
  {
   "cell_type": "code",
   "execution_count": null,
   "metadata": {
    "collapsed": false
   },
   "outputs": [],
   "source": [
    "mpas_root_filepath = \"../../test/meshfiles/mpas/\"\n",
    "mpas_dataset_filepath = mpas_root_filepath + \"QU/mesh.QU.1920km.151026.nc\"\n",
    "\n",
    "xrds_mpas = xr.open_dataset(mpas_dataset_filepath)\n",
    "xrds_mpas"
   ]
  },
  {
   "attachments": {},
   "cell_type": "markdown",
   "metadata": {
    "collapsed": false
   },
   "source": [
    "Here we open up the dataset to get an overview of the full set of connectivity variables needed to describe an MPAS mesh as described in the MPAS Specification Document [2]. Below is a list of connectivity variables and their geometric meaning, which will be further described when comparing to the UGRID encoding:\n",
    "\n",
    "### Primal Mesh\n",
    "* **lonVertex, latVertex**: Corner Vertices of Primal Mesh cells\n",
    "* **lonCell, latCell**: Center Vertices of Primal Mesh cells\n",
    "* **verticesOnCell**: Vertex indices that surround each Primal Mesh cell\n",
    "* **verticesOnEdge**: Vertex indices that saddle a given edge\n",
    "* **nEdgesOnCell**: Maximum number of edges that can surround a cell\n",
    "\n",
    "### Dual Mesh\n",
    "* **lonCell, latCell**: Corner Vertices of Dual Mesh cells\n",
    "* **lonVertex, latVertex**: Center Vertices of Dual Mesh cells\n",
    "* **cellsOnVertex**: Vertex indices that surround each Dual Mesh cell\n",
    "* **cellsOnEdge**: Vertex indices that saddle a given edge\n"
   ]
  },
  {
   "attachments": {},
   "cell_type": "markdown",
   "metadata": {
    "collapsed": false
   },
   "source": [
    "## Constructing a Grid Object\n",
    "\n",
    "The `xarray.Dataset` that we opened above stores the coordinates and connectivity variables according to the MPAS specification standards for both the Primal and Dual meshes together in a single dataset. Here instead of opening up the dataset using Xarray, we can pass through the path into our `open_grid` method to construct a `Grid` object. This `Grid` can be constructed for either the Primal or Dual meshes by parsing and encoding the appropriate variables in the UGRID conventions."
   ]
  },
  {
   "cell_type": "code",
   "execution_count": null,
   "metadata": {
    "collapsed": false
   },
   "outputs": [],
   "source": [
    "primal_mesh = ux.open_grid(mpas_dataset_filepath, use_dual=False)\n",
    "dual_mesh = ux.open_grid(mpas_dataset_filepath, use_dual=True)"
   ]
  },
  {
   "cell_type": "code",
   "execution_count": null,
   "metadata": {
    "collapsed": false
   },
   "outputs": [],
   "source": [
    "primal_mesh"
   ]
  },
  {
   "cell_type": "code",
   "execution_count": null,
   "metadata": {
    "collapsed": false
   },
   "outputs": [],
   "source": [
    "dual_mesh"
   ]
  },
  {
   "attachments": {},
   "cell_type": "markdown",
   "metadata": {
    "collapsed": false
   },
   "source": [
    "## Relationship between MPAS and UGRID\n",
    "\n",
    "In the Dataset Overview, we outlined the key grid variables that were parsed and used for encoding our Grid in the UGRID conventions. Below is an overview of how we derived the coordinate and connectivity variables and how they are internally represented.\n",
    "\n",
    "\n",
    "### Grid Variables (Primal Mesh)\n",
    "`Mesh2_node_x` & `Mesh2_node_y`\n",
    "* Longitude and Latitude coordinates of the Primal Mesh corner nodes\n",
    "* Derived from `lonVertex` & `latVertex`\n",
    "* Converted from Radians to Degrees\n",
    "\n",
    "`Mesh2_face_x` & `Mesh2_face_y`\n",
    "* Longitude and Latitude coordinates of the Primal Mesh center nodes\n",
    "* Derived from `lonCell` & `latCell`\n",
    "* Converted from Radians to Degrees\n",
    "\n",
    "`Mesh2_face_nodes`\n",
    "* Connectivity array describing which nodes make up a face\n",
    "* Derived from `verticesOnCell`\n",
    "* Padding is replaced with `INT_FILL_VALUE`\n",
    "* Missing Values (zeros) replaced with `INT_FILL_VALUE`\n",
    "* Converted to zero-index\n",
    "\n",
    "`Mesh2_edge_nodes`\n",
    "* Connectivity array describing which nodes link to form each edge\n",
    "* Derived from `verticesOnEdge`\n",
    "* Padding is replaced with `INT_FILL_VALUE`\n",
    "* Missing Values (zeros) replaced with `INT_FILL_VALUE`\n",
    "* Converted to zero-index\n",
    "\n",
    "### Grid Variables (Dual Mesh)\n",
    "\n",
    "`Mesh2_node_x` & `Mesh2_node_y`\n",
    "* Longitude and Latitude coordinates of the Dual Mesh vertices\n",
    "* Derived from `lonCell` & `latCell`, the centers of the Primal Mesh\n",
    "* Converted from Radians to Degrees\n",
    "\n",
    "`Mesh2_face_x` & `Mesh2_face_y`\n",
    "* Longitude and Latitude coordinates of the Dual Mesh centers\n",
    "* Derived from `lonVertex` & `latVertex`, the vertices of the Primal Mesh\n",
    "* Converted from Radians to Degrees\n",
    "\n",
    "`Mesh2_face_nodes`\n",
    "* Connectivity array describing which nodes make up a face\n",
    "* Derived from `verticesOnCell`\n",
    "* Padding is replaced with `INT_FILL_VALUE`\n",
    "* Missing Values (zeros) replaced with `INT_FILL_VALUE`\n",
    "* Converted to zero-index\n",
    "\n",
    "`Mesh2_edge_nodes`\n",
    "* Connectivity array describing which nodes link to form each edge\n",
    "* Derived from `verticesOnEdge`\n",
    "* Padding is replaced with `INT_FILL_VALUE`\n",
    "* Missing Values (zeros) replaced with `INT_FILL_VALUE`\n",
    "* Converted to zero-index"
   ]
  },
  {
   "attachments": {},
   "cell_type": "markdown",
   "metadata": {
    "collapsed": false
   },
   "source": [
    "## Functionality"
   ]
  },
  {
   "attachments": {},
   "cell_type": "markdown",
   "metadata": {
    "collapsed": false
   },
   "source": [
    "### Face Area\n",
    "\n",
    "Since our mesh lies on a sphere, the expected total face area is the following:\n",
    "\n",
    "$4\\pi r^{2}$"
   ]
  },
  {
   "attachments": {},
   "cell_type": "markdown",
   "metadata": {
    "collapsed": false
   },
   "source": [
    "Using our parsed attributes, we can access the `sphere_radius` to calculated the expected face area."
   ]
  },
  {
   "cell_type": "code",
   "execution_count": null,
   "metadata": {
    "collapsed": false
   },
   "outputs": [],
   "source": [
    "sphere_r = primal_mesh.parsed_attrs['sphere_radius']\n",
    "expected_area = 4 * np.pi * (sphere_r)**2\n",
    "expected_area"
   ]
  },
  {
   "cell_type": "markdown",
   "source": [
    "The individual and total face areas of our Primal Mesh can be calculated, cached, and accessed as follows"
   ],
   "metadata": {
    "collapsed": false
   }
  },
  {
   "cell_type": "code",
   "execution_count": null,
   "metadata": {
    "collapsed": false
   },
   "outputs": [],
   "source": [
    "primal_mesh_face_areas = primal_mesh.face_areas\n",
    "primal_mesh_face_areas.sum()"
   ]
  },
  {
   "cell_type": "markdown",
   "source": [
    "We can then compute the absolute error of our calculation"
   ],
   "metadata": {
    "collapsed": false
   }
  },
  {
   "cell_type": "code",
   "execution_count": null,
   "outputs": [],
   "source": [
    "abs(expected_area - primal_mesh_face_areas.sum())"
   ],
   "metadata": {
    "collapsed": false
   }
  },
  {
   "cell_type": "markdown",
   "source": [
    "We can do the same for the Dual Mesh"
   ],
   "metadata": {
    "collapsed": false
   }
  },
  {
   "cell_type": "code",
   "execution_count": null,
   "metadata": {
    "collapsed": false
   },
   "outputs": [],
   "source": [
    "dual_mesh_face_areas = dual_mesh.face_areas\n",
    "primal_mesh_face_areas.sum()"
   ]
  },
  {
   "cell_type": "code",
   "execution_count": null,
   "outputs": [],
   "source": [
    "abs(expected_area - dual_mesh_face_areas.sum())"
   ],
   "metadata": {
    "collapsed": false
   }
  },
  {
   "attachments": {},
   "cell_type": "markdown",
   "metadata": {
    "collapsed": false
   },
   "source": [
    "We can see that the total face area of both the Primal and Dual meshes is within 1e-6 of the expected area. For a more detailed explanation of the face area calculation and ways to obtain more precision, check out our other notebooks."
   ]
  },
  {
   "attachments": {},
   "cell_type": "markdown",
   "metadata": {
    "collapsed": false
   },
   "source": [
    "## Visualization\n",
    "\n",
    "To visually confirm that the Primal and Dual meshes have been converted properly, the following showcases a basic visualization of the mesh structure.\n",
    "\n",
    "To display the mesh, the vertices are used to construct a `PolyCollection` object, which represents a group of polygons on a plane. The collection is then fed into Matplotlib to be visualized.\n",
    "\n",
    "```{note}\n",
    "The following visualizations showcase the mesh structure excluding any faces that are located on the boundary between 0 and 360 degrees. There is work currently being done to handle these cases and to provide a more sophisticated visualization API in UXarray. Stay tuned!\n",
    "```\n"
   ]
  },
  {
   "cell_type": "code",
   "execution_count": null,
   "metadata": {
    "collapsed": false
   },
   "outputs": [],
   "source": [
    "import matplotlib.pyplot as plt\n",
    "from matplotlib.collections import PolyCollection\n",
    "\n",
    "from uxarray.utils.helpers import close_face_nodes"
   ]
  },
  {
   "attachments": {},
   "cell_type": "markdown",
   "metadata": {
    "collapsed": false
   },
   "source": [
    "### Helper Functions\n",
    "\n",
    "In order to make our data compatible wth the `PolyCollection` class, we need to first convert it into an appropriate representation. The following helper function takes in a `Grid` object (either Primal or Dual mesh) and returns the vertices of each face that can be interpreted by the `PolyCollection`."
   ]
  },
  {
   "cell_type": "code",
   "execution_count": null,
   "metadata": {
    "collapsed": false
   },
   "outputs": [],
   "source": [
    "def get_verts(grid):\n",
    "    nodes_per_face = grid.nNodes_per_face.values\n",
    "    x = grid.Mesh2_node_x.values\n",
    "    y = grid.Mesh2_node_y.values\n",
    "    closed_face_nodes = close_face_nodes(grid.Mesh2_face_nodes.values,\n",
    "                                         grid.nMesh2_face,\n",
    "                                         grid.nMaxMesh2_face_nodes)\n",
    "\n",
    "    verts = []\n",
    "    for face_node, n_nodes in zip(closed_face_nodes, nodes_per_face):\n",
    "        polygon_x = x[face_node[0:n_nodes]]\n",
    "        polygon_y = y[face_node[0:n_nodes]]\n",
    "\n",
    "        # exclude faces near the boundary\n",
    "        if np.any(np.abs(polygon_x - 180) > 170):\n",
    "            continue\n",
    "\n",
    "        vert = np.array([polygon_x, polygon_y])\n",
    "        verts.append(vert.T)\n",
    "\n",
    "    return verts"
   ]
  },
  {
   "attachments": {},
   "cell_type": "markdown",
   "metadata": {
    "collapsed": false
   },
   "source": [
    "### Primal Mesh\n",
    "\n",
    "The following displays the Primal Mesh, which is composed of polygons that represent Voronoi regions."
   ]
  },
  {
   "cell_type": "code",
   "execution_count": null,
   "metadata": {
    "collapsed": false
   },
   "outputs": [],
   "source": [
    "primal_vertices = get_verts(primal_mesh)\n",
    "primal_polygons = PolyCollection(primal_vertices, edgecolors='Black', alpha=0.5)\n",
    "\n",
    "fig, ax = plt.subplots()\n",
    "ax.add_collection(primal_polygons, autolim=False)\n",
    "ax.set_xlim(0, 360)\n",
    "ax.set_ylim(-80, 80)\n",
    "ax.set_title(\"Primal Mesh\")"
   ]
  },
  {
   "attachments": {},
   "cell_type": "markdown",
   "metadata": {
    "collapsed": false
   },
   "source": [
    "### Dual Mesh\n",
    "\n",
    "The follwing displays the Dual Mesh, which is composed entirely of Delauny triangles."
   ]
  },
  {
   "cell_type": "code",
   "execution_count": null,
   "metadata": {
    "collapsed": false
   },
   "outputs": [],
   "source": [
    "dual_vertices = get_verts(dual_mesh)\n",
    "dual_polygons = PolyCollection(dual_vertices, edgecolors='Black', alpha=0.5)\n",
    "\n",
    "fig, ax = plt.subplots()\n",
    "ax.add_collection(dual_polygons, autolim=False)\n",
    "ax.set_xlim(0, 360)\n",
    "ax.set_ylim(-80, 80)\n",
    "ax.set_title(\"Dual Mesh\")"
   ]
  },
  {
   "attachments": {},
   "cell_type": "markdown",
   "metadata": {
    "collapsed": false
   },
   "source": [
    "## Primal and Dual\n",
    "\n",
    "As mentioned earlier, the Primal and Dual meshes are related to one another. The vertices of the Primal mesh are each at the center of a Delaunay triangle in the Dual mesh. Likewise, the vertices of the Dual mesh are each at the center of a Voronoi region in the Primal mesh. This relationship can be seen in the visualization below."
   ]
  },
  {
   "cell_type": "code",
   "execution_count": null,
   "metadata": {
    "collapsed": false
   },
   "outputs": [],
   "source": [
    "dual_vertices = get_verts(dual_mesh)\n",
    "dual_polygons = PolyCollection(dual_vertices, edgecolors='Black', alpha=0.5)\n",
    "primal_vertices = get_verts(primal_mesh)\n",
    "primal_polygons = PolyCollection(primal_vertices, edgecolors='Black', alpha=0.5)\n",
    "\n",
    "fig, ax = plt.subplots()\n",
    "ax.add_collection(primal_polygons, autolim=False)\n",
    "ax.add_collection(dual_polygons, autolim=False)\n",
    "ax.set_xlim(0, 360)\n",
    "ax.set_ylim(-80, 80)\n",
    "ax.set_title(\"Dual & Primal Mesh\")"
   ]
  },
  {
   "attachments": {},
   "cell_type": "markdown",
   "metadata": {
    "collapsed": false
   },
   "source": [
    "## References\n",
    "\n",
    "[1] https://mpas-dev.github.io/\n",
    "\n",
    "[2] https://mpas-dev.github.io/files/documents/MPAS-MeshSpec.pdf\n",
    "\n",
    "[3] http://ugrid-conventions.github.io/ugrid-conventions/"
   ]
  }
 ],
 "metadata": {
  "kernelspec": {
   "display_name": "Python 3",
   "language": "python",
   "name": "python3"
  },
  "language_info": {
   "codemirror_mode": {
    "name": "ipython",
    "version": 3
   },
   "file_extension": ".py",
   "mimetype": "text/x-python",
   "name": "python",
   "nbconvert_exporter": "python",
   "pygments_lexer": "ipython3",
   "version": "3.11.3"
  }
 },
 "nbformat": 4,
 "nbformat_minor": 0
}
