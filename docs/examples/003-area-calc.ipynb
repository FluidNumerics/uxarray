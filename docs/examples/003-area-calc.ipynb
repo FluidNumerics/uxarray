{
 "cells": [
  {
   "attachments": {},
   "cell_type": "markdown",
   "metadata": {
    "collapsed": false
   },
   "source": [
    "# Face Area Calculations\n",
    "\n",
    "## Overview\n",
    "\n",
    "This notebook will showcase the different area calculation options provided by UXarray\n",
    "\n",
    "For more details on how to load in data, check out our [previous usage\n",
    "example](https://uxarray.readthedocs.io/en/latest/examples/001-read-grid-data.html)\n",
    "\n",
    "**This notebook has the following sections:**\n",
    "1. Compute total area of all faces\n",
    "2. Options for accuracy of area calculation functions\n",
    "3. Getting area of all the faces (not total)\n",
    "4. Calculate area of a single triangle\n",
    "5. Calculate area of multiple vertices in spherical coordinates\n",
    "6. Calculate area with points, without loading a UXarray grid\n"
   ]
  },
  {
   "attachments": {},
   "cell_type": "markdown",
   "metadata": {
    "collapsed": false
   },
   "source": [
    "We will be using the `outCSne30.ug` grid file which is encoded in the UGRID convention.\n",
    "Let us first read in the data:"
   ]
  },
  {
   "cell_type": "code",
   "execution_count": null,
   "metadata": {
    "ExecuteTime": {
     "end_time": "2023-04-19T09:57:02.171354Z",
     "start_time": "2023-04-19T09:57:02.144399Z"
    },
    "collapsed": false
   },
   "outputs": [],
   "source": [
    "import uxarray as ux\n",
    "import numpy as np\n",
    "import xarray as xr"
   ]
  },
  {
   "cell_type": "code",
   "execution_count": null,
   "metadata": {
    "ExecuteTime": {
     "end_time": "2023-04-19T09:57:02.172124Z",
     "start_time": "2023-04-19T09:57:02.148439Z"
    },
    "collapsed": false
   },
   "outputs": [],
   "source": [
    "# Base data path\n",
    "base_path = \"../../test/meshfiles/\"\n",
    "\n",
    "# Path to Grid files\n",
    "ugrid_path = base_path + \"/ugrid/outCSne30/outCSne30.ug\"\n",
    "\n",
    "# Load grid files and create UXarray Grid objects\n",
    "ugrid_ds = xr.open_dataset(ugrid_path)\n",
    "\n",
    "ugrid = ux.Grid(ugrid_ds)\n",
    "ugrid.ds"
   ]
  },
  {
   "attachments": {},
   "cell_type": "markdown",
   "metadata": {
    "collapsed": false
   },
   "source": [
    "## 1. Calculate total area of all faces\n",
    "By calling the function `calculate_total_face_area()`"
   ]
  },
  {
   "cell_type": "code",
   "execution_count": null,
   "metadata": {
    "ExecuteTime": {
     "end_time": "2023-04-19T09:57:03.685968Z",
     "start_time": "2023-04-19T09:57:02.154548Z"
    },
    "collapsed": false
   },
   "outputs": [],
   "source": [
    "# Calculate total area using the ugrid object\n",
    "t4_area = ugrid.calculate_total_face_area()\n",
    "t4_area\n",
    "# 4*Pi is the area 4*3.14 = 12.56"
   ]
  },
  {
   "attachments": {},
   "cell_type": "markdown",
   "metadata": {
    "collapsed": false
   },
   "source": [
    "## 2. Options for `Grid.calculate_total_face_area` functions\n",
    "\n",
    "Quadrature Rule: gaussian or triangular\n",
    "\n",
    "Order: \n",
    "\n",
    "       1 to 10              for gaussian \n",
    "\n",
    "       1, 4, 8, 10 and 12   for triangular\n",
    "\n",
    "Default: triangular and order 4"
   ]
  },
  {
   "cell_type": "code",
   "execution_count": null,
   "metadata": {
    "ExecuteTime": {
     "end_time": "2023-04-19T09:57:03.690062Z",
     "start_time": "2023-04-19T09:57:03.687612Z"
    }
   },
   "outputs": [],
   "source": [
    "\n",
    "t1_area = ugrid.calculate_total_face_area(quadrature_rule=\"triangular\", order=1)\n",
    "t1_area"
   ]
  },
  {
   "attachments": {},
   "cell_type": "markdown",
   "metadata": {},
   "source": [
    "For the above result: notice that the area is different from the first mesh above\n",
    "\n",
    "Now we use \"triangular\" quadrature rule and order 1\n",
    "\n",
    "This is less time consuming as the order is only 1. \n",
    "Generally, gaussian quadrature rule is more accurate than the triangular quadrature rule. Also higher the order -> higher the time taken for area computation -> higher the accuracy. See `uxarray/get_quadratureDG.py` file for details on quadrature points and weights."
   ]
  },
  {
   "attachments": {},
   "cell_type": "markdown",
   "metadata": {
    "collapsed": false
   },
   "source": [
    "## 3. Getting area of all the faces (not total)\n",
    "\n",
    "We use the Grid property `face_area` to get the area of all the faces in the mesh. \n",
    "\n",
    "Calling `face_area` again will use the cached value.\n"
   ]
  },
  {
   "cell_type": "code",
   "execution_count": null,
   "metadata": {
    "ExecuteTime": {
     "end_time": "2023-04-19T09:57:03.693036Z",
     "start_time": "2023-04-19T09:57:03.690838Z"
    },
    "collapsed": false
   },
   "outputs": [],
   "source": [
    "ugrid.face_areas"
   ]
  },
  {
   "attachments": {},
   "cell_type": "markdown",
   "metadata": {
    "collapsed": false
   },
   "source": [
    "Now calculate the area again with `compute face_areas` function\n",
    "pass arguments: quadrature_rule \"gaussian\" and order 4"
   ]
  },
  {
   "cell_type": "code",
   "execution_count": null,
   "metadata": {
    "ExecuteTime": {
     "end_time": "2023-04-19T09:57:03.696254Z",
     "start_time": "2023-04-19T09:57:03.693676Z"
    }
   },
   "outputs": [],
   "source": [
    "all_face_areas = ugrid.compute_face_areas(quadrature_rule=\"gaussian\", order=4)\n",
    "g4_area = all_face_areas.sum()\n",
    "g4_area"
   ]
  },
  {
   "attachments": {},
   "cell_type": "markdown",
   "metadata": {},
   "source": [
    "Now we compare the values with actual know value and report error for each of the three cases above. Clearly, quadrature_rule=\"gaussian\", order=4 is the most accurate and quadrature_rule=\"triangular\", order=1 is the least."
   ]
  },
  {
   "cell_type": "code",
   "execution_count": null,
   "metadata": {},
   "outputs": [],
   "source": [
    "actual_area = 4 * np.pi\n",
    "diff_t4_area = np.abs(t4_area - actual_area)\n",
    "diff_t1_area = np.abs(t1_area - actual_area)\n",
    "diff_g4_area = np.abs(g4_area - actual_area)\n",
    "\n",
    "diff_t1_area, diff_t4_area, diff_g4_area"
   ]
  },
  {
   "attachments": {},
   "cell_type": "markdown",
   "metadata": {
    "collapsed": false
   },
   "source": [
    "## 4. Calculate area of a single triangle (cartesian coordinates)\n",
    "\n",
    "For this section, we define a new 1 triangle face grid with 3 vertices\n",
    "\n",
    "Assume the units in meters - this is a big triangle!"
   ]
  },
  {
   "cell_type": "code",
   "execution_count": null,
   "metadata": {
    "ExecuteTime": {
     "end_time": "2023-04-19T09:57:03.703400Z",
     "start_time": "2023-04-19T09:57:03.696048Z"
    },
    "collapsed": false
   },
   "outputs": [],
   "source": [
    "verts = [[[0.57735027, -5.77350269e-01, -0.57735027],\n",
    "         [0.57735027, 5.77350269e-01, -0.57735027],\n",
    "         [-0.57735027, 5.77350269e-01, -0.57735027]]]\n",
    "# Note: initialization using array of vertices\n",
    "\n",
    "# load our vertices into a UXarray Grid object\n",
    "vgrid = ux.Grid(verts, vertices=True,\n",
    "                        islatlon=False,\n",
    "                        concave=False)\n",
    "\n",
    "# Note the incorrect units for the x and y coordinates (expand the cell Mesh2_node_x etc.\n",
    "# See units are set as degree_east and degree_north)\n",
    "vgrid.ds"
   ]
  },
  {
   "cell_type": "code",
   "execution_count": null,
   "metadata": {
    "ExecuteTime": {
     "end_time": "2023-04-19T09:57:03.705404Z",
     "start_time": "2023-04-19T09:57:03.703896Z"
    },
    "collapsed": false
   },
   "outputs": [],
   "source": [
    "vgrid.calculate_total_face_area()"
   ]
  },
  {
   "attachments": {},
   "cell_type": "markdown",
   "metadata": {},
   "source": [
    "The above result (0.0002) is WRONG as the units are assumed to be spherical, when the coordinates are in cartesian system"
   ]
  },
  {
   "cell_type": "code",
   "execution_count": null,
   "metadata": {
    "ExecuteTime": {
     "end_time": "2023-04-19T09:57:03.733063Z",
     "start_time": "2023-04-19T09:57:03.708936Z"
    },
    "collapsed": false
   },
   "outputs": [],
   "source": [
    "# Set correct units for the x and y coordinates\n",
    "vgrid.Mesh2_node_x.attrs[\"units\"] = \"m\"\n",
    "vgrid.Mesh2_node_y.attrs[\"units\"] = \"m\"\n",
    "vgrid.Mesh2_node_z.attrs[\"units\"] = \"m\"\n",
    "\n",
    "# It is important to set the units for the x and y coordinates\n",
    "# otherwise the area will be incorrect, as the units are assumed to be spherical by default\n",
    "# Without the above setting the coordinates will be assumed to be in spherical coordinates\n",
    "# and the area will be calculated incorrectly\n",
    "\n",
    "# Calculate the area of the triangle\n",
    "area_gaussian = vgrid.calculate_total_face_area(\n",
    "            quadrature_rule=\"gaussian\", order=5)\n",
    "area_gaussian"
   ]
  },
  {
   "attachments": {},
   "cell_type": "markdown",
   "metadata": {
    "collapsed": false
   },
   "source": []
  },
  {
   "attachments": {},
   "cell_type": "markdown",
   "metadata": {
    "collapsed": false
   },
   "source": [
    "## 5. Calculate area of multiple vertices in spherical coordinates"
   ]
  },
  {
   "cell_type": "code",
   "execution_count": null,
   "metadata": {
    "ExecuteTime": {
     "end_time": "2023-04-19T09:57:03.733266Z",
     "start_time": "2023-04-19T09:57:03.712481Z"
    },
    "collapsed": false
   },
   "outputs": [],
   "source": [
    "faces_verts_ndarray = np.array([\n",
    "    np.array([[150, 10, 0], [160, 20, 0], [150, 30, 0], [135, 30, 0], [125, 20, 0],\n",
    "              [135, 10, 0]]),\n",
    "    np.array([[125, 20, 0], [135, 30, 0], [125, 60, 0], [110, 60, 0], [100, 30, 0],\n",
    "              [105, 20, 0]]),\n",
    "    np.array([[95, 10, 0], [105, 20, 0], [100, 30, 0], [85, 30, 0], [75, 20, 0],\n",
    "              [85, 10, 0]]),\n",
    "])"
   ]
  },
  {
   "cell_type": "code",
   "execution_count": null,
   "metadata": {
    "ExecuteTime": {
     "end_time": "2023-04-19T09:57:03.733502Z",
     "start_time": "2023-04-19T09:57:03.715386Z"
    },
    "collapsed": false
   },
   "outputs": [],
   "source": [
    "# load our vertices into a UXarray Grid object\n",
    "verts_grid = ux.Grid(faces_verts_ndarray, vertices=True,\n",
    "                        islatlon=True,\n",
    "                        concave=False)\n",
    "verts_grid.ds"
   ]
  },
  {
   "cell_type": "code",
   "execution_count": null,
   "metadata": {
    "ExecuteTime": {
     "end_time": "2023-04-19T09:57:03.733582Z",
     "start_time": "2023-04-19T09:57:03.724024Z"
    },
    "collapsed": false
   },
   "outputs": [],
   "source": [
    "verts_grid.face_areas"
   ]
  },
  {
   "attachments": {},
   "cell_type": "markdown",
   "metadata": {},
   "source": [
    "# 6. Calculate area with points, without loading a UXarray grid\n",
    "\n",
    "create 3 python array variables cart_x, cart_y and cart_z forming a quad face\n"
   ]
  },
  {
   "cell_type": "code",
   "execution_count": null,
   "metadata": {},
   "outputs": [],
   "source": [
    "cart_x = [\n",
    "   0.577340924821405, 0.577340924821405, 0.577340924821405,\n",
    "   0.577340924821405\n",
    "]\n",
    "cart_y = [\n",
    "   0.577343045516932, 0.577343045516932, -0.577343045516932,\n",
    "   -0.577343045516932\n",
    "]\n",
    "cart_z = [\n",
    "   0.577366836872017, -0.577366836872017, 0.577366836872017,\n",
    "   -0.577366836872017\n",
    "]\n"
   ]
  },
  {
   "attachments": {},
   "cell_type": "markdown",
   "metadata": {},
   "source": [
    "Call `helpers.calculate_face_area` fuction and set the coordinates type as \"cartesian\", default is set to spherical.\n",
    "\n",
    "Note: This function only takes in numpy array as input. UXarray Grid object is not involved in the calculation below:"
   ]
  },
  {
   "cell_type": "code",
   "execution_count": null,
   "metadata": {},
   "outputs": [],
   "source": [
    "ux.helpers.calculate_face_area(np.array(cart_x), np.array(cart_y), np.array(cart_z), coords_type=\"cartesian\")"
   ]
  }
 ],
 "metadata": {
  "kernelspec": {
   "display_name": "Python 3",
   "language": "python",
   "name": "python3"
  },
  "language_info": {
   "codemirror_mode": {
    "name": "ipython",
    "version": 3
   },
   "file_extension": ".py",
   "mimetype": "text/x-python",
   "name": "python",
   "nbconvert_exporter": "python",
   "pygments_lexer": "ipython3",
   "version": "3.10.10"
  }
 },
 "nbformat": 4,
 "nbformat_minor": 0
}
