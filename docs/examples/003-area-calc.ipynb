{
 "cells": [
  {
   "attachments": {},
   "cell_type": "markdown",
   "metadata": {
    "collapsed": false
   },
   "source": [
    "# Face Area Calculations\n",
    "\n",
    "## Overview\n",
    "\n",
    "This notebook will showcase the different area calculation options provided by UXarray\n",
    "the grid topology attributes and variables stored in the `UXarray.Grid`\n",
    "object.\n",
    "\n",
    "For more details on how to load in data, check out our [previous usage\n",
    "example](https://uxarray.readthedocs.io/en/latest/examples/read-grid-data.html)\n",
    "\n",
    "**This notebook has the following sections:**\n",
    "1. Compute total area of all faces\n",
    "2. Options for accuracy of area calculation functions\n",
    "3. Getting area of all the faces (not total)\n",
    "4. Calculate area of a single triangle\n",
    "5. Calculate area of multiple vertices in spherical coordinates\n"
   ]
  },
  {
   "cell_type": "markdown",
   "source": [
    "## 1. Load mesh files and calculate total area of all faces\n",
    "\n",
    "We will be using the `outCSne30.ug` grid file which is encoded in the UGRID convention.\n",
    "Let us first read in the data:"
   ],
   "metadata": {
    "collapsed": false
   }
  },
  {
   "cell_type": "code",
   "execution_count": 81,
   "metadata": {
    "collapsed": false,
    "ExecuteTime": {
     "start_time": "2023-04-19T09:57:02.144399Z",
     "end_time": "2023-04-19T09:57:02.171354Z"
    }
   },
   "outputs": [],
   "source": [
    "import uxarray as ux\n",
    "import numpy as np\n",
    "import xarray as xr"
   ]
  },
  {
   "cell_type": "code",
   "execution_count": 82,
   "metadata": {
    "collapsed": false,
    "ExecuteTime": {
     "start_time": "2023-04-19T09:57:02.148439Z",
     "end_time": "2023-04-19T09:57:02.172124Z"
    }
   },
   "outputs": [],
   "source": [
    "# Base data path\n",
    "base_path = \"../../test/meshfiles/\"\n",
    "\n",
    "# Path to Grid files\n",
    "ugrid_path = base_path + \"/ugrid/outCSne30/outCSne30.ug\"\n",
    "\n",
    "# Load grid files and create UXarray Grid objects\n",
    "ugrid_ds = xr.open_dataset(ugrid_path)\n",
    "\n",
    "ugrid = ux.Grid(ugrid_ds)"
   ]
  },
  {
   "attachments": {},
   "cell_type": "markdown",
   "metadata": {
    "collapsed": false
   },
   "source": [
    "Now call the function `calculate_total_face_area()` to calculate the total"
   ]
  },
  {
   "cell_type": "code",
   "execution_count": 83,
   "metadata": {
    "collapsed": false,
    "ExecuteTime": {
     "start_time": "2023-04-19T09:57:02.154548Z",
     "end_time": "2023-04-19T09:57:03.685968Z"
    }
   },
   "outputs": [
    {
     "data": {
      "text/plain": "12.566370614678554"
     },
     "execution_count": 83,
     "metadata": {},
     "output_type": "execute_result"
    }
   ],
   "source": [
    "# Calculate total area of the first (ugrid) mesh\n",
    "area = ugrid.calculate_total_face_area()\n",
    "area\n",
    "# 4 Pi is the area 4*3.14 = 12.56"
   ]
  },
  {
   "attachments": {},
   "cell_type": "markdown",
   "metadata": {
    "collapsed": false
   },
   "source": [
    "## 2. Options for `Grid.calculate_total_face_area` functions\n",
    "### Quadrature Rule: Gaussian or Triangular\n",
    "### Order: 1 to 10 for Gaussian, 1, 4, 8, 10 and 12 for triangular\n",
    "### Default: Triangular and order 4"
   ]
  },
  {
   "cell_type": "code",
   "execution_count": 84,
   "metadata": {
    "ExecuteTime": {
     "start_time": "2023-04-19T09:57:03.687612Z",
     "end_time": "2023-04-19T09:57:03.690062Z"
    }
   },
   "outputs": [
    {
     "data": {
      "text/plain": "12.566370614678554"
     },
     "execution_count": 84,
     "metadata": {},
     "output_type": "execute_result"
    }
   ],
   "source": [
    "# Notice that the area is different from the first mesh above\n",
    "# Now we use \"triangular\" quadrature rule and order 1\n",
    "# This is less time consuming as the order is only 1\n",
    "ugrid.calculate_total_face_area(quadrature_rule=\"triangular\", order=1)"
   ]
  },
  {
   "attachments": {},
   "cell_type": "markdown",
   "metadata": {
    "collapsed": false
   },
   "source": [
    "## 3. Getting area of all the faces (not total)"
   ]
  },
  {
   "cell_type": "code",
   "execution_count": 85,
   "metadata": {
    "collapsed": false,
    "ExecuteTime": {
     "start_time": "2023-04-19T09:57:03.690838Z",
     "end_time": "2023-04-19T09:57:03.693036Z"
    }
   },
   "outputs": [
    {
     "data": {
      "text/plain": "array([0.00211174, 0.00211221, 0.00210723, ..., 0.00210723, 0.00211221,\n       0.00211174])"
     },
     "execution_count": 85,
     "metadata": {},
     "output_type": "execute_result"
    }
   ],
   "source": [
    "# calling the method again will use the cached value\n",
    "ugrid.face_areas"
   ]
  },
  {
   "cell_type": "markdown",
   "source": [
    "# Now calculate the area again with \"compute face_areas\" function\n",
    "# pass arguments: quadrature_rule \"gaussian\" and order 4"
   ],
   "metadata": {
    "collapsed": false
   }
  },
  {
   "cell_type": "code",
   "execution_count": 86,
   "metadata": {
    "ExecuteTime": {
     "start_time": "2023-04-19T09:57:03.693676Z",
     "end_time": "2023-04-19T09:57:03.696254Z"
    }
   },
   "outputs": [
    {
     "data": {
      "text/plain": "12.566370614678554"
     },
     "execution_count": 86,
     "metadata": {},
     "output_type": "execute_result"
    }
   ],
   "source": [
    "all_face_areas = ugrid.compute_face_areas(quadrature_rule=\"gaussian\", order=4)\n",
    "all_face_areas.sum()"
   ]
  },
  {
   "attachments": {},
   "cell_type": "markdown",
   "metadata": {
    "collapsed": false
   },
   "source": [
    "## 4. Calculate area of a single triangle (cartesian coordinates)"
   ]
  },
  {
   "cell_type": "code",
   "execution_count": 87,
   "metadata": {
    "collapsed": false,
    "ExecuteTime": {
     "start_time": "2023-04-19T09:57:03.696048Z",
     "end_time": "2023-04-19T09:57:03.703400Z"
    }
   },
   "outputs": [
    {
     "data": {
      "text/plain": "<xarray.Dataset>\nDimensions:           (nMesh2_node: 3, nMesh2_face: 1, nMaxMesh2_face_nodes: 3)\nDimensions without coordinates: nMesh2_node, nMesh2_face, nMaxMesh2_face_nodes\nData variables:\n    Mesh2             float64 nan\n    Mesh2_node_x      (nMesh2_node) float64 -0.5774 0.5774 0.5774\n    Mesh2_node_y      (nMesh2_node) float64 0.5774 -0.5774 0.5774\n    Mesh2_node_z      (nMesh2_node) float64 -0.5774 -0.5774 -0.5774\n    Mesh2_face_nodes  (nMesh2_face, nMaxMesh2_face_nodes) uint64 1 2 0",
      "text/html": "<div><svg style=\"position: absolute; width: 0; height: 0; overflow: hidden\">\n<defs>\n<symbol id=\"icon-database\" viewBox=\"0 0 32 32\">\n<path d=\"M16 0c-8.837 0-16 2.239-16 5v4c0 2.761 7.163 5 16 5s16-2.239 16-5v-4c0-2.761-7.163-5-16-5z\"></path>\n<path d=\"M16 17c-8.837 0-16-2.239-16-5v6c0 2.761 7.163 5 16 5s16-2.239 16-5v-6c0 2.761-7.163 5-16 5z\"></path>\n<path d=\"M16 26c-8.837 0-16-2.239-16-5v6c0 2.761 7.163 5 16 5s16-2.239 16-5v-6c0 2.761-7.163 5-16 5z\"></path>\n</symbol>\n<symbol id=\"icon-file-text2\" viewBox=\"0 0 32 32\">\n<path d=\"M28.681 7.159c-0.694-0.947-1.662-2.053-2.724-3.116s-2.169-2.030-3.116-2.724c-1.612-1.182-2.393-1.319-2.841-1.319h-15.5c-1.378 0-2.5 1.121-2.5 2.5v27c0 1.378 1.122 2.5 2.5 2.5h23c1.378 0 2.5-1.122 2.5-2.5v-19.5c0-0.448-0.137-1.23-1.319-2.841zM24.543 5.457c0.959 0.959 1.712 1.825 2.268 2.543h-4.811v-4.811c0.718 0.556 1.584 1.309 2.543 2.268zM28 29.5c0 0.271-0.229 0.5-0.5 0.5h-23c-0.271 0-0.5-0.229-0.5-0.5v-27c0-0.271 0.229-0.5 0.5-0.5 0 0 15.499-0 15.5 0v7c0 0.552 0.448 1 1 1h7v19.5z\"></path>\n<path d=\"M23 26h-14c-0.552 0-1-0.448-1-1s0.448-1 1-1h14c0.552 0 1 0.448 1 1s-0.448 1-1 1z\"></path>\n<path d=\"M23 22h-14c-0.552 0-1-0.448-1-1s0.448-1 1-1h14c0.552 0 1 0.448 1 1s-0.448 1-1 1z\"></path>\n<path d=\"M23 18h-14c-0.552 0-1-0.448-1-1s0.448-1 1-1h14c0.552 0 1 0.448 1 1s-0.448 1-1 1z\"></path>\n</symbol>\n</defs>\n</svg>\n<style>/* CSS stylesheet for displaying xarray objects in jupyterlab.\n *\n */\n\n:root {\n  --xr-font-color0: var(--jp-content-font-color0, rgba(0, 0, 0, 1));\n  --xr-font-color2: var(--jp-content-font-color2, rgba(0, 0, 0, 0.54));\n  --xr-font-color3: var(--jp-content-font-color3, rgba(0, 0, 0, 0.38));\n  --xr-border-color: var(--jp-border-color2, #e0e0e0);\n  --xr-disabled-color: var(--jp-layout-color3, #bdbdbd);\n  --xr-background-color: var(--jp-layout-color0, white);\n  --xr-background-color-row-even: var(--jp-layout-color1, white);\n  --xr-background-color-row-odd: var(--jp-layout-color2, #eeeeee);\n}\n\nhtml[theme=dark],\nbody[data-theme=dark],\nbody.vscode-dark {\n  --xr-font-color0: rgba(255, 255, 255, 1);\n  --xr-font-color2: rgba(255, 255, 255, 0.54);\n  --xr-font-color3: rgba(255, 255, 255, 0.38);\n  --xr-border-color: #1F1F1F;\n  --xr-disabled-color: #515151;\n  --xr-background-color: #111111;\n  --xr-background-color-row-even: #111111;\n  --xr-background-color-row-odd: #313131;\n}\n\n.xr-wrap {\n  display: block !important;\n  min-width: 300px;\n  max-width: 700px;\n}\n\n.xr-text-repr-fallback {\n  /* fallback to plain text repr when CSS is not injected (untrusted notebook) */\n  display: none;\n}\n\n.xr-header {\n  padding-top: 6px;\n  padding-bottom: 6px;\n  margin-bottom: 4px;\n  border-bottom: solid 1px var(--xr-border-color);\n}\n\n.xr-header > div,\n.xr-header > ul {\n  display: inline;\n  margin-top: 0;\n  margin-bottom: 0;\n}\n\n.xr-obj-type,\n.xr-array-name {\n  margin-left: 2px;\n  margin-right: 10px;\n}\n\n.xr-obj-type {\n  color: var(--xr-font-color2);\n}\n\n.xr-sections {\n  padding-left: 0 !important;\n  display: grid;\n  grid-template-columns: 150px auto auto 1fr 20px 20px;\n}\n\n.xr-section-item {\n  display: contents;\n}\n\n.xr-section-item input {\n  display: none;\n}\n\n.xr-section-item input + label {\n  color: var(--xr-disabled-color);\n}\n\n.xr-section-item input:enabled + label {\n  cursor: pointer;\n  color: var(--xr-font-color2);\n}\n\n.xr-section-item input:enabled + label:hover {\n  color: var(--xr-font-color0);\n}\n\n.xr-section-summary {\n  grid-column: 1;\n  color: var(--xr-font-color2);\n  font-weight: 500;\n}\n\n.xr-section-summary > span {\n  display: inline-block;\n  padding-left: 0.5em;\n}\n\n.xr-section-summary-in:disabled + label {\n  color: var(--xr-font-color2);\n}\n\n.xr-section-summary-in + label:before {\n  display: inline-block;\n  content: '►';\n  font-size: 11px;\n  width: 15px;\n  text-align: center;\n}\n\n.xr-section-summary-in:disabled + label:before {\n  color: var(--xr-disabled-color);\n}\n\n.xr-section-summary-in:checked + label:before {\n  content: '▼';\n}\n\n.xr-section-summary-in:checked + label > span {\n  display: none;\n}\n\n.xr-section-summary,\n.xr-section-inline-details {\n  padding-top: 4px;\n  padding-bottom: 4px;\n}\n\n.xr-section-inline-details {\n  grid-column: 2 / -1;\n}\n\n.xr-section-details {\n  display: none;\n  grid-column: 1 / -1;\n  margin-bottom: 5px;\n}\n\n.xr-section-summary-in:checked ~ .xr-section-details {\n  display: contents;\n}\n\n.xr-array-wrap {\n  grid-column: 1 / -1;\n  display: grid;\n  grid-template-columns: 20px auto;\n}\n\n.xr-array-wrap > label {\n  grid-column: 1;\n  vertical-align: top;\n}\n\n.xr-preview {\n  color: var(--xr-font-color3);\n}\n\n.xr-array-preview,\n.xr-array-data {\n  padding: 0 5px !important;\n  grid-column: 2;\n}\n\n.xr-array-data,\n.xr-array-in:checked ~ .xr-array-preview {\n  display: none;\n}\n\n.xr-array-in:checked ~ .xr-array-data,\n.xr-array-preview {\n  display: inline-block;\n}\n\n.xr-dim-list {\n  display: inline-block !important;\n  list-style: none;\n  padding: 0 !important;\n  margin: 0;\n}\n\n.xr-dim-list li {\n  display: inline-block;\n  padding: 0;\n  margin: 0;\n}\n\n.xr-dim-list:before {\n  content: '(';\n}\n\n.xr-dim-list:after {\n  content: ')';\n}\n\n.xr-dim-list li:not(:last-child):after {\n  content: ',';\n  padding-right: 5px;\n}\n\n.xr-has-index {\n  font-weight: bold;\n}\n\n.xr-var-list,\n.xr-var-item {\n  display: contents;\n}\n\n.xr-var-item > div,\n.xr-var-item label,\n.xr-var-item > .xr-var-name span {\n  background-color: var(--xr-background-color-row-even);\n  margin-bottom: 0;\n}\n\n.xr-var-item > .xr-var-name:hover span {\n  padding-right: 5px;\n}\n\n.xr-var-list > li:nth-child(odd) > div,\n.xr-var-list > li:nth-child(odd) > label,\n.xr-var-list > li:nth-child(odd) > .xr-var-name span {\n  background-color: var(--xr-background-color-row-odd);\n}\n\n.xr-var-name {\n  grid-column: 1;\n}\n\n.xr-var-dims {\n  grid-column: 2;\n}\n\n.xr-var-dtype {\n  grid-column: 3;\n  text-align: right;\n  color: var(--xr-font-color2);\n}\n\n.xr-var-preview {\n  grid-column: 4;\n}\n\n.xr-index-preview {\n  grid-column: 2 / 5;\n  color: var(--xr-font-color2);\n}\n\n.xr-var-name,\n.xr-var-dims,\n.xr-var-dtype,\n.xr-preview,\n.xr-attrs dt {\n  white-space: nowrap;\n  overflow: hidden;\n  text-overflow: ellipsis;\n  padding-right: 10px;\n}\n\n.xr-var-name:hover,\n.xr-var-dims:hover,\n.xr-var-dtype:hover,\n.xr-attrs dt:hover {\n  overflow: visible;\n  width: auto;\n  z-index: 1;\n}\n\n.xr-var-attrs,\n.xr-var-data,\n.xr-index-data {\n  display: none;\n  background-color: var(--xr-background-color) !important;\n  padding-bottom: 5px !important;\n}\n\n.xr-var-attrs-in:checked ~ .xr-var-attrs,\n.xr-var-data-in:checked ~ .xr-var-data,\n.xr-index-data-in:checked ~ .xr-index-data {\n  display: block;\n}\n\n.xr-var-data > table {\n  float: right;\n}\n\n.xr-var-name span,\n.xr-var-data,\n.xr-index-name div,\n.xr-index-data,\n.xr-attrs {\n  padding-left: 25px !important;\n}\n\n.xr-attrs,\n.xr-var-attrs,\n.xr-var-data,\n.xr-index-data {\n  grid-column: 1 / -1;\n}\n\ndl.xr-attrs {\n  padding: 0;\n  margin: 0;\n  display: grid;\n  grid-template-columns: 125px auto;\n}\n\n.xr-attrs dt,\n.xr-attrs dd {\n  padding: 0;\n  margin: 0;\n  float: left;\n  padding-right: 10px;\n  width: auto;\n}\n\n.xr-attrs dt {\n  font-weight: normal;\n  grid-column: 1;\n}\n\n.xr-attrs dt:hover span {\n  display: inline-block;\n  background: var(--xr-background-color);\n  padding-right: 10px;\n}\n\n.xr-attrs dd {\n  grid-column: 2;\n  white-space: pre-wrap;\n  word-break: break-all;\n}\n\n.xr-icon-database,\n.xr-icon-file-text2,\n.xr-no-icon {\n  display: inline-block;\n  vertical-align: middle;\n  width: 1em;\n  height: 1.5em !important;\n  stroke-width: 0;\n  stroke: currentColor;\n  fill: currentColor;\n}\n</style><pre class='xr-text-repr-fallback'>&lt;xarray.Dataset&gt;\nDimensions:           (nMesh2_node: 3, nMesh2_face: 1, nMaxMesh2_face_nodes: 3)\nDimensions without coordinates: nMesh2_node, nMesh2_face, nMaxMesh2_face_nodes\nData variables:\n    Mesh2             float64 nan\n    Mesh2_node_x      (nMesh2_node) float64 -0.5774 0.5774 0.5774\n    Mesh2_node_y      (nMesh2_node) float64 0.5774 -0.5774 0.5774\n    Mesh2_node_z      (nMesh2_node) float64 -0.5774 -0.5774 -0.5774\n    Mesh2_face_nodes  (nMesh2_face, nMaxMesh2_face_nodes) uint64 1 2 0</pre><div class='xr-wrap' style='display:none'><div class='xr-header'><div class='xr-obj-type'>xarray.Dataset</div></div><ul class='xr-sections'><li class='xr-section-item'><input id='section-0b7864f1-6a7f-405e-a3e3-4f3e61331754' class='xr-section-summary-in' type='checkbox' disabled ><label for='section-0b7864f1-6a7f-405e-a3e3-4f3e61331754' class='xr-section-summary'  title='Expand/collapse section'>Dimensions:</label><div class='xr-section-inline-details'><ul class='xr-dim-list'><li><span>nMesh2_node</span>: 3</li><li><span>nMesh2_face</span>: 1</li><li><span>nMaxMesh2_face_nodes</span>: 3</li></ul></div><div class='xr-section-details'></div></li><li class='xr-section-item'><input id='section-bc404d5a-f5da-45fc-b629-abd2dade097f' class='xr-section-summary-in' type='checkbox' disabled ><label for='section-bc404d5a-f5da-45fc-b629-abd2dade097f' class='xr-section-summary'  title='Expand/collapse section'>Coordinates: <span>(0)</span></label><div class='xr-section-inline-details'></div><div class='xr-section-details'><ul class='xr-var-list'></ul></div></li><li class='xr-section-item'><input id='section-b4e9508e-08ae-49a6-b206-13e6d5e693ec' class='xr-section-summary-in' type='checkbox'  checked><label for='section-b4e9508e-08ae-49a6-b206-13e6d5e693ec' class='xr-section-summary' >Data variables: <span>(5)</span></label><div class='xr-section-inline-details'></div><div class='xr-section-details'><ul class='xr-var-list'><li class='xr-var-item'><div class='xr-var-name'><span>Mesh2</span></div><div class='xr-var-dims'>()</div><div class='xr-var-dtype'>float64</div><div class='xr-var-preview xr-preview'>nan</div><input id='attrs-a8ac3cb9-7264-4a9e-9970-71777c03707e' class='xr-var-attrs-in' type='checkbox' ><label for='attrs-a8ac3cb9-7264-4a9e-9970-71777c03707e' title='Show/Hide attributes'><svg class='icon xr-icon-file-text2'><use xlink:href='#icon-file-text2'></use></svg></label><input id='data-4a694d90-f863-4e50-a7e4-7a6d19912f61' class='xr-var-data-in' type='checkbox'><label for='data-4a694d90-f863-4e50-a7e4-7a6d19912f61' title='Show/Hide data repr'><svg class='icon xr-icon-database'><use xlink:href='#icon-database'></use></svg></label><div class='xr-var-attrs'><dl class='xr-attrs'><dt><span>cf_role :</span></dt><dd>mesh_topology</dd><dt><span>long_name :</span></dt><dd>Topology data of unstructured mesh</dd><dt><span>topology_dimension :</span></dt><dd>3</dd><dt><span>node_coordinates :</span></dt><dd>Mesh2_node_x Mesh2_node_y Mesh2_node_z</dd><dt><span>node_dimension :</span></dt><dd>nMesh2_node</dd><dt><span>face_node_connectivity :</span></dt><dd>Mesh2_face_nodes</dd><dt><span>face_dimension :</span></dt><dd>nMesh2_face</dd></dl></div><div class='xr-var-data'><pre>array(nan)</pre></div></li><li class='xr-var-item'><div class='xr-var-name'><span>Mesh2_node_x</span></div><div class='xr-var-dims'>(nMesh2_node)</div><div class='xr-var-dtype'>float64</div><div class='xr-var-preview xr-preview'>-0.5774 0.5774 0.5774</div><input id='attrs-a7cf7c8d-80a9-41cc-8e33-e24064bedb11' class='xr-var-attrs-in' type='checkbox' ><label for='attrs-a7cf7c8d-80a9-41cc-8e33-e24064bedb11' title='Show/Hide attributes'><svg class='icon xr-icon-file-text2'><use xlink:href='#icon-file-text2'></use></svg></label><input id='data-ef150b94-25b3-4ee8-8d7e-fc34bcd7f888' class='xr-var-data-in' type='checkbox'><label for='data-ef150b94-25b3-4ee8-8d7e-fc34bcd7f888' title='Show/Hide data repr'><svg class='icon xr-icon-database'><use xlink:href='#icon-database'></use></svg></label><div class='xr-var-attrs'><dl class='xr-attrs'><dt><span>units :</span></dt><dd>degrees_east</dd></dl></div><div class='xr-var-data'><pre>array([-0.57735027,  0.57735027,  0.57735027])</pre></div></li><li class='xr-var-item'><div class='xr-var-name'><span>Mesh2_node_y</span></div><div class='xr-var-dims'>(nMesh2_node)</div><div class='xr-var-dtype'>float64</div><div class='xr-var-preview xr-preview'>0.5774 -0.5774 0.5774</div><input id='attrs-1501434a-0bb2-487a-b10c-cc8edc066e8c' class='xr-var-attrs-in' type='checkbox' ><label for='attrs-1501434a-0bb2-487a-b10c-cc8edc066e8c' title='Show/Hide attributes'><svg class='icon xr-icon-file-text2'><use xlink:href='#icon-file-text2'></use></svg></label><input id='data-95696889-8d47-4df5-99c2-97e6786e66a4' class='xr-var-data-in' type='checkbox'><label for='data-95696889-8d47-4df5-99c2-97e6786e66a4' title='Show/Hide data repr'><svg class='icon xr-icon-database'><use xlink:href='#icon-database'></use></svg></label><div class='xr-var-attrs'><dl class='xr-attrs'><dt><span>units :</span></dt><dd>degrees_north</dd></dl></div><div class='xr-var-data'><pre>array([ 0.57735027, -0.57735027,  0.57735027])</pre></div></li><li class='xr-var-item'><div class='xr-var-name'><span>Mesh2_node_z</span></div><div class='xr-var-dims'>(nMesh2_node)</div><div class='xr-var-dtype'>float64</div><div class='xr-var-preview xr-preview'>-0.5774 -0.5774 -0.5774</div><input id='attrs-f78a1899-afb4-4fb8-8441-fa691322c0b9' class='xr-var-attrs-in' type='checkbox' ><label for='attrs-f78a1899-afb4-4fb8-8441-fa691322c0b9' title='Show/Hide attributes'><svg class='icon xr-icon-file-text2'><use xlink:href='#icon-file-text2'></use></svg></label><input id='data-c601f105-6643-455a-a2b2-d9e3f6765d21' class='xr-var-data-in' type='checkbox'><label for='data-c601f105-6643-455a-a2b2-d9e3f6765d21' title='Show/Hide data repr'><svg class='icon xr-icon-database'><use xlink:href='#icon-database'></use></svg></label><div class='xr-var-attrs'><dl class='xr-attrs'><dt><span>units :</span></dt><dd>elevation</dd></dl></div><div class='xr-var-data'><pre>array([-0.57735027, -0.57735027, -0.57735027])</pre></div></li><li class='xr-var-item'><div class='xr-var-name'><span>Mesh2_face_nodes</span></div><div class='xr-var-dims'>(nMesh2_face, nMaxMesh2_face_nodes)</div><div class='xr-var-dtype'>uint64</div><div class='xr-var-preview xr-preview'>1 2 0</div><input id='attrs-2d53f76d-8cf9-4a1c-aa53-fb38e1f46bd0' class='xr-var-attrs-in' type='checkbox' ><label for='attrs-2d53f76d-8cf9-4a1c-aa53-fb38e1f46bd0' title='Show/Hide attributes'><svg class='icon xr-icon-file-text2'><use xlink:href='#icon-file-text2'></use></svg></label><input id='data-b7a76df0-d468-4f82-8688-9c8a771db040' class='xr-var-data-in' type='checkbox'><label for='data-b7a76df0-d468-4f82-8688-9c8a771db040' title='Show/Hide data repr'><svg class='icon xr-icon-database'><use xlink:href='#icon-database'></use></svg></label><div class='xr-var-attrs'><dl class='xr-attrs'><dt><span>cf_role :</span></dt><dd>face_node_connectivity</dd><dt><span>_FillValue :</span></dt><dd>18446744073709551615</dd><dt><span>start_index :</span></dt><dd>0</dd></dl></div><div class='xr-var-data'><pre>array([[1, 2, 0]], dtype=uint64)</pre></div></li></ul></div></li><li class='xr-section-item'><input id='section-b7b0466c-fa57-4682-abee-3a9f13dabca5' class='xr-section-summary-in' type='checkbox' disabled ><label for='section-b7b0466c-fa57-4682-abee-3a9f13dabca5' class='xr-section-summary'  title='Expand/collapse section'>Indexes: <span>(0)</span></label><div class='xr-section-inline-details'></div><div class='xr-section-details'><ul class='xr-var-list'></ul></div></li><li class='xr-section-item'><input id='section-c1bb825a-1dd8-44fa-9c0b-c6df1a144fc5' class='xr-section-summary-in' type='checkbox' disabled ><label for='section-c1bb825a-1dd8-44fa-9c0b-c6df1a144fc5' class='xr-section-summary'  title='Expand/collapse section'>Attributes: <span>(0)</span></label><div class='xr-section-inline-details'></div><div class='xr-section-details'><dl class='xr-attrs'></dl></div></li></ul></div></div>"
     },
     "execution_count": 87,
     "metadata": {},
     "output_type": "execute_result"
    }
   ],
   "source": [
    "# define a new grid with 3 vertices\n",
    "# Assume the units in meters - this is a big triangle\n",
    "verts = [[[0.57735027, -5.77350269e-01, -0.57735027],\n",
    "         [0.57735027, 5.77350269e-01, -0.57735027],\n",
    "         [-0.57735027, 5.77350269e-01, -0.57735027]]]\n",
    "# Note: initialization using array of vertices\n",
    "\n",
    "# load our vertices into a UXarray Grid object\n",
    "vgrid = ux.Grid(verts, vertices=True,\n",
    "                        islatlon=False,\n",
    "                        concave=False)\n",
    "\n",
    "# Note the incorrect units for the x and y coordinates (expand the cell Mesh2_node_x etc. to see)\n",
    "vgrid.ds"
   ]
  },
  {
   "cell_type": "code",
   "execution_count": 88,
   "outputs": [],
   "source": [
    "# vgrid.calculate_total_face_area()\n",
    "# This in incorrect as the units are not in meters"
   ],
   "metadata": {
    "collapsed": false,
    "ExecuteTime": {
     "start_time": "2023-04-19T09:57:03.703896Z",
     "end_time": "2023-04-19T09:57:03.705404Z"
    }
   }
  },
  {
   "cell_type": "code",
   "execution_count": 89,
   "outputs": [
    {
     "data": {
      "text/plain": "1.0475702709086985"
     },
     "execution_count": 89,
     "metadata": {},
     "output_type": "execute_result"
    }
   ],
   "source": [
    "# Set correct units for the x and y coordinates\n",
    "vgrid.Mesh2_node_x.attrs[\"units\"] = \"m\"\n",
    "vgrid.Mesh2_node_y.attrs[\"units\"] = \"m\"\n",
    "vgrid.Mesh2_node_z.attrs[\"units\"] = \"m\"\n",
    "\n",
    "# It is important to set the units for the x and y coordinates\n",
    "# otherwise the area will be incorrect, as the units are assumed to be spherical by default\n",
    "# Without the above setting the coordinates will be assumed to be in spherical coordinates\n",
    "# and the area will be calculated incorrectly\n",
    "\n",
    "# Calculate the area of the triangle\n",
    "area_gaussian = vgrid.calculate_total_face_area(\n",
    "            quadrature_rule=\"gaussian\", order=5)\n",
    "area_gaussian"
   ],
   "metadata": {
    "collapsed": false,
    "ExecuteTime": {
     "start_time": "2023-04-19T09:57:03.708936Z",
     "end_time": "2023-04-19T09:57:03.733063Z"
    }
   }
  },
  {
   "cell_type": "markdown",
   "source": [],
   "metadata": {
    "collapsed": false
   }
  },
  {
   "attachments": {},
   "cell_type": "markdown",
   "metadata": {
    "collapsed": false
   },
   "source": [
    "## 5. Calculate area of multiple vertices in spherical coordinates"
   ]
  },
  {
   "cell_type": "code",
   "execution_count": 90,
   "outputs": [],
   "source": [
    "faces_verts_ndarray = np.array([\n",
    "    np.array([[150, 10, 0], [160, 20, 0], [150, 30, 0], [135, 30, 0], [125, 20, 0],\n",
    "              [135, 10, 0]]),\n",
    "    np.array([[125, 20, 0], [135, 30, 0], [125, 60, 0], [110, 60, 0], [100, 30, 0],\n",
    "              [105, 20, 0]]),\n",
    "    np.array([[95, 10, 0], [105, 20, 0], [100, 30, 0], [85, 30, 0], [75, 20, 0],\n",
    "              [85, 10, 0]]),\n",
    "])"
   ],
   "metadata": {
    "collapsed": false,
    "ExecuteTime": {
     "start_time": "2023-04-19T09:57:03.712481Z",
     "end_time": "2023-04-19T09:57:03.733266Z"
    }
   }
  },
  {
   "cell_type": "code",
   "execution_count": 91,
   "outputs": [
    {
     "data": {
      "text/plain": "<xarray.Dataset>\nDimensions:           (nMesh2_node: 14, nMesh2_face: 3, nMaxMesh2_face_nodes: 6)\nDimensions without coordinates: nMesh2_node, nMesh2_face, nMaxMesh2_face_nodes\nData variables:\n    Mesh2             float64 nan\n    Mesh2_node_x      (nMesh2_node) int64 75 85 85 95 100 ... 135 150 150 160\n    Mesh2_node_y      (nMesh2_node) int64 20 10 30 10 30 20 ... 10 30 10 30 20\n    Mesh2_node_z      (nMesh2_node) int64 0 0 0 0 0 0 0 0 0 0 0 0 0 0\n    Mesh2_face_nodes  (nMesh2_face, nMaxMesh2_face_nodes) uint64 11 13 ... 0 1",
      "text/html": "<div><svg style=\"position: absolute; width: 0; height: 0; overflow: hidden\">\n<defs>\n<symbol id=\"icon-database\" viewBox=\"0 0 32 32\">\n<path d=\"M16 0c-8.837 0-16 2.239-16 5v4c0 2.761 7.163 5 16 5s16-2.239 16-5v-4c0-2.761-7.163-5-16-5z\"></path>\n<path d=\"M16 17c-8.837 0-16-2.239-16-5v6c0 2.761 7.163 5 16 5s16-2.239 16-5v-6c0 2.761-7.163 5-16 5z\"></path>\n<path d=\"M16 26c-8.837 0-16-2.239-16-5v6c0 2.761 7.163 5 16 5s16-2.239 16-5v-6c0 2.761-7.163 5-16 5z\"></path>\n</symbol>\n<symbol id=\"icon-file-text2\" viewBox=\"0 0 32 32\">\n<path d=\"M28.681 7.159c-0.694-0.947-1.662-2.053-2.724-3.116s-2.169-2.030-3.116-2.724c-1.612-1.182-2.393-1.319-2.841-1.319h-15.5c-1.378 0-2.5 1.121-2.5 2.5v27c0 1.378 1.122 2.5 2.5 2.5h23c1.378 0 2.5-1.122 2.5-2.5v-19.5c0-0.448-0.137-1.23-1.319-2.841zM24.543 5.457c0.959 0.959 1.712 1.825 2.268 2.543h-4.811v-4.811c0.718 0.556 1.584 1.309 2.543 2.268zM28 29.5c0 0.271-0.229 0.5-0.5 0.5h-23c-0.271 0-0.5-0.229-0.5-0.5v-27c0-0.271 0.229-0.5 0.5-0.5 0 0 15.499-0 15.5 0v7c0 0.552 0.448 1 1 1h7v19.5z\"></path>\n<path d=\"M23 26h-14c-0.552 0-1-0.448-1-1s0.448-1 1-1h14c0.552 0 1 0.448 1 1s-0.448 1-1 1z\"></path>\n<path d=\"M23 22h-14c-0.552 0-1-0.448-1-1s0.448-1 1-1h14c0.552 0 1 0.448 1 1s-0.448 1-1 1z\"></path>\n<path d=\"M23 18h-14c-0.552 0-1-0.448-1-1s0.448-1 1-1h14c0.552 0 1 0.448 1 1s-0.448 1-1 1z\"></path>\n</symbol>\n</defs>\n</svg>\n<style>/* CSS stylesheet for displaying xarray objects in jupyterlab.\n *\n */\n\n:root {\n  --xr-font-color0: var(--jp-content-font-color0, rgba(0, 0, 0, 1));\n  --xr-font-color2: var(--jp-content-font-color2, rgba(0, 0, 0, 0.54));\n  --xr-font-color3: var(--jp-content-font-color3, rgba(0, 0, 0, 0.38));\n  --xr-border-color: var(--jp-border-color2, #e0e0e0);\n  --xr-disabled-color: var(--jp-layout-color3, #bdbdbd);\n  --xr-background-color: var(--jp-layout-color0, white);\n  --xr-background-color-row-even: var(--jp-layout-color1, white);\n  --xr-background-color-row-odd: var(--jp-layout-color2, #eeeeee);\n}\n\nhtml[theme=dark],\nbody[data-theme=dark],\nbody.vscode-dark {\n  --xr-font-color0: rgba(255, 255, 255, 1);\n  --xr-font-color2: rgba(255, 255, 255, 0.54);\n  --xr-font-color3: rgba(255, 255, 255, 0.38);\n  --xr-border-color: #1F1F1F;\n  --xr-disabled-color: #515151;\n  --xr-background-color: #111111;\n  --xr-background-color-row-even: #111111;\n  --xr-background-color-row-odd: #313131;\n}\n\n.xr-wrap {\n  display: block !important;\n  min-width: 300px;\n  max-width: 700px;\n}\n\n.xr-text-repr-fallback {\n  /* fallback to plain text repr when CSS is not injected (untrusted notebook) */\n  display: none;\n}\n\n.xr-header {\n  padding-top: 6px;\n  padding-bottom: 6px;\n  margin-bottom: 4px;\n  border-bottom: solid 1px var(--xr-border-color);\n}\n\n.xr-header > div,\n.xr-header > ul {\n  display: inline;\n  margin-top: 0;\n  margin-bottom: 0;\n}\n\n.xr-obj-type,\n.xr-array-name {\n  margin-left: 2px;\n  margin-right: 10px;\n}\n\n.xr-obj-type {\n  color: var(--xr-font-color2);\n}\n\n.xr-sections {\n  padding-left: 0 !important;\n  display: grid;\n  grid-template-columns: 150px auto auto 1fr 20px 20px;\n}\n\n.xr-section-item {\n  display: contents;\n}\n\n.xr-section-item input {\n  display: none;\n}\n\n.xr-section-item input + label {\n  color: var(--xr-disabled-color);\n}\n\n.xr-section-item input:enabled + label {\n  cursor: pointer;\n  color: var(--xr-font-color2);\n}\n\n.xr-section-item input:enabled + label:hover {\n  color: var(--xr-font-color0);\n}\n\n.xr-section-summary {\n  grid-column: 1;\n  color: var(--xr-font-color2);\n  font-weight: 500;\n}\n\n.xr-section-summary > span {\n  display: inline-block;\n  padding-left: 0.5em;\n}\n\n.xr-section-summary-in:disabled + label {\n  color: var(--xr-font-color2);\n}\n\n.xr-section-summary-in + label:before {\n  display: inline-block;\n  content: '►';\n  font-size: 11px;\n  width: 15px;\n  text-align: center;\n}\n\n.xr-section-summary-in:disabled + label:before {\n  color: var(--xr-disabled-color);\n}\n\n.xr-section-summary-in:checked + label:before {\n  content: '▼';\n}\n\n.xr-section-summary-in:checked + label > span {\n  display: none;\n}\n\n.xr-section-summary,\n.xr-section-inline-details {\n  padding-top: 4px;\n  padding-bottom: 4px;\n}\n\n.xr-section-inline-details {\n  grid-column: 2 / -1;\n}\n\n.xr-section-details {\n  display: none;\n  grid-column: 1 / -1;\n  margin-bottom: 5px;\n}\n\n.xr-section-summary-in:checked ~ .xr-section-details {\n  display: contents;\n}\n\n.xr-array-wrap {\n  grid-column: 1 / -1;\n  display: grid;\n  grid-template-columns: 20px auto;\n}\n\n.xr-array-wrap > label {\n  grid-column: 1;\n  vertical-align: top;\n}\n\n.xr-preview {\n  color: var(--xr-font-color3);\n}\n\n.xr-array-preview,\n.xr-array-data {\n  padding: 0 5px !important;\n  grid-column: 2;\n}\n\n.xr-array-data,\n.xr-array-in:checked ~ .xr-array-preview {\n  display: none;\n}\n\n.xr-array-in:checked ~ .xr-array-data,\n.xr-array-preview {\n  display: inline-block;\n}\n\n.xr-dim-list {\n  display: inline-block !important;\n  list-style: none;\n  padding: 0 !important;\n  margin: 0;\n}\n\n.xr-dim-list li {\n  display: inline-block;\n  padding: 0;\n  margin: 0;\n}\n\n.xr-dim-list:before {\n  content: '(';\n}\n\n.xr-dim-list:after {\n  content: ')';\n}\n\n.xr-dim-list li:not(:last-child):after {\n  content: ',';\n  padding-right: 5px;\n}\n\n.xr-has-index {\n  font-weight: bold;\n}\n\n.xr-var-list,\n.xr-var-item {\n  display: contents;\n}\n\n.xr-var-item > div,\n.xr-var-item label,\n.xr-var-item > .xr-var-name span {\n  background-color: var(--xr-background-color-row-even);\n  margin-bottom: 0;\n}\n\n.xr-var-item > .xr-var-name:hover span {\n  padding-right: 5px;\n}\n\n.xr-var-list > li:nth-child(odd) > div,\n.xr-var-list > li:nth-child(odd) > label,\n.xr-var-list > li:nth-child(odd) > .xr-var-name span {\n  background-color: var(--xr-background-color-row-odd);\n}\n\n.xr-var-name {\n  grid-column: 1;\n}\n\n.xr-var-dims {\n  grid-column: 2;\n}\n\n.xr-var-dtype {\n  grid-column: 3;\n  text-align: right;\n  color: var(--xr-font-color2);\n}\n\n.xr-var-preview {\n  grid-column: 4;\n}\n\n.xr-index-preview {\n  grid-column: 2 / 5;\n  color: var(--xr-font-color2);\n}\n\n.xr-var-name,\n.xr-var-dims,\n.xr-var-dtype,\n.xr-preview,\n.xr-attrs dt {\n  white-space: nowrap;\n  overflow: hidden;\n  text-overflow: ellipsis;\n  padding-right: 10px;\n}\n\n.xr-var-name:hover,\n.xr-var-dims:hover,\n.xr-var-dtype:hover,\n.xr-attrs dt:hover {\n  overflow: visible;\n  width: auto;\n  z-index: 1;\n}\n\n.xr-var-attrs,\n.xr-var-data,\n.xr-index-data {\n  display: none;\n  background-color: var(--xr-background-color) !important;\n  padding-bottom: 5px !important;\n}\n\n.xr-var-attrs-in:checked ~ .xr-var-attrs,\n.xr-var-data-in:checked ~ .xr-var-data,\n.xr-index-data-in:checked ~ .xr-index-data {\n  display: block;\n}\n\n.xr-var-data > table {\n  float: right;\n}\n\n.xr-var-name span,\n.xr-var-data,\n.xr-index-name div,\n.xr-index-data,\n.xr-attrs {\n  padding-left: 25px !important;\n}\n\n.xr-attrs,\n.xr-var-attrs,\n.xr-var-data,\n.xr-index-data {\n  grid-column: 1 / -1;\n}\n\ndl.xr-attrs {\n  padding: 0;\n  margin: 0;\n  display: grid;\n  grid-template-columns: 125px auto;\n}\n\n.xr-attrs dt,\n.xr-attrs dd {\n  padding: 0;\n  margin: 0;\n  float: left;\n  padding-right: 10px;\n  width: auto;\n}\n\n.xr-attrs dt {\n  font-weight: normal;\n  grid-column: 1;\n}\n\n.xr-attrs dt:hover span {\n  display: inline-block;\n  background: var(--xr-background-color);\n  padding-right: 10px;\n}\n\n.xr-attrs dd {\n  grid-column: 2;\n  white-space: pre-wrap;\n  word-break: break-all;\n}\n\n.xr-icon-database,\n.xr-icon-file-text2,\n.xr-no-icon {\n  display: inline-block;\n  vertical-align: middle;\n  width: 1em;\n  height: 1.5em !important;\n  stroke-width: 0;\n  stroke: currentColor;\n  fill: currentColor;\n}\n</style><pre class='xr-text-repr-fallback'>&lt;xarray.Dataset&gt;\nDimensions:           (nMesh2_node: 14, nMesh2_face: 3, nMaxMesh2_face_nodes: 6)\nDimensions without coordinates: nMesh2_node, nMesh2_face, nMaxMesh2_face_nodes\nData variables:\n    Mesh2             float64 nan\n    Mesh2_node_x      (nMesh2_node) int64 75 85 85 95 100 ... 135 150 150 160\n    Mesh2_node_y      (nMesh2_node) int64 20 10 30 10 30 20 ... 10 30 10 30 20\n    Mesh2_node_z      (nMesh2_node) int64 0 0 0 0 0 0 0 0 0 0 0 0 0 0\n    Mesh2_face_nodes  (nMesh2_face, nMaxMesh2_face_nodes) uint64 11 13 ... 0 1</pre><div class='xr-wrap' style='display:none'><div class='xr-header'><div class='xr-obj-type'>xarray.Dataset</div></div><ul class='xr-sections'><li class='xr-section-item'><input id='section-eb52371f-13ea-449e-9fa4-447b809e50e1' class='xr-section-summary-in' type='checkbox' disabled ><label for='section-eb52371f-13ea-449e-9fa4-447b809e50e1' class='xr-section-summary'  title='Expand/collapse section'>Dimensions:</label><div class='xr-section-inline-details'><ul class='xr-dim-list'><li><span>nMesh2_node</span>: 14</li><li><span>nMesh2_face</span>: 3</li><li><span>nMaxMesh2_face_nodes</span>: 6</li></ul></div><div class='xr-section-details'></div></li><li class='xr-section-item'><input id='section-5bada286-726a-476d-a4d7-97d08a9e9877' class='xr-section-summary-in' type='checkbox' disabled ><label for='section-5bada286-726a-476d-a4d7-97d08a9e9877' class='xr-section-summary'  title='Expand/collapse section'>Coordinates: <span>(0)</span></label><div class='xr-section-inline-details'></div><div class='xr-section-details'><ul class='xr-var-list'></ul></div></li><li class='xr-section-item'><input id='section-9c3391c8-320a-4e4b-b246-da93637efbae' class='xr-section-summary-in' type='checkbox'  checked><label for='section-9c3391c8-320a-4e4b-b246-da93637efbae' class='xr-section-summary' >Data variables: <span>(5)</span></label><div class='xr-section-inline-details'></div><div class='xr-section-details'><ul class='xr-var-list'><li class='xr-var-item'><div class='xr-var-name'><span>Mesh2</span></div><div class='xr-var-dims'>()</div><div class='xr-var-dtype'>float64</div><div class='xr-var-preview xr-preview'>nan</div><input id='attrs-c426892a-e93d-4af0-8744-40e763f58a15' class='xr-var-attrs-in' type='checkbox' ><label for='attrs-c426892a-e93d-4af0-8744-40e763f58a15' title='Show/Hide attributes'><svg class='icon xr-icon-file-text2'><use xlink:href='#icon-file-text2'></use></svg></label><input id='data-80feeb68-af6d-4745-b57b-100fc6295f3e' class='xr-var-data-in' type='checkbox'><label for='data-80feeb68-af6d-4745-b57b-100fc6295f3e' title='Show/Hide data repr'><svg class='icon xr-icon-database'><use xlink:href='#icon-database'></use></svg></label><div class='xr-var-attrs'><dl class='xr-attrs'><dt><span>cf_role :</span></dt><dd>mesh_topology</dd><dt><span>long_name :</span></dt><dd>Topology data of unstructured mesh</dd><dt><span>topology_dimension :</span></dt><dd>3</dd><dt><span>node_coordinates :</span></dt><dd>Mesh2_node_x Mesh2_node_y Mesh2_node_z</dd><dt><span>node_dimension :</span></dt><dd>nMesh2_node</dd><dt><span>face_node_connectivity :</span></dt><dd>Mesh2_face_nodes</dd><dt><span>face_dimension :</span></dt><dd>nMesh2_face</dd></dl></div><div class='xr-var-data'><pre>array(nan)</pre></div></li><li class='xr-var-item'><div class='xr-var-name'><span>Mesh2_node_x</span></div><div class='xr-var-dims'>(nMesh2_node)</div><div class='xr-var-dtype'>int64</div><div class='xr-var-preview xr-preview'>75 85 85 95 100 ... 135 150 150 160</div><input id='attrs-8c28be5b-bcab-46b2-8f6e-fe289275393b' class='xr-var-attrs-in' type='checkbox' ><label for='attrs-8c28be5b-bcab-46b2-8f6e-fe289275393b' title='Show/Hide attributes'><svg class='icon xr-icon-file-text2'><use xlink:href='#icon-file-text2'></use></svg></label><input id='data-94dc0fe0-b96b-44ae-8073-60d57ab4d80a' class='xr-var-data-in' type='checkbox'><label for='data-94dc0fe0-b96b-44ae-8073-60d57ab4d80a' title='Show/Hide data repr'><svg class='icon xr-icon-database'><use xlink:href='#icon-database'></use></svg></label><div class='xr-var-attrs'><dl class='xr-attrs'><dt><span>units :</span></dt><dd>degrees_east</dd></dl></div><div class='xr-var-data'><pre>array([ 75,  85,  85,  95, 100, 105, 110, 125, 125, 135, 135, 150, 150,\n       160])</pre></div></li><li class='xr-var-item'><div class='xr-var-name'><span>Mesh2_node_y</span></div><div class='xr-var-dims'>(nMesh2_node)</div><div class='xr-var-dtype'>int64</div><div class='xr-var-preview xr-preview'>20 10 30 10 30 ... 10 30 10 30 20</div><input id='attrs-074f5f88-e8de-4360-9827-3b686216d196' class='xr-var-attrs-in' type='checkbox' ><label for='attrs-074f5f88-e8de-4360-9827-3b686216d196' title='Show/Hide attributes'><svg class='icon xr-icon-file-text2'><use xlink:href='#icon-file-text2'></use></svg></label><input id='data-189666e7-b1b1-4077-93bb-0e5d67bbafc8' class='xr-var-data-in' type='checkbox'><label for='data-189666e7-b1b1-4077-93bb-0e5d67bbafc8' title='Show/Hide data repr'><svg class='icon xr-icon-database'><use xlink:href='#icon-database'></use></svg></label><div class='xr-var-attrs'><dl class='xr-attrs'><dt><span>units :</span></dt><dd>degrees_north</dd></dl></div><div class='xr-var-data'><pre>array([20, 10, 30, 10, 30, 20, 60, 20, 60, 10, 30, 10, 30, 20])</pre></div></li><li class='xr-var-item'><div class='xr-var-name'><span>Mesh2_node_z</span></div><div class='xr-var-dims'>(nMesh2_node)</div><div class='xr-var-dtype'>int64</div><div class='xr-var-preview xr-preview'>0 0 0 0 0 0 0 0 0 0 0 0 0 0</div><input id='attrs-79f18057-7db9-47a5-af66-515bbbb0cabb' class='xr-var-attrs-in' type='checkbox' ><label for='attrs-79f18057-7db9-47a5-af66-515bbbb0cabb' title='Show/Hide attributes'><svg class='icon xr-icon-file-text2'><use xlink:href='#icon-file-text2'></use></svg></label><input id='data-8dc640d1-d515-4473-850e-95e09ff0c4fc' class='xr-var-data-in' type='checkbox'><label for='data-8dc640d1-d515-4473-850e-95e09ff0c4fc' title='Show/Hide data repr'><svg class='icon xr-icon-database'><use xlink:href='#icon-database'></use></svg></label><div class='xr-var-attrs'><dl class='xr-attrs'><dt><span>units :</span></dt><dd>elevation</dd></dl></div><div class='xr-var-data'><pre>array([0, 0, 0, 0, 0, 0, 0, 0, 0, 0, 0, 0, 0, 0])</pre></div></li><li class='xr-var-item'><div class='xr-var-name'><span>Mesh2_face_nodes</span></div><div class='xr-var-dims'>(nMesh2_face, nMaxMesh2_face_nodes)</div><div class='xr-var-dtype'>uint64</div><div class='xr-var-preview xr-preview'>11 13 12 10 7 9 7 ... 5 3 5 4 2 0 1</div><input id='attrs-8b39641e-2882-4a6d-a679-8ed7e531b722' class='xr-var-attrs-in' type='checkbox' ><label for='attrs-8b39641e-2882-4a6d-a679-8ed7e531b722' title='Show/Hide attributes'><svg class='icon xr-icon-file-text2'><use xlink:href='#icon-file-text2'></use></svg></label><input id='data-1f880359-d07e-4c15-8958-d38fb6d027b1' class='xr-var-data-in' type='checkbox'><label for='data-1f880359-d07e-4c15-8958-d38fb6d027b1' title='Show/Hide data repr'><svg class='icon xr-icon-database'><use xlink:href='#icon-database'></use></svg></label><div class='xr-var-attrs'><dl class='xr-attrs'><dt><span>cf_role :</span></dt><dd>face_node_connectivity</dd><dt><span>_FillValue :</span></dt><dd>18446744073709551615</dd><dt><span>start_index :</span></dt><dd>0</dd></dl></div><div class='xr-var-data'><pre>array([[11, 13, 12, 10,  7,  9],\n       [ 7, 10,  8,  6,  4,  5],\n       [ 3,  5,  4,  2,  0,  1]], dtype=uint64)</pre></div></li></ul></div></li><li class='xr-section-item'><input id='section-b4fba217-e218-46c8-99bd-7c7f43ad1cd1' class='xr-section-summary-in' type='checkbox' disabled ><label for='section-b4fba217-e218-46c8-99bd-7c7f43ad1cd1' class='xr-section-summary'  title='Expand/collapse section'>Indexes: <span>(0)</span></label><div class='xr-section-inline-details'></div><div class='xr-section-details'><ul class='xr-var-list'></ul></div></li><li class='xr-section-item'><input id='section-f93a6091-6f51-4c18-aa92-8a3e3181e055' class='xr-section-summary-in' type='checkbox' disabled ><label for='section-f93a6091-6f51-4c18-aa92-8a3e3181e055' class='xr-section-summary'  title='Expand/collapse section'>Attributes: <span>(0)</span></label><div class='xr-section-inline-details'></div><div class='xr-section-details'><dl class='xr-attrs'></dl></div></li></ul></div></div>"
     },
     "execution_count": 91,
     "metadata": {},
     "output_type": "execute_result"
    }
   ],
   "source": [
    "# load our vertices into a UXarray Grid object\n",
    "verts_grid = ux.Grid(faces_verts_ndarray, vertices=True,\n",
    "                        islatlon=True,\n",
    "                        concave=False)\n",
    "verts_grid.ds"
   ],
   "metadata": {
    "collapsed": false,
    "ExecuteTime": {
     "start_time": "2023-04-19T09:57:03.715386Z",
     "end_time": "2023-04-19T09:57:03.733502Z"
    }
   }
  },
  {
   "cell_type": "code",
   "execution_count": 92,
   "outputs": [
    {
     "data": {
      "text/plain": "array([0.14323746, 0.25118746, 0.12141312])"
     },
     "execution_count": 92,
     "metadata": {},
     "output_type": "execute_result"
    }
   ],
   "source": [
    "verts_grid.face_areas"
   ],
   "metadata": {
    "collapsed": false,
    "ExecuteTime": {
     "start_time": "2023-04-19T09:57:03.724024Z",
     "end_time": "2023-04-19T09:57:03.733582Z"
    }
   }
  }
 ],
 "metadata": {
  "kernelspec": {
   "display_name": "Python 3",
   "language": "python",
   "name": "python3"
  },
  "language_info": {
   "codemirror_mode": {
    "name": "ipython",
    "version": 3
   },
   "file_extension": ".py",
   "mimetype": "text/x-python",
   "name": "python",
   "nbconvert_exporter": "python",
   "pygments_lexer": "ipython3",
   "version": "3.10.9"
  }
 },
 "nbformat": 4,
 "nbformat_minor": 0
}
