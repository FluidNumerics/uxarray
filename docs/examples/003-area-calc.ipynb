{
 "cells": [
  {
   "attachments": {},
   "cell_type": "markdown",
   "metadata": {
    "collapsed": false
   },
   "source": [
    "# Calculating face area(s) with UXarray\n",
    "\n",
    "## Overview\n",
    "\n",
    "This notebook will showcase the different area calculation options provided by UXarray\n",
    "the grid topology attributes and variables stored in the `UXarray.Grid`\n",
    "object.\n",
    "\n",
    "For more details on how to load in data, check out our [previous usage\n",
    "example](https://uxarray.readthedocs.io/en/latest/examples/read-grid-data.html)\n",
    "\n",
    "**This notebook has teh following sections:**\n",
    "1. Compute total area of all faces\n",
    "2. Options for accuracy of area calculation functions\n",
    "3. Getting area of all the faces (not total)\n",
    "4. Calculate area of a single triangle\n",
    "5. Calculate area of multiple vertices in spherical coordinates\n"
   ]
  },
  {
   "cell_type": "markdown",
   "source": [
    "## 1. Load mesh files and calculate total area of all faces\n",
    "\n",
    "We will be using outCSne30.ug grid file, that follow the UGRID convention.\n",
    "Let us first read in the data:"
   ],
   "metadata": {
    "collapsed": false
   }
  },
  {
   "cell_type": "code",
   "execution_count": null,
   "metadata": {
    "collapsed": false,
    "ExecuteTime": {
     "start_time": "2023-04-18T14:30:32.597653Z",
     "end_time": "2023-04-18T14:30:32.615120Z"
    }
   },
   "outputs": [],
   "source": [
    "import uxarray as ux\n",
    "import numpy as np\n",
    "import xarray as xr"
   ]
  },
  {
   "cell_type": "code",
   "execution_count": null,
   "metadata": {
    "collapsed": false,
    "ExecuteTime": {
     "start_time": "2023-04-18T14:30:32.602385Z",
     "end_time": "2023-04-18T14:30:32.616595Z"
    }
   },
   "outputs": [],
   "source": [
    "# Base data path\n",
    "base_path = \"../../test/meshfiles/\"\n",
    "\n",
    "# Path to Grid files\n",
    "ugrid_path = base_path + \"/ugrid/outCSne30/outCSne30.ug\"\n",
    "\n",
    "# Load grid files and create UXarray Grid objects\n",
    "ugrid_ds = xr.open_dataset(ugrid_path)\n",
    "\n",
    "ugrid = ux.Grid(ugrid_ds)"
   ]
  },
  {
   "attachments": {},
   "cell_type": "markdown",
   "metadata": {
    "collapsed": false
   },
   "source": [
    "Now call the function `calculate_total_face_area()` to calculate the total"
   ]
  },
  {
   "cell_type": "code",
   "execution_count": null,
   "metadata": {
    "collapsed": false,
    "ExecuteTime": {
     "start_time": "2023-04-18T14:30:32.609917Z",
     "end_time": "2023-04-18T14:30:34.121784Z"
    }
   },
   "outputs": [],
   "source": [
    "# Calculate total area of the first (ugrid) mesh\n",
    "area = ugrid.calculate_total_face_area()\n",
    "area\n",
    "# 4 Pi is the area 4*3.14 = 12.56"
   ]
  },
  {
   "attachments": {},
   "cell_type": "markdown",
   "metadata": {
    "collapsed": false
   },
   "source": [
    "## 2. Options for calculate_total_face_area functions\n",
    "### Quadrature Rule: Gaussian or Triangular\n",
    "### Order: 1 to 10 for Gaussian, 1, 4, 8, 10 and 12 for triangular\n",
    "### Default: Triangular and order 4"
   ]
  },
  {
   "cell_type": "code",
   "execution_count": null,
   "metadata": {
    "ExecuteTime": {
     "start_time": "2023-04-18T14:30:34.123709Z",
     "end_time": "2023-04-18T14:30:34.125195Z"
    }
   },
   "outputs": [],
   "source": [
    "# Notice that the area is different from the first mesh above\n",
    "# Now we use \"triangular\" quadrature rule and order 1\n",
    "# This is less time consuming as the order is only 1\n",
    "ugrid.calculate_total_face_area(quadrature_rule=\"triangular\", order=1)"
   ]
  },
  {
   "attachments": {},
   "cell_type": "markdown",
   "metadata": {
    "collapsed": false
   },
   "source": [
    "## 3. Getting area of all the faces (not total)"
   ]
  },
  {
   "cell_type": "code",
   "execution_count": null,
   "metadata": {
    "collapsed": false,
    "ExecuteTime": {
     "start_time": "2023-04-18T14:30:34.126603Z",
     "end_time": "2023-04-18T14:30:34.128200Z"
    }
   },
   "outputs": [],
   "source": [
    "# calling the method again will use the cached value\n",
    "ugrid.face_areas"
   ]
  },
  {
   "cell_type": "code",
   "execution_count": null,
   "metadata": {
    "ExecuteTime": {
     "start_time": "2023-04-18T14:30:34.129519Z",
     "end_time": "2023-04-18T14:30:34.130984Z"
    }
   },
   "outputs": [],
   "source": [
    "# Now calculate the area again with \"compute face_areas\" function\n",
    "# pass arguments: quadrature_rule \"gaussian\" and order 4\n",
    "all_face_areas = ugrid.compute_face_areas(quadrature_rule=\"gaussian\", order=4)\n",
    "all_face_areas.sum()"
   ]
  },
  {
   "attachments": {},
   "cell_type": "markdown",
   "metadata": {
    "collapsed": false
   },
   "source": [
    "## 4. Calculate area of a single triangle (cartesian coordinates)"
   ]
  },
  {
   "cell_type": "code",
   "execution_count": null,
   "metadata": {
    "collapsed": false,
    "ExecuteTime": {
     "start_time": "2023-04-18T14:30:34.133979Z",
     "end_time": "2023-04-18T14:30:34.138118Z"
    }
   },
   "outputs": [],
   "source": [
    "# define a new grid with 3 vertices\n",
    "# Assume the units in meters - this is a big triangle\n",
    "verts = [[[0.57735027, -5.77350269e-01, -0.57735027],\n",
    "         [0.57735027, 5.77350269e-01, -0.57735027],\n",
    "         [-0.57735027, 5.77350269e-01, -0.57735027]]]\n",
    "# Note: initialization using array of vertices\n",
    "\n",
    "# load our vertices into a UXarray Grid object\n",
    "vgrid = ux.Grid(verts, vertices=True,\n",
    "                        islatlon=False,\n",
    "                        concave=False)\n",
    "\n",
    "# Note the incorrect units for the x and y coordinates (expand the cell Mesh2_node_x etc. to see)\n",
    "vgrid.ds"
   ]
  },
  {
   "cell_type": "code",
   "execution_count": null,
   "outputs": [],
   "source": [
    "# vgrid.calculate_total_face_area()\n",
    "# This in incorrect as the units are not in meters"
   ],
   "metadata": {
    "collapsed": false,
    "ExecuteTime": {
     "start_time": "2023-04-18T14:30:34.138224Z",
     "end_time": "2023-04-18T14:30:34.140394Z"
    }
   }
  },
  {
   "cell_type": "code",
   "execution_count": null,
   "outputs": [],
   "source": [
    "# Set correct units for the x and y coordinates\n",
    "vgrid.Mesh2_node_x.attrs[\"units\"] = \"m\"\n",
    "vgrid.Mesh2_node_y.attrs[\"units\"] = \"m\"\n",
    "vgrid.Mesh2_node_z.attrs[\"units\"] = \"m\"\n",
    "\n",
    "# It is important to set the units for the x and y coordinates\n",
    "# otherwise the area will be incorrect, as the units are assumed to be spherical by default\n",
    "# Without the above setting the coordinates will be assumed to be in spherical coordinates\n",
    "# and the area will be calculated incorrectly\n",
    "\n",
    "# Calculate the area of the triangle\n",
    "area_gaussian = vgrid.calculate_total_face_area(\n",
    "            quadrature_rule=\"gaussian\", order=5)\n",
    "area_gaussian"
   ],
   "metadata": {
    "collapsed": false,
    "ExecuteTime": {
     "start_time": "2023-04-18T14:30:34.143671Z",
     "end_time": "2023-04-18T14:30:34.171209Z"
    }
   }
  },
  {
   "cell_type": "markdown",
   "source": [],
   "metadata": {
    "collapsed": false
   }
  },
  {
   "attachments": {},
   "cell_type": "markdown",
   "metadata": {
    "collapsed": false
   },
   "source": [
    "## 5. Calculate area of multiple vertices in spherical coordinates"
   ]
  },
  {
   "cell_type": "code",
   "execution_count": null,
   "outputs": [],
   "source": [
    "faces_verts_ndarray = np.array([\n",
    "    np.array([[150, 10, 0], [160, 20, 0], [150, 30, 0], [135, 30, 0], [125, 20, 0],\n",
    "              [135, 10, 0]]),\n",
    "    np.array([[125, 20, 0], [135, 30, 0], [125, 60, 0], [110, 60, 0], [100, 30, 0],\n",
    "              [105, 20, 0]]),\n",
    "    np.array([[95, 10, 0], [105, 20, 0], [100, 30, 0], [85, 30, 0], [75, 20, 0],\n",
    "              [85, 10, 0]]),\n",
    "])"
   ],
   "metadata": {
    "collapsed": false,
    "ExecuteTime": {
     "start_time": "2023-04-18T14:30:34.147415Z",
     "end_time": "2023-04-18T14:30:34.171537Z"
    }
   }
  },
  {
   "cell_type": "code",
   "execution_count": null,
   "outputs": [],
   "source": [
    "# load our vertices into a UXarray Grid object\n",
    "verts_grid = ux.Grid(faces_verts_ndarray, vertices=True,\n",
    "                        islatlon=True,\n",
    "                        concave=False)\n",
    "verts_grid.ds"
   ],
   "metadata": {
    "collapsed": false,
    "ExecuteTime": {
     "start_time": "2023-04-18T14:30:34.151377Z",
     "end_time": "2023-04-18T14:30:34.171665Z"
    }
   }
  },
  {
   "cell_type": "code",
   "execution_count": null,
   "outputs": [],
   "source": [
    "verts_grid.face_areas"
   ],
   "metadata": {
    "collapsed": false,
    "ExecuteTime": {
     "start_time": "2023-04-18T14:30:34.159274Z",
     "end_time": "2023-04-18T14:30:34.171738Z"
    }
   }
  },
  {
   "cell_type": "code",
   "execution_count": null,
   "outputs": [],
   "source": [],
   "metadata": {
    "collapsed": false,
    "ExecuteTime": {
     "start_time": "2023-04-18T14:30:34.161533Z",
     "end_time": "2023-04-18T14:30:34.171765Z"
    }
   }
  }
 ],
 "metadata": {
  "kernelspec": {
   "display_name": "Python 3.10 (tensorflow)",
   "language": "python",
   "name": "tensorflow"
  },
  "language_info": {
   "codemirror_mode": {
    "name": "ipython",
    "version": 3
   },
   "file_extension": ".py",
   "mimetype": "text/x-python",
   "name": "python",
   "nbconvert_exporter": "python",
   "pygments_lexer": "ipython3",
   "version": "3.10.9"
  }
 },
 "nbformat": 4,
 "nbformat_minor": 0
}
