{
 "cells": [
  {
   "cell_type": "markdown",
   "source": [
    "# Working with MPAS Meshes"
   ],
   "metadata": {
    "collapsed": false
   }
  },
  {
   "cell_type": "markdown",
   "source": [
    "##  Mesh Definition\n",
    "\n",
    "All components of MPAS lie on a C-grid staggered Voronoi Mesh as seen in the figure below:\n",
    "\n",
    "<p align=\"center\">\n",
    "  <img src=\"../_static/examples/mpas/c-grid.png\"\n",
    "  width=\"400\" / >\n",
    "</p>\n",
    "\n",
    "This type of mesh is represented through two different sub-meshes. The Primal Mesh represents the Voronoi Mesh and the Dual Mesh represents the Triangular Mesh.\n",
    "\n",
    "*to-do: more in-depth description/overview of MPAS from the website and specification document.*\n",
    "\n",
    "\n"
   ],
   "metadata": {
    "collapsed": false
   }
  },
  {
   "cell_type": "markdown",
   "source": [
    "## Imports"
   ],
   "metadata": {
    "collapsed": false
   }
  },
  {
   "cell_type": "code",
   "execution_count": null,
   "outputs": [],
   "source": [
    "import xarray as xr\n",
    "import uxarray as ux"
   ],
   "metadata": {
    "collapsed": false
   }
  },
  {
   "cell_type": "markdown",
   "source": [
    "## Grid and Data Files\n",
    "\n",
    "As mentioned in earlier notebooks, the grid definition and data variables are typically stored in separate files. However, in this example, our dataset will contain both within the same file, which is often the case when working with smaller datasets.\n",
    "\n"
   ],
   "metadata": {
    "collapsed": false
   }
  },
  {
   "cell_type": "code",
   "execution_count": null,
   "outputs": [],
   "source": [
    "mpas_root_filepath = \"../../test/meshfiles/mpas/\"\n",
    "mpas_dataset_filepath = mpas_root_filepath + \"QU/mesh.QU.1920km.151026.nc\""
   ],
   "metadata": {
    "collapsed": false
   }
  },
  {
   "cell_type": "code",
   "execution_count": null,
   "outputs": [],
   "source": [
    "mpas_xr_ds = xr.open_dataset(mpas_dataset_filepath)\n",
    "mpas_xr_ds"
   ],
   "metadata": {
    "collapsed": false
   }
  },
  {
   "cell_type": "markdown",
   "source": [
    "This dataset contains the full set of connectivity variables needed to describe an MPAS mesh, as described in the MPAS Specification Document [2]. It also contains data variables such as {VARIABLE} and , which lie on the Primal Mesh. Below is a list of connectivity variables and their geometric meaning, which will be further described when comparing to the UGRID encoding:\n",
    "\n",
    "\n",
    "### Primal Mesh\n",
    "* **lonVertex, latVertex**: Corner Vertices of Primal Mesh cells\n",
    "* **lonCell, latCell**: Center Vertices of Primal Mesh cells\n",
    "* **verticesOnCell**: Vertex indices that surround each Primal Mesh cell\n",
    "* **verticesOnEdge**: Vertex indices that saddle a given edge\n",
    "* **nEdgesOnCell**: Maximum number of edges that can surround a cell\n",
    "\n",
    "### Dual Mesh\n",
    "* **lonCell, latCell**: Corner Vertices of Dual Mesh cells\n",
    "* **lonVertex, latVertex**: Center Vertices of Dual Mesh cells\n",
    "* **cellsOnVertex**: Vertex indices that surround each Dual Mesh cell\n",
    "* **cellsOnEdge**: Vertex indices that saddle a given edge\n"
   ],
   "metadata": {
    "collapsed": false
   }
  },
  {
   "cell_type": "markdown",
   "source": [],
   "metadata": {
    "collapsed": false
   }
  },
  {
   "cell_type": "markdown",
   "source": [],
   "metadata": {
    "collapsed": false
   }
  },
  {
   "cell_type": "markdown",
   "source": [
    "## Constructing a Grid Object\n",
    "\n",
    "The `xarray.Dataset` that we opened above stores the coordinates and connectivity variables for both the Primal and Dual meshes together in a single dataset. With `uxarray`, we can create separate `Grid` objects for either the Primal or Dual meshes. The `uxarray.Grid` class parses our input dataset, detects that it is represented in the MPAS specifications, and encodes either the Primal or Dual mesh in the UGRID conventions."
   ],
   "metadata": {
    "collapsed": false
   }
  },
  {
   "cell_type": "code",
   "execution_count": null,
   "outputs": [],
   "source": [
    "primal_mesh = ux.Grid(mpas_xr_ds, use_dual=False)\n",
    "dual_mesh = ux.Grid(mpas_xr_ds, use_dual=True)"
   ],
   "metadata": {
    "collapsed": false
   }
  },
  {
   "cell_type": "code",
   "execution_count": null,
   "outputs": [],
   "source": [
    "primal_mesh.ds"
   ],
   "metadata": {
    "collapsed": false
   }
  },
  {
   "cell_type": "code",
   "execution_count": null,
   "outputs": [],
   "source": [
    "dual_mesh.ds"
   ],
   "metadata": {
    "collapsed": false
   }
  },
  {
   "cell_type": "markdown",
   "source": [
    "## Relationship between MPAS and UGRID\n",
    "*to-do: describe MPAS to UGRID encoding, differences in fill values, standardized datatypes, and how geometric connectivity variables relate between these two conventions*\n",
    "\n",
    "*create a table to showcase the mapping between MPAS and UGRID*"
   ],
   "metadata": {
    "collapsed": false
   }
  },
  {
   "cell_type": "markdown",
   "source": [
    "## Functionality"
   ],
   "metadata": {
    "collapsed": false
   }
  },
  {
   "cell_type": "markdown",
   "source": [
    "### Face Area"
   ],
   "metadata": {
    "collapsed": false
   }
  },
  {
   "cell_type": "code",
   "execution_count": null,
   "outputs": [],
   "source": [
    "primal_mesh_total_area = primal_mesh.calculate_total_face_area()\n",
    "primal_mesh_total_area"
   ],
   "metadata": {
    "collapsed": false
   }
  },
  {
   "cell_type": "code",
   "execution_count": null,
   "outputs": [],
   "source": [
    "primal_mesh_face_areas = primal_mesh.face_areas\n",
    "primal_mesh_face_areas.sum()"
   ],
   "metadata": {
    "collapsed": false
   }
  },
  {
   "cell_type": "code",
   "execution_count": null,
   "outputs": [],
   "source": [
    "dual_mesh_total_area = dual_mesh.calculate_total_face_area()\n",
    "dual_mesh_total_area"
   ],
   "metadata": {
    "collapsed": false
   }
  },
  {
   "cell_type": "code",
   "execution_count": null,
   "outputs": [],
   "source": [
    "dual_mesh_face_areas = dual_mesh.face_areas\n",
    "primal_mesh_face_areas.sum()"
   ],
   "metadata": {
    "collapsed": false
   }
  },
  {
   "cell_type": "markdown",
   "source": [
    "### Integration"
   ],
   "metadata": {
    "collapsed": false
   }
  },
  {
   "cell_type": "code",
   "execution_count": null,
   "outputs": [],
   "source": [
    "# to-do, need to fix function before adding"
   ],
   "metadata": {
    "collapsed": false
   }
  },
  {
   "cell_type": "markdown",
   "source": [
    "## Visualization\n",
    "\n",
    "*very messy, waiting on other PR's to get merged before doing primal mesh*"
   ],
   "metadata": {
    "collapsed": false
   }
  },
  {
   "cell_type": "code",
   "execution_count": null,
   "outputs": [],
   "source": [
    "import numpy as np\n",
    "import matplotlib.pyplot as plt\n",
    "from matplotlib.collections import PolyCollection"
   ],
   "metadata": {
    "collapsed": false
   }
  },
  {
   "cell_type": "markdown",
   "source": [
    "### Primal Mesh"
   ],
   "metadata": {
    "collapsed": false
   }
  },
  {
   "cell_type": "code",
   "execution_count": null,
   "outputs": [],
   "source": [
    "x = primal_mesh.Mesh2_node_x.values\n",
    "y = primal_mesh.Mesh2_node_y.values\n",
    "face_nodes = primal_mesh.Mesh2_face_nodes.values\n",
    "# face_dimension = primal_mesh.Mesh2_face_dimension.values\n",
    "\n",
    "# polygons = collections.PolyCollection(vertices)"
   ],
   "metadata": {
    "collapsed": false
   }
  },
  {
   "cell_type": "markdown",
   "source": [
    "### Dual Mesh"
   ],
   "metadata": {
    "collapsed": false
   }
  },
  {
   "cell_type": "code",
   "execution_count": null,
   "outputs": [],
   "source": [
    "n_face = dual_mesh.nMesh2_face\n",
    "x = dual_mesh.Mesh2_node_x.values\n",
    "y = dual_mesh.Mesh2_node_y.values\n",
    "face_nodes = dual_mesh.Mesh2_face_nodes.values\n",
    "\n",
    "triangle_x = np.zeros((n_face, 3 + 1))\n",
    "triangle_y = np.zeros((n_face, 3 + 1))\n",
    "triangle_x[:, 0:3] = x[face_nodes]\n",
    "triangle_y[:, 0:3] = y[face_nodes]\n",
    "triangle_x[:, -1] = triangle_x[:, 0]\n",
    "triangle_y[:, -1] = triangle_y[:, 0]\n",
    "\n",
    "remove_idx = np.any(np.abs(triangle_x - 180) > 170 , axis=1)\n",
    "\n",
    "verts = np.stack([triangle_x[~remove_idx], triangle_y[~remove_idx]])\n",
    "verts = np.swapaxes(verts, 0, 1)\n",
    "verts = np.swapaxes(verts, 1, 2)\n",
    "\n",
    "\n",
    "polygons = PolyCollection(verts, edgecolors='Blue')\n",
    "colors = 100 * np.random.rand(len(verts))\n",
    "\n",
    "fig, ax = plt.subplots()\n",
    "\n",
    "ax.add_collection(polygons, autolim=False)\n",
    "ax.set_xlim(x.min(), x.max())\n",
    "ax.set_ylim(y.min(), y.max())\n",
    "ax.set_title(\"Dual Mesh\")"
   ],
   "metadata": {
    "collapsed": false
   }
  },
  {
   "cell_type": "markdown",
   "source": [
    "## References\n",
    "\n",
    "[1] https://mpas-dev.github.io/\n",
    "\n",
    "[2] https://mpas-dev.github.io/files/documents/MPAS-MeshSpec.pdf\n",
    "\n",
    "[3] http://ugrid-conventions.github.io/ugrid-conventions/"
   ],
   "metadata": {
    "collapsed": false
   }
  }
 ],
 "metadata": {
  "kernelspec": {
   "display_name": "Python 3",
   "language": "python",
   "name": "python3"
  },
  "language_info": {
   "codemirror_mode": {
    "name": "ipython",
    "version": 2
   },
   "file_extension": ".py",
   "mimetype": "text/x-python",
   "name": "python",
   "nbconvert_exporter": "python",
   "pygments_lexer": "ipython2",
   "version": "2.7.6"
  }
 },
 "nbformat": 4,
 "nbformat_minor": 0
}
