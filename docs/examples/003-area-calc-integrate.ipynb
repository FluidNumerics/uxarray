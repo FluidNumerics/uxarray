{
 "cells": [
  {
   "attachments": {},
   "cell_type": "markdown",
   "metadata": {
    "collapsed": false
   },
   "source": [
    "# Calculating face area(s) with UXarray\n",
    "\n",
    "## Overview\n",
    "\n",
    "This notebook will showcase the different area calculation options provided by UXarray\n",
    "the grid topology attributes and variables stored in the `UXarray.Grid`\n",
    "object.\n",
    "\n",
    "For more details on how to load in data, check out our [previous usage\n",
    "example](https://uxarray.readthedocs.io/en/latest/examples/read-grid-data.html)\n",
    "\n",
    "**This notebook has teh following sections:**\n",
    "1. Compute total area of all faces\n",
    "2. Options for accuracy of area calculation functions\n",
    "3. Getting area of all the faces (not total)\n",
    "4. Calculate area of a single triangle\n",
    "5. Calculate area of multiple vertices in spherical coordinates"
   ]
  },
  {
   "cell_type": "markdown",
   "source": [
    "## 1. Load mesh files and calculate total area of all faces\n",
    "\n",
    "We will be using outCSne30.ug grid file, that follow the UGRID convention.\n",
    "Let us first read in the data:"
   ],
   "metadata": {
    "collapsed": false
   }
  },
  {
   "cell_type": "code",
   "execution_count": 198,
   "metadata": {
    "collapsed": false,
    "ExecuteTime": {
     "start_time": "2023-04-18T14:14:03.623204Z",
     "end_time": "2023-04-18T14:14:03.642403Z"
    }
   },
   "outputs": [],
   "source": [
    "import uxarray as ux\n",
    "import numpy as np"
   ]
  },
  {
   "cell_type": "code",
   "execution_count": 199,
   "metadata": {
    "collapsed": false,
    "ExecuteTime": {
     "start_time": "2023-04-18T14:14:03.626812Z",
     "end_time": "2023-04-18T14:14:03.643810Z"
    }
   },
   "outputs": [],
   "source": [
    "# Base data path\n",
    "base_path = \"../../test/meshfiles/\"\n",
    "\n",
    "# Path to Grid files\n",
    "ugrid_path = base_path + \"/ugrid/outCSne30/outCSne30.ug\"\n",
    "\n",
    "# Load grid files and create UXarray Grid objects\n",
    "ugrid_ds = xr.open_dataset(ugrid_path)\n",
    "\n",
    "ugrid = ux.Grid(ugrid_ds)"
   ]
  },
  {
   "attachments": {},
   "cell_type": "markdown",
   "metadata": {
    "collapsed": false
   },
   "source": [
    "Now call the function `calculate_total_face_area()` to calculate the total"
   ]
  },
  {
   "cell_type": "code",
   "execution_count": 200,
   "metadata": {
    "collapsed": false,
    "ExecuteTime": {
     "start_time": "2023-04-18T14:14:03.634332Z",
     "end_time": "2023-04-18T14:14:03.674249Z"
    }
   },
   "outputs": [
    {
     "data": {
      "text/plain": "12.566370614678554"
     },
     "execution_count": 200,
     "metadata": {},
     "output_type": "execute_result"
    }
   ],
   "source": [
    "# Calculate total area of the first (ugrid) mesh\n",
    "area = ugrid.calculate_total_face_area()\n",
    "area\n",
    "# 4 Pi is the area 4*3.14 = 12.56"
   ]
  },
  {
   "attachments": {},
   "cell_type": "markdown",
   "metadata": {
    "collapsed": false
   },
   "source": [
    "## 2. Options for calculate_total_face_area functions\n",
    "### Quadrature Rule: Gaussian or Triangular\n",
    "### Order: 1 to 10 for Gaussian, 1, 4, 8, 10 and 12 for triangular\n",
    "### Default: Triangular and order 4"
   ]
  },
  {
   "cell_type": "code",
   "execution_count": 201,
   "metadata": {
    "ExecuteTime": {
     "start_time": "2023-04-18T14:14:03.676226Z",
     "end_time": "2023-04-18T14:14:03.678192Z"
    }
   },
   "outputs": [
    {
     "data": {
      "text/plain": "12.571403993719983"
     },
     "execution_count": 201,
     "metadata": {},
     "output_type": "execute_result"
    }
   ],
   "source": [
    "# Notice that the area is different from the first mesh above\n",
    "# Now we use \"triangular\" quadrature rule and order 1\n",
    "# This is less time consuming as the order is only 1\n",
    "ugrid_01.calculate_total_face_area(quadrature_rule=\"triangular\", order=1)"
   ]
  },
  {
   "attachments": {},
   "cell_type": "markdown",
   "metadata": {
    "collapsed": false
   },
   "source": [
    "## 3. Getting area of all the faces (not total)"
   ]
  },
  {
   "cell_type": "code",
   "execution_count": 202,
   "metadata": {
    "collapsed": false,
    "ExecuteTime": {
     "start_time": "2023-04-18T14:14:03.679644Z",
     "end_time": "2023-04-18T14:14:03.681320Z"
    }
   },
   "outputs": [
    {
     "data": {
      "text/plain": "array([0.00211174, 0.00211221, 0.00210723, ..., 0.00210723, 0.00211221,\n       0.00211174])"
     },
     "execution_count": 202,
     "metadata": {},
     "output_type": "execute_result"
    }
   ],
   "source": [
    "# calling the method again will use the cached value\n",
    "ugrid.face_areas"
   ]
  },
  {
   "cell_type": "code",
   "execution_count": 203,
   "metadata": {
    "ExecuteTime": {
     "start_time": "2023-04-18T14:14:03.683134Z",
     "end_time": "2023-04-18T14:14:03.684643Z"
    }
   },
   "outputs": [
    {
     "data": {
      "text/plain": "12.566370614678554"
     },
     "execution_count": 203,
     "metadata": {},
     "output_type": "execute_result"
    }
   ],
   "source": [
    "# Now calculate the area again with \"compute face_areas\" function\n",
    "# pass arguments: quadrature_rule \"gaussian\" and order 4\n",
    "all_face_areas = ugrid.compute_face_areas(quadrature_rule=\"gaussian\", order=4)\n",
    "all_face_areas.sum()"
   ]
  },
  {
   "attachments": {},
   "cell_type": "markdown",
   "metadata": {
    "collapsed": false
   },
   "source": [
    "## 4. Calculate area of a single triangle (cartesian coordinates)"
   ]
  },
  {
   "cell_type": "code",
   "execution_count": 204,
   "metadata": {
    "collapsed": false,
    "ExecuteTime": {
     "start_time": "2023-04-18T14:14:03.687941Z",
     "end_time": "2023-04-18T14:14:03.692230Z"
    }
   },
   "outputs": [
    {
     "data": {
      "text/plain": "<xarray.Dataset>\nDimensions:           (nMesh2_node: 3, nMesh2_face: 1, nMaxMesh2_face_nodes: 3)\nDimensions without coordinates: nMesh2_node, nMesh2_face, nMaxMesh2_face_nodes\nData variables:\n    Mesh2             float64 nan\n    Mesh2_node_x      (nMesh2_node) float64 -0.5774 0.5774 0.5774\n    Mesh2_node_y      (nMesh2_node) float64 0.5774 -0.5774 0.5774\n    Mesh2_node_z      (nMesh2_node) float64 -0.5774 -0.5774 -0.5774\n    Mesh2_face_nodes  (nMesh2_face, nMaxMesh2_face_nodes) uint64 1 2 0",
      "text/html": "<div><svg style=\"position: absolute; width: 0; height: 0; overflow: hidden\">\n<defs>\n<symbol id=\"icon-database\" viewBox=\"0 0 32 32\">\n<path d=\"M16 0c-8.837 0-16 2.239-16 5v4c0 2.761 7.163 5 16 5s16-2.239 16-5v-4c0-2.761-7.163-5-16-5z\"></path>\n<path d=\"M16 17c-8.837 0-16-2.239-16-5v6c0 2.761 7.163 5 16 5s16-2.239 16-5v-6c0 2.761-7.163 5-16 5z\"></path>\n<path d=\"M16 26c-8.837 0-16-2.239-16-5v6c0 2.761 7.163 5 16 5s16-2.239 16-5v-6c0 2.761-7.163 5-16 5z\"></path>\n</symbol>\n<symbol id=\"icon-file-text2\" viewBox=\"0 0 32 32\">\n<path d=\"M28.681 7.159c-0.694-0.947-1.662-2.053-2.724-3.116s-2.169-2.030-3.116-2.724c-1.612-1.182-2.393-1.319-2.841-1.319h-15.5c-1.378 0-2.5 1.121-2.5 2.5v27c0 1.378 1.122 2.5 2.5 2.5h23c1.378 0 2.5-1.122 2.5-2.5v-19.5c0-0.448-0.137-1.23-1.319-2.841zM24.543 5.457c0.959 0.959 1.712 1.825 2.268 2.543h-4.811v-4.811c0.718 0.556 1.584 1.309 2.543 2.268zM28 29.5c0 0.271-0.229 0.5-0.5 0.5h-23c-0.271 0-0.5-0.229-0.5-0.5v-27c0-0.271 0.229-0.5 0.5-0.5 0 0 15.499-0 15.5 0v7c0 0.552 0.448 1 1 1h7v19.5z\"></path>\n<path d=\"M23 26h-14c-0.552 0-1-0.448-1-1s0.448-1 1-1h14c0.552 0 1 0.448 1 1s-0.448 1-1 1z\"></path>\n<path d=\"M23 22h-14c-0.552 0-1-0.448-1-1s0.448-1 1-1h14c0.552 0 1 0.448 1 1s-0.448 1-1 1z\"></path>\n<path d=\"M23 18h-14c-0.552 0-1-0.448-1-1s0.448-1 1-1h14c0.552 0 1 0.448 1 1s-0.448 1-1 1z\"></path>\n</symbol>\n</defs>\n</svg>\n<style>/* CSS stylesheet for displaying xarray objects in jupyterlab.\n *\n */\n\n:root {\n  --xr-font-color0: var(--jp-content-font-color0, rgba(0, 0, 0, 1));\n  --xr-font-color2: var(--jp-content-font-color2, rgba(0, 0, 0, 0.54));\n  --xr-font-color3: var(--jp-content-font-color3, rgba(0, 0, 0, 0.38));\n  --xr-border-color: var(--jp-border-color2, #e0e0e0);\n  --xr-disabled-color: var(--jp-layout-color3, #bdbdbd);\n  --xr-background-color: var(--jp-layout-color0, white);\n  --xr-background-color-row-even: var(--jp-layout-color1, white);\n  --xr-background-color-row-odd: var(--jp-layout-color2, #eeeeee);\n}\n\nhtml[theme=dark],\nbody[data-theme=dark],\nbody.vscode-dark {\n  --xr-font-color0: rgba(255, 255, 255, 1);\n  --xr-font-color2: rgba(255, 255, 255, 0.54);\n  --xr-font-color3: rgba(255, 255, 255, 0.38);\n  --xr-border-color: #1F1F1F;\n  --xr-disabled-color: #515151;\n  --xr-background-color: #111111;\n  --xr-background-color-row-even: #111111;\n  --xr-background-color-row-odd: #313131;\n}\n\n.xr-wrap {\n  display: block !important;\n  min-width: 300px;\n  max-width: 700px;\n}\n\n.xr-text-repr-fallback {\n  /* fallback to plain text repr when CSS is not injected (untrusted notebook) */\n  display: none;\n}\n\n.xr-header {\n  padding-top: 6px;\n  padding-bottom: 6px;\n  margin-bottom: 4px;\n  border-bottom: solid 1px var(--xr-border-color);\n}\n\n.xr-header > div,\n.xr-header > ul {\n  display: inline;\n  margin-top: 0;\n  margin-bottom: 0;\n}\n\n.xr-obj-type,\n.xr-array-name {\n  margin-left: 2px;\n  margin-right: 10px;\n}\n\n.xr-obj-type {\n  color: var(--xr-font-color2);\n}\n\n.xr-sections {\n  padding-left: 0 !important;\n  display: grid;\n  grid-template-columns: 150px auto auto 1fr 20px 20px;\n}\n\n.xr-section-item {\n  display: contents;\n}\n\n.xr-section-item input {\n  display: none;\n}\n\n.xr-section-item input + label {\n  color: var(--xr-disabled-color);\n}\n\n.xr-section-item input:enabled + label {\n  cursor: pointer;\n  color: var(--xr-font-color2);\n}\n\n.xr-section-item input:enabled + label:hover {\n  color: var(--xr-font-color0);\n}\n\n.xr-section-summary {\n  grid-column: 1;\n  color: var(--xr-font-color2);\n  font-weight: 500;\n}\n\n.xr-section-summary > span {\n  display: inline-block;\n  padding-left: 0.5em;\n}\n\n.xr-section-summary-in:disabled + label {\n  color: var(--xr-font-color2);\n}\n\n.xr-section-summary-in + label:before {\n  display: inline-block;\n  content: '►';\n  font-size: 11px;\n  width: 15px;\n  text-align: center;\n}\n\n.xr-section-summary-in:disabled + label:before {\n  color: var(--xr-disabled-color);\n}\n\n.xr-section-summary-in:checked + label:before {\n  content: '▼';\n}\n\n.xr-section-summary-in:checked + label > span {\n  display: none;\n}\n\n.xr-section-summary,\n.xr-section-inline-details {\n  padding-top: 4px;\n  padding-bottom: 4px;\n}\n\n.xr-section-inline-details {\n  grid-column: 2 / -1;\n}\n\n.xr-section-details {\n  display: none;\n  grid-column: 1 / -1;\n  margin-bottom: 5px;\n}\n\n.xr-section-summary-in:checked ~ .xr-section-details {\n  display: contents;\n}\n\n.xr-array-wrap {\n  grid-column: 1 / -1;\n  display: grid;\n  grid-template-columns: 20px auto;\n}\n\n.xr-array-wrap > label {\n  grid-column: 1;\n  vertical-align: top;\n}\n\n.xr-preview {\n  color: var(--xr-font-color3);\n}\n\n.xr-array-preview,\n.xr-array-data {\n  padding: 0 5px !important;\n  grid-column: 2;\n}\n\n.xr-array-data,\n.xr-array-in:checked ~ .xr-array-preview {\n  display: none;\n}\n\n.xr-array-in:checked ~ .xr-array-data,\n.xr-array-preview {\n  display: inline-block;\n}\n\n.xr-dim-list {\n  display: inline-block !important;\n  list-style: none;\n  padding: 0 !important;\n  margin: 0;\n}\n\n.xr-dim-list li {\n  display: inline-block;\n  padding: 0;\n  margin: 0;\n}\n\n.xr-dim-list:before {\n  content: '(';\n}\n\n.xr-dim-list:after {\n  content: ')';\n}\n\n.xr-dim-list li:not(:last-child):after {\n  content: ',';\n  padding-right: 5px;\n}\n\n.xr-has-index {\n  font-weight: bold;\n}\n\n.xr-var-list,\n.xr-var-item {\n  display: contents;\n}\n\n.xr-var-item > div,\n.xr-var-item label,\n.xr-var-item > .xr-var-name span {\n  background-color: var(--xr-background-color-row-even);\n  margin-bottom: 0;\n}\n\n.xr-var-item > .xr-var-name:hover span {\n  padding-right: 5px;\n}\n\n.xr-var-list > li:nth-child(odd) > div,\n.xr-var-list > li:nth-child(odd) > label,\n.xr-var-list > li:nth-child(odd) > .xr-var-name span {\n  background-color: var(--xr-background-color-row-odd);\n}\n\n.xr-var-name {\n  grid-column: 1;\n}\n\n.xr-var-dims {\n  grid-column: 2;\n}\n\n.xr-var-dtype {\n  grid-column: 3;\n  text-align: right;\n  color: var(--xr-font-color2);\n}\n\n.xr-var-preview {\n  grid-column: 4;\n}\n\n.xr-index-preview {\n  grid-column: 2 / 5;\n  color: var(--xr-font-color2);\n}\n\n.xr-var-name,\n.xr-var-dims,\n.xr-var-dtype,\n.xr-preview,\n.xr-attrs dt {\n  white-space: nowrap;\n  overflow: hidden;\n  text-overflow: ellipsis;\n  padding-right: 10px;\n}\n\n.xr-var-name:hover,\n.xr-var-dims:hover,\n.xr-var-dtype:hover,\n.xr-attrs dt:hover {\n  overflow: visible;\n  width: auto;\n  z-index: 1;\n}\n\n.xr-var-attrs,\n.xr-var-data,\n.xr-index-data {\n  display: none;\n  background-color: var(--xr-background-color) !important;\n  padding-bottom: 5px !important;\n}\n\n.xr-var-attrs-in:checked ~ .xr-var-attrs,\n.xr-var-data-in:checked ~ .xr-var-data,\n.xr-index-data-in:checked ~ .xr-index-data {\n  display: block;\n}\n\n.xr-var-data > table {\n  float: right;\n}\n\n.xr-var-name span,\n.xr-var-data,\n.xr-index-name div,\n.xr-index-data,\n.xr-attrs {\n  padding-left: 25px !important;\n}\n\n.xr-attrs,\n.xr-var-attrs,\n.xr-var-data,\n.xr-index-data {\n  grid-column: 1 / -1;\n}\n\ndl.xr-attrs {\n  padding: 0;\n  margin: 0;\n  display: grid;\n  grid-template-columns: 125px auto;\n}\n\n.xr-attrs dt,\n.xr-attrs dd {\n  padding: 0;\n  margin: 0;\n  float: left;\n  padding-right: 10px;\n  width: auto;\n}\n\n.xr-attrs dt {\n  font-weight: normal;\n  grid-column: 1;\n}\n\n.xr-attrs dt:hover span {\n  display: inline-block;\n  background: var(--xr-background-color);\n  padding-right: 10px;\n}\n\n.xr-attrs dd {\n  grid-column: 2;\n  white-space: pre-wrap;\n  word-break: break-all;\n}\n\n.xr-icon-database,\n.xr-icon-file-text2,\n.xr-no-icon {\n  display: inline-block;\n  vertical-align: middle;\n  width: 1em;\n  height: 1.5em !important;\n  stroke-width: 0;\n  stroke: currentColor;\n  fill: currentColor;\n}\n</style><pre class='xr-text-repr-fallback'>&lt;xarray.Dataset&gt;\nDimensions:           (nMesh2_node: 3, nMesh2_face: 1, nMaxMesh2_face_nodes: 3)\nDimensions without coordinates: nMesh2_node, nMesh2_face, nMaxMesh2_face_nodes\nData variables:\n    Mesh2             float64 nan\n    Mesh2_node_x      (nMesh2_node) float64 -0.5774 0.5774 0.5774\n    Mesh2_node_y      (nMesh2_node) float64 0.5774 -0.5774 0.5774\n    Mesh2_node_z      (nMesh2_node) float64 -0.5774 -0.5774 -0.5774\n    Mesh2_face_nodes  (nMesh2_face, nMaxMesh2_face_nodes) uint64 1 2 0</pre><div class='xr-wrap' style='display:none'><div class='xr-header'><div class='xr-obj-type'>xarray.Dataset</div></div><ul class='xr-sections'><li class='xr-section-item'><input id='section-5b0d929e-c2d6-401c-a1c3-d72f6c45e59b' class='xr-section-summary-in' type='checkbox' disabled ><label for='section-5b0d929e-c2d6-401c-a1c3-d72f6c45e59b' class='xr-section-summary'  title='Expand/collapse section'>Dimensions:</label><div class='xr-section-inline-details'><ul class='xr-dim-list'><li><span>nMesh2_node</span>: 3</li><li><span>nMesh2_face</span>: 1</li><li><span>nMaxMesh2_face_nodes</span>: 3</li></ul></div><div class='xr-section-details'></div></li><li class='xr-section-item'><input id='section-daeeb9a1-8eb4-4644-8750-57f99fefd7b7' class='xr-section-summary-in' type='checkbox' disabled ><label for='section-daeeb9a1-8eb4-4644-8750-57f99fefd7b7' class='xr-section-summary'  title='Expand/collapse section'>Coordinates: <span>(0)</span></label><div class='xr-section-inline-details'></div><div class='xr-section-details'><ul class='xr-var-list'></ul></div></li><li class='xr-section-item'><input id='section-10de2dca-4def-45f5-b4f2-a06807a5a4d3' class='xr-section-summary-in' type='checkbox'  checked><label for='section-10de2dca-4def-45f5-b4f2-a06807a5a4d3' class='xr-section-summary' >Data variables: <span>(5)</span></label><div class='xr-section-inline-details'></div><div class='xr-section-details'><ul class='xr-var-list'><li class='xr-var-item'><div class='xr-var-name'><span>Mesh2</span></div><div class='xr-var-dims'>()</div><div class='xr-var-dtype'>float64</div><div class='xr-var-preview xr-preview'>nan</div><input id='attrs-23f31f83-9930-4bf0-a2e9-7fbc6ca4ec2d' class='xr-var-attrs-in' type='checkbox' ><label for='attrs-23f31f83-9930-4bf0-a2e9-7fbc6ca4ec2d' title='Show/Hide attributes'><svg class='icon xr-icon-file-text2'><use xlink:href='#icon-file-text2'></use></svg></label><input id='data-b79d7b2a-8dbc-4f21-884d-2ee350751cd0' class='xr-var-data-in' type='checkbox'><label for='data-b79d7b2a-8dbc-4f21-884d-2ee350751cd0' title='Show/Hide data repr'><svg class='icon xr-icon-database'><use xlink:href='#icon-database'></use></svg></label><div class='xr-var-attrs'><dl class='xr-attrs'><dt><span>cf_role :</span></dt><dd>mesh_topology</dd><dt><span>long_name :</span></dt><dd>Topology data of unstructured mesh</dd><dt><span>topology_dimension :</span></dt><dd>3</dd><dt><span>node_coordinates :</span></dt><dd>Mesh2_node_x Mesh2_node_y Mesh2_node_z</dd><dt><span>node_dimension :</span></dt><dd>nMesh2_node</dd><dt><span>face_node_connectivity :</span></dt><dd>Mesh2_face_nodes</dd><dt><span>face_dimension :</span></dt><dd>nMesh2_face</dd></dl></div><div class='xr-var-data'><pre>array(nan)</pre></div></li><li class='xr-var-item'><div class='xr-var-name'><span>Mesh2_node_x</span></div><div class='xr-var-dims'>(nMesh2_node)</div><div class='xr-var-dtype'>float64</div><div class='xr-var-preview xr-preview'>-0.5774 0.5774 0.5774</div><input id='attrs-8eeeca52-85c6-47e8-868c-97cf0ffe8986' class='xr-var-attrs-in' type='checkbox' ><label for='attrs-8eeeca52-85c6-47e8-868c-97cf0ffe8986' title='Show/Hide attributes'><svg class='icon xr-icon-file-text2'><use xlink:href='#icon-file-text2'></use></svg></label><input id='data-007a2e88-8498-446f-831b-e55e7c7d5286' class='xr-var-data-in' type='checkbox'><label for='data-007a2e88-8498-446f-831b-e55e7c7d5286' title='Show/Hide data repr'><svg class='icon xr-icon-database'><use xlink:href='#icon-database'></use></svg></label><div class='xr-var-attrs'><dl class='xr-attrs'><dt><span>units :</span></dt><dd>degrees_east</dd></dl></div><div class='xr-var-data'><pre>array([-0.57735027,  0.57735027,  0.57735027])</pre></div></li><li class='xr-var-item'><div class='xr-var-name'><span>Mesh2_node_y</span></div><div class='xr-var-dims'>(nMesh2_node)</div><div class='xr-var-dtype'>float64</div><div class='xr-var-preview xr-preview'>0.5774 -0.5774 0.5774</div><input id='attrs-ff989f11-aed1-4e87-a388-6153c1306ac2' class='xr-var-attrs-in' type='checkbox' ><label for='attrs-ff989f11-aed1-4e87-a388-6153c1306ac2' title='Show/Hide attributes'><svg class='icon xr-icon-file-text2'><use xlink:href='#icon-file-text2'></use></svg></label><input id='data-70e1c478-0b80-40cf-8aa7-f8127a4f08eb' class='xr-var-data-in' type='checkbox'><label for='data-70e1c478-0b80-40cf-8aa7-f8127a4f08eb' title='Show/Hide data repr'><svg class='icon xr-icon-database'><use xlink:href='#icon-database'></use></svg></label><div class='xr-var-attrs'><dl class='xr-attrs'><dt><span>units :</span></dt><dd>degrees_north</dd></dl></div><div class='xr-var-data'><pre>array([ 0.57735027, -0.57735027,  0.57735027])</pre></div></li><li class='xr-var-item'><div class='xr-var-name'><span>Mesh2_node_z</span></div><div class='xr-var-dims'>(nMesh2_node)</div><div class='xr-var-dtype'>float64</div><div class='xr-var-preview xr-preview'>-0.5774 -0.5774 -0.5774</div><input id='attrs-5ab51c91-dc9f-4ea9-b73a-2b570973f61e' class='xr-var-attrs-in' type='checkbox' ><label for='attrs-5ab51c91-dc9f-4ea9-b73a-2b570973f61e' title='Show/Hide attributes'><svg class='icon xr-icon-file-text2'><use xlink:href='#icon-file-text2'></use></svg></label><input id='data-160f39fe-e196-4395-9f6b-7f4aaa7e7d8a' class='xr-var-data-in' type='checkbox'><label for='data-160f39fe-e196-4395-9f6b-7f4aaa7e7d8a' title='Show/Hide data repr'><svg class='icon xr-icon-database'><use xlink:href='#icon-database'></use></svg></label><div class='xr-var-attrs'><dl class='xr-attrs'><dt><span>units :</span></dt><dd>elevation</dd></dl></div><div class='xr-var-data'><pre>array([-0.57735027, -0.57735027, -0.57735027])</pre></div></li><li class='xr-var-item'><div class='xr-var-name'><span>Mesh2_face_nodes</span></div><div class='xr-var-dims'>(nMesh2_face, nMaxMesh2_face_nodes)</div><div class='xr-var-dtype'>uint64</div><div class='xr-var-preview xr-preview'>1 2 0</div><input id='attrs-61c38024-26ba-4de6-b894-fe1354742d90' class='xr-var-attrs-in' type='checkbox' ><label for='attrs-61c38024-26ba-4de6-b894-fe1354742d90' title='Show/Hide attributes'><svg class='icon xr-icon-file-text2'><use xlink:href='#icon-file-text2'></use></svg></label><input id='data-ef3ddf79-38f5-4b7a-b119-b525ec2ecb7a' class='xr-var-data-in' type='checkbox'><label for='data-ef3ddf79-38f5-4b7a-b119-b525ec2ecb7a' title='Show/Hide data repr'><svg class='icon xr-icon-database'><use xlink:href='#icon-database'></use></svg></label><div class='xr-var-attrs'><dl class='xr-attrs'><dt><span>cf_role :</span></dt><dd>face_node_connectivity</dd><dt><span>_FillValue :</span></dt><dd>18446744073709551615</dd><dt><span>start_index :</span></dt><dd>0</dd></dl></div><div class='xr-var-data'><pre>array([[1, 2, 0]], dtype=uint64)</pre></div></li></ul></div></li><li class='xr-section-item'><input id='section-952085a9-1a9c-4cf3-a382-e6545f7cd75b' class='xr-section-summary-in' type='checkbox' disabled ><label for='section-952085a9-1a9c-4cf3-a382-e6545f7cd75b' class='xr-section-summary'  title='Expand/collapse section'>Indexes: <span>(0)</span></label><div class='xr-section-inline-details'></div><div class='xr-section-details'><ul class='xr-var-list'></ul></div></li><li class='xr-section-item'><input id='section-8e083a5d-1e42-48b1-b352-2eb1a072fa29' class='xr-section-summary-in' type='checkbox' disabled ><label for='section-8e083a5d-1e42-48b1-b352-2eb1a072fa29' class='xr-section-summary'  title='Expand/collapse section'>Attributes: <span>(0)</span></label><div class='xr-section-inline-details'></div><div class='xr-section-details'><dl class='xr-attrs'></dl></div></li></ul></div></div>"
     },
     "execution_count": 204,
     "metadata": {},
     "output_type": "execute_result"
    }
   ],
   "source": [
    "# define a new grid with 3 vertices\n",
    "# Assume the units in meters - this is a big triangle\n",
    "verts = [[[0.57735027, -5.77350269e-01, -0.57735027],\n",
    "         [0.57735027, 5.77350269e-01, -0.57735027],\n",
    "         [-0.57735027, 5.77350269e-01, -0.57735027]]]\n",
    "# Note: initialization using array of vertices\n",
    "\n",
    "# load our vertices into a UXarray Grid object\n",
    "vgrid = ux.Grid(verts, vertices=True,\n",
    "                        islatlon=False,\n",
    "                        concave=False)\n",
    "\n",
    "# Note the incorrect units for the x and y coordinates (expand the cell Mesh2_node_x etc. to see)\n",
    "vgrid.ds"
   ]
  },
  {
   "cell_type": "code",
   "execution_count": 205,
   "outputs": [],
   "source": [
    "# vgrid.calculate_total_face_area()\n",
    "# This in incorrect as the units are not in meters"
   ],
   "metadata": {
    "collapsed": false,
    "ExecuteTime": {
     "start_time": "2023-04-18T14:14:03.692972Z",
     "end_time": "2023-04-18T14:14:03.721840Z"
    }
   }
  },
  {
   "cell_type": "code",
   "execution_count": 206,
   "outputs": [
    {
     "data": {
      "text/plain": "1.0475702709086985"
     },
     "execution_count": 206,
     "metadata": {},
     "output_type": "execute_result"
    }
   ],
   "source": [
    "# Set correct units for the x and y coordinates\n",
    "vgrid.Mesh2_node_x.attrs[\"units\"] = \"m\"\n",
    "vgrid.Mesh2_node_y.attrs[\"units\"] = \"m\"\n",
    "vgrid.Mesh2_node_z.attrs[\"units\"] = \"m\"\n",
    "\n",
    "# It is important to set the units for the x and y coordinates\n",
    "# otherwise the area will be incorrect, as the units are assumed to be spherical by default\n",
    "# Without the above setting the coordinates will be assumed to be in spherical coordinates\n",
    "# and the area will be calculated incorrectly\n",
    "\n",
    "# Calculate the area of the triangle\n",
    "area_gaussian = vgrid.calculate_total_face_area(\n",
    "            quadrature_rule=\"gaussian\", order=5)\n",
    "area_gaussian"
   ],
   "metadata": {
    "collapsed": false,
    "ExecuteTime": {
     "start_time": "2023-04-18T14:14:03.697638Z",
     "end_time": "2023-04-18T14:14:03.725096Z"
    }
   }
  },
  {
   "cell_type": "markdown",
   "source": [],
   "metadata": {
    "collapsed": false
   }
  },
  {
   "attachments": {},
   "cell_type": "markdown",
   "metadata": {
    "collapsed": false
   },
   "source": [
    "## 5. Calculate area of multiple vertices in spherical coordinates"
   ]
  },
  {
   "cell_type": "code",
   "execution_count": 207,
   "outputs": [],
   "source": [
    "faces_verts_ndarray = np.array([\n",
    "    np.array([[150, 10, 0], [160, 20, 0], [150, 30, 0], [135, 30, 0], [125, 20, 0],\n",
    "              [135, 10, 0]]),\n",
    "    np.array([[125, 20, 0], [135, 30, 0], [125, 60, 0], [110, 60, 0], [100, 30, 0],\n",
    "              [105, 20, 0]]),\n",
    "    np.array([[95, 10, 0], [105, 20, 0], [100, 30, 0], [85, 30, 0], [75, 20, 0],\n",
    "              [85, 10, 0]]),\n",
    "])"
   ],
   "metadata": {
    "collapsed": false,
    "ExecuteTime": {
     "start_time": "2023-04-18T14:14:03.701342Z",
     "end_time": "2023-04-18T14:14:03.725196Z"
    }
   }
  },
  {
   "cell_type": "code",
   "execution_count": 208,
   "outputs": [
    {
     "data": {
      "text/plain": "<xarray.Dataset>\nDimensions:           (nMesh2_node: 14, nMesh2_face: 3, nMaxMesh2_face_nodes: 6)\nDimensions without coordinates: nMesh2_node, nMesh2_face, nMaxMesh2_face_nodes\nData variables:\n    Mesh2             float64 nan\n    Mesh2_node_x      (nMesh2_node) int64 75 85 85 95 100 ... 135 150 150 160\n    Mesh2_node_y      (nMesh2_node) int64 20 10 30 10 30 20 ... 10 30 10 30 20\n    Mesh2_node_z      (nMesh2_node) int64 0 0 0 0 0 0 0 0 0 0 0 0 0 0\n    Mesh2_face_nodes  (nMesh2_face, nMaxMesh2_face_nodes) uint64 11 13 ... 0 1",
      "text/html": "<div><svg style=\"position: absolute; width: 0; height: 0; overflow: hidden\">\n<defs>\n<symbol id=\"icon-database\" viewBox=\"0 0 32 32\">\n<path d=\"M16 0c-8.837 0-16 2.239-16 5v4c0 2.761 7.163 5 16 5s16-2.239 16-5v-4c0-2.761-7.163-5-16-5z\"></path>\n<path d=\"M16 17c-8.837 0-16-2.239-16-5v6c0 2.761 7.163 5 16 5s16-2.239 16-5v-6c0 2.761-7.163 5-16 5z\"></path>\n<path d=\"M16 26c-8.837 0-16-2.239-16-5v6c0 2.761 7.163 5 16 5s16-2.239 16-5v-6c0 2.761-7.163 5-16 5z\"></path>\n</symbol>\n<symbol id=\"icon-file-text2\" viewBox=\"0 0 32 32\">\n<path d=\"M28.681 7.159c-0.694-0.947-1.662-2.053-2.724-3.116s-2.169-2.030-3.116-2.724c-1.612-1.182-2.393-1.319-2.841-1.319h-15.5c-1.378 0-2.5 1.121-2.5 2.5v27c0 1.378 1.122 2.5 2.5 2.5h23c1.378 0 2.5-1.122 2.5-2.5v-19.5c0-0.448-0.137-1.23-1.319-2.841zM24.543 5.457c0.959 0.959 1.712 1.825 2.268 2.543h-4.811v-4.811c0.718 0.556 1.584 1.309 2.543 2.268zM28 29.5c0 0.271-0.229 0.5-0.5 0.5h-23c-0.271 0-0.5-0.229-0.5-0.5v-27c0-0.271 0.229-0.5 0.5-0.5 0 0 15.499-0 15.5 0v7c0 0.552 0.448 1 1 1h7v19.5z\"></path>\n<path d=\"M23 26h-14c-0.552 0-1-0.448-1-1s0.448-1 1-1h14c0.552 0 1 0.448 1 1s-0.448 1-1 1z\"></path>\n<path d=\"M23 22h-14c-0.552 0-1-0.448-1-1s0.448-1 1-1h14c0.552 0 1 0.448 1 1s-0.448 1-1 1z\"></path>\n<path d=\"M23 18h-14c-0.552 0-1-0.448-1-1s0.448-1 1-1h14c0.552 0 1 0.448 1 1s-0.448 1-1 1z\"></path>\n</symbol>\n</defs>\n</svg>\n<style>/* CSS stylesheet for displaying xarray objects in jupyterlab.\n *\n */\n\n:root {\n  --xr-font-color0: var(--jp-content-font-color0, rgba(0, 0, 0, 1));\n  --xr-font-color2: var(--jp-content-font-color2, rgba(0, 0, 0, 0.54));\n  --xr-font-color3: var(--jp-content-font-color3, rgba(0, 0, 0, 0.38));\n  --xr-border-color: var(--jp-border-color2, #e0e0e0);\n  --xr-disabled-color: var(--jp-layout-color3, #bdbdbd);\n  --xr-background-color: var(--jp-layout-color0, white);\n  --xr-background-color-row-even: var(--jp-layout-color1, white);\n  --xr-background-color-row-odd: var(--jp-layout-color2, #eeeeee);\n}\n\nhtml[theme=dark],\nbody[data-theme=dark],\nbody.vscode-dark {\n  --xr-font-color0: rgba(255, 255, 255, 1);\n  --xr-font-color2: rgba(255, 255, 255, 0.54);\n  --xr-font-color3: rgba(255, 255, 255, 0.38);\n  --xr-border-color: #1F1F1F;\n  --xr-disabled-color: #515151;\n  --xr-background-color: #111111;\n  --xr-background-color-row-even: #111111;\n  --xr-background-color-row-odd: #313131;\n}\n\n.xr-wrap {\n  display: block !important;\n  min-width: 300px;\n  max-width: 700px;\n}\n\n.xr-text-repr-fallback {\n  /* fallback to plain text repr when CSS is not injected (untrusted notebook) */\n  display: none;\n}\n\n.xr-header {\n  padding-top: 6px;\n  padding-bottom: 6px;\n  margin-bottom: 4px;\n  border-bottom: solid 1px var(--xr-border-color);\n}\n\n.xr-header > div,\n.xr-header > ul {\n  display: inline;\n  margin-top: 0;\n  margin-bottom: 0;\n}\n\n.xr-obj-type,\n.xr-array-name {\n  margin-left: 2px;\n  margin-right: 10px;\n}\n\n.xr-obj-type {\n  color: var(--xr-font-color2);\n}\n\n.xr-sections {\n  padding-left: 0 !important;\n  display: grid;\n  grid-template-columns: 150px auto auto 1fr 20px 20px;\n}\n\n.xr-section-item {\n  display: contents;\n}\n\n.xr-section-item input {\n  display: none;\n}\n\n.xr-section-item input + label {\n  color: var(--xr-disabled-color);\n}\n\n.xr-section-item input:enabled + label {\n  cursor: pointer;\n  color: var(--xr-font-color2);\n}\n\n.xr-section-item input:enabled + label:hover {\n  color: var(--xr-font-color0);\n}\n\n.xr-section-summary {\n  grid-column: 1;\n  color: var(--xr-font-color2);\n  font-weight: 500;\n}\n\n.xr-section-summary > span {\n  display: inline-block;\n  padding-left: 0.5em;\n}\n\n.xr-section-summary-in:disabled + label {\n  color: var(--xr-font-color2);\n}\n\n.xr-section-summary-in + label:before {\n  display: inline-block;\n  content: '►';\n  font-size: 11px;\n  width: 15px;\n  text-align: center;\n}\n\n.xr-section-summary-in:disabled + label:before {\n  color: var(--xr-disabled-color);\n}\n\n.xr-section-summary-in:checked + label:before {\n  content: '▼';\n}\n\n.xr-section-summary-in:checked + label > span {\n  display: none;\n}\n\n.xr-section-summary,\n.xr-section-inline-details {\n  padding-top: 4px;\n  padding-bottom: 4px;\n}\n\n.xr-section-inline-details {\n  grid-column: 2 / -1;\n}\n\n.xr-section-details {\n  display: none;\n  grid-column: 1 / -1;\n  margin-bottom: 5px;\n}\n\n.xr-section-summary-in:checked ~ .xr-section-details {\n  display: contents;\n}\n\n.xr-array-wrap {\n  grid-column: 1 / -1;\n  display: grid;\n  grid-template-columns: 20px auto;\n}\n\n.xr-array-wrap > label {\n  grid-column: 1;\n  vertical-align: top;\n}\n\n.xr-preview {\n  color: var(--xr-font-color3);\n}\n\n.xr-array-preview,\n.xr-array-data {\n  padding: 0 5px !important;\n  grid-column: 2;\n}\n\n.xr-array-data,\n.xr-array-in:checked ~ .xr-array-preview {\n  display: none;\n}\n\n.xr-array-in:checked ~ .xr-array-data,\n.xr-array-preview {\n  display: inline-block;\n}\n\n.xr-dim-list {\n  display: inline-block !important;\n  list-style: none;\n  padding: 0 !important;\n  margin: 0;\n}\n\n.xr-dim-list li {\n  display: inline-block;\n  padding: 0;\n  margin: 0;\n}\n\n.xr-dim-list:before {\n  content: '(';\n}\n\n.xr-dim-list:after {\n  content: ')';\n}\n\n.xr-dim-list li:not(:last-child):after {\n  content: ',';\n  padding-right: 5px;\n}\n\n.xr-has-index {\n  font-weight: bold;\n}\n\n.xr-var-list,\n.xr-var-item {\n  display: contents;\n}\n\n.xr-var-item > div,\n.xr-var-item label,\n.xr-var-item > .xr-var-name span {\n  background-color: var(--xr-background-color-row-even);\n  margin-bottom: 0;\n}\n\n.xr-var-item > .xr-var-name:hover span {\n  padding-right: 5px;\n}\n\n.xr-var-list > li:nth-child(odd) > div,\n.xr-var-list > li:nth-child(odd) > label,\n.xr-var-list > li:nth-child(odd) > .xr-var-name span {\n  background-color: var(--xr-background-color-row-odd);\n}\n\n.xr-var-name {\n  grid-column: 1;\n}\n\n.xr-var-dims {\n  grid-column: 2;\n}\n\n.xr-var-dtype {\n  grid-column: 3;\n  text-align: right;\n  color: var(--xr-font-color2);\n}\n\n.xr-var-preview {\n  grid-column: 4;\n}\n\n.xr-index-preview {\n  grid-column: 2 / 5;\n  color: var(--xr-font-color2);\n}\n\n.xr-var-name,\n.xr-var-dims,\n.xr-var-dtype,\n.xr-preview,\n.xr-attrs dt {\n  white-space: nowrap;\n  overflow: hidden;\n  text-overflow: ellipsis;\n  padding-right: 10px;\n}\n\n.xr-var-name:hover,\n.xr-var-dims:hover,\n.xr-var-dtype:hover,\n.xr-attrs dt:hover {\n  overflow: visible;\n  width: auto;\n  z-index: 1;\n}\n\n.xr-var-attrs,\n.xr-var-data,\n.xr-index-data {\n  display: none;\n  background-color: var(--xr-background-color) !important;\n  padding-bottom: 5px !important;\n}\n\n.xr-var-attrs-in:checked ~ .xr-var-attrs,\n.xr-var-data-in:checked ~ .xr-var-data,\n.xr-index-data-in:checked ~ .xr-index-data {\n  display: block;\n}\n\n.xr-var-data > table {\n  float: right;\n}\n\n.xr-var-name span,\n.xr-var-data,\n.xr-index-name div,\n.xr-index-data,\n.xr-attrs {\n  padding-left: 25px !important;\n}\n\n.xr-attrs,\n.xr-var-attrs,\n.xr-var-data,\n.xr-index-data {\n  grid-column: 1 / -1;\n}\n\ndl.xr-attrs {\n  padding: 0;\n  margin: 0;\n  display: grid;\n  grid-template-columns: 125px auto;\n}\n\n.xr-attrs dt,\n.xr-attrs dd {\n  padding: 0;\n  margin: 0;\n  float: left;\n  padding-right: 10px;\n  width: auto;\n}\n\n.xr-attrs dt {\n  font-weight: normal;\n  grid-column: 1;\n}\n\n.xr-attrs dt:hover span {\n  display: inline-block;\n  background: var(--xr-background-color);\n  padding-right: 10px;\n}\n\n.xr-attrs dd {\n  grid-column: 2;\n  white-space: pre-wrap;\n  word-break: break-all;\n}\n\n.xr-icon-database,\n.xr-icon-file-text2,\n.xr-no-icon {\n  display: inline-block;\n  vertical-align: middle;\n  width: 1em;\n  height: 1.5em !important;\n  stroke-width: 0;\n  stroke: currentColor;\n  fill: currentColor;\n}\n</style><pre class='xr-text-repr-fallback'>&lt;xarray.Dataset&gt;\nDimensions:           (nMesh2_node: 14, nMesh2_face: 3, nMaxMesh2_face_nodes: 6)\nDimensions without coordinates: nMesh2_node, nMesh2_face, nMaxMesh2_face_nodes\nData variables:\n    Mesh2             float64 nan\n    Mesh2_node_x      (nMesh2_node) int64 75 85 85 95 100 ... 135 150 150 160\n    Mesh2_node_y      (nMesh2_node) int64 20 10 30 10 30 20 ... 10 30 10 30 20\n    Mesh2_node_z      (nMesh2_node) int64 0 0 0 0 0 0 0 0 0 0 0 0 0 0\n    Mesh2_face_nodes  (nMesh2_face, nMaxMesh2_face_nodes) uint64 11 13 ... 0 1</pre><div class='xr-wrap' style='display:none'><div class='xr-header'><div class='xr-obj-type'>xarray.Dataset</div></div><ul class='xr-sections'><li class='xr-section-item'><input id='section-54e740e4-4809-44b9-a96e-b2e1e3ae4f37' class='xr-section-summary-in' type='checkbox' disabled ><label for='section-54e740e4-4809-44b9-a96e-b2e1e3ae4f37' class='xr-section-summary'  title='Expand/collapse section'>Dimensions:</label><div class='xr-section-inline-details'><ul class='xr-dim-list'><li><span>nMesh2_node</span>: 14</li><li><span>nMesh2_face</span>: 3</li><li><span>nMaxMesh2_face_nodes</span>: 6</li></ul></div><div class='xr-section-details'></div></li><li class='xr-section-item'><input id='section-3fd80973-390f-48a7-8bef-c309f21e2fb4' class='xr-section-summary-in' type='checkbox' disabled ><label for='section-3fd80973-390f-48a7-8bef-c309f21e2fb4' class='xr-section-summary'  title='Expand/collapse section'>Coordinates: <span>(0)</span></label><div class='xr-section-inline-details'></div><div class='xr-section-details'><ul class='xr-var-list'></ul></div></li><li class='xr-section-item'><input id='section-0b01327e-f654-40d8-bcaf-70626b9fc8d5' class='xr-section-summary-in' type='checkbox'  checked><label for='section-0b01327e-f654-40d8-bcaf-70626b9fc8d5' class='xr-section-summary' >Data variables: <span>(5)</span></label><div class='xr-section-inline-details'></div><div class='xr-section-details'><ul class='xr-var-list'><li class='xr-var-item'><div class='xr-var-name'><span>Mesh2</span></div><div class='xr-var-dims'>()</div><div class='xr-var-dtype'>float64</div><div class='xr-var-preview xr-preview'>nan</div><input id='attrs-cdb79f19-1525-4603-ab3f-d144daa47abb' class='xr-var-attrs-in' type='checkbox' ><label for='attrs-cdb79f19-1525-4603-ab3f-d144daa47abb' title='Show/Hide attributes'><svg class='icon xr-icon-file-text2'><use xlink:href='#icon-file-text2'></use></svg></label><input id='data-e9514bdb-2cd4-4efb-8181-9f65fecee828' class='xr-var-data-in' type='checkbox'><label for='data-e9514bdb-2cd4-4efb-8181-9f65fecee828' title='Show/Hide data repr'><svg class='icon xr-icon-database'><use xlink:href='#icon-database'></use></svg></label><div class='xr-var-attrs'><dl class='xr-attrs'><dt><span>cf_role :</span></dt><dd>mesh_topology</dd><dt><span>long_name :</span></dt><dd>Topology data of unstructured mesh</dd><dt><span>topology_dimension :</span></dt><dd>3</dd><dt><span>node_coordinates :</span></dt><dd>Mesh2_node_x Mesh2_node_y Mesh2_node_z</dd><dt><span>node_dimension :</span></dt><dd>nMesh2_node</dd><dt><span>face_node_connectivity :</span></dt><dd>Mesh2_face_nodes</dd><dt><span>face_dimension :</span></dt><dd>nMesh2_face</dd></dl></div><div class='xr-var-data'><pre>array(nan)</pre></div></li><li class='xr-var-item'><div class='xr-var-name'><span>Mesh2_node_x</span></div><div class='xr-var-dims'>(nMesh2_node)</div><div class='xr-var-dtype'>int64</div><div class='xr-var-preview xr-preview'>75 85 85 95 100 ... 135 150 150 160</div><input id='attrs-2ac4db50-b076-4bb3-9404-4acbb941dad6' class='xr-var-attrs-in' type='checkbox' ><label for='attrs-2ac4db50-b076-4bb3-9404-4acbb941dad6' title='Show/Hide attributes'><svg class='icon xr-icon-file-text2'><use xlink:href='#icon-file-text2'></use></svg></label><input id='data-ff7ea18b-02cf-4340-b27d-22098ba26ed0' class='xr-var-data-in' type='checkbox'><label for='data-ff7ea18b-02cf-4340-b27d-22098ba26ed0' title='Show/Hide data repr'><svg class='icon xr-icon-database'><use xlink:href='#icon-database'></use></svg></label><div class='xr-var-attrs'><dl class='xr-attrs'><dt><span>units :</span></dt><dd>degrees_east</dd></dl></div><div class='xr-var-data'><pre>array([ 75,  85,  85,  95, 100, 105, 110, 125, 125, 135, 135, 150, 150,\n       160])</pre></div></li><li class='xr-var-item'><div class='xr-var-name'><span>Mesh2_node_y</span></div><div class='xr-var-dims'>(nMesh2_node)</div><div class='xr-var-dtype'>int64</div><div class='xr-var-preview xr-preview'>20 10 30 10 30 ... 10 30 10 30 20</div><input id='attrs-f4dc4afc-56ab-4eed-8afb-672f7964c3e3' class='xr-var-attrs-in' type='checkbox' ><label for='attrs-f4dc4afc-56ab-4eed-8afb-672f7964c3e3' title='Show/Hide attributes'><svg class='icon xr-icon-file-text2'><use xlink:href='#icon-file-text2'></use></svg></label><input id='data-3dc779d1-71c4-499d-930a-8d57b05a7628' class='xr-var-data-in' type='checkbox'><label for='data-3dc779d1-71c4-499d-930a-8d57b05a7628' title='Show/Hide data repr'><svg class='icon xr-icon-database'><use xlink:href='#icon-database'></use></svg></label><div class='xr-var-attrs'><dl class='xr-attrs'><dt><span>units :</span></dt><dd>degrees_north</dd></dl></div><div class='xr-var-data'><pre>array([20, 10, 30, 10, 30, 20, 60, 20, 60, 10, 30, 10, 30, 20])</pre></div></li><li class='xr-var-item'><div class='xr-var-name'><span>Mesh2_node_z</span></div><div class='xr-var-dims'>(nMesh2_node)</div><div class='xr-var-dtype'>int64</div><div class='xr-var-preview xr-preview'>0 0 0 0 0 0 0 0 0 0 0 0 0 0</div><input id='attrs-bc378b62-f730-4f62-bcf4-b733d63bce98' class='xr-var-attrs-in' type='checkbox' ><label for='attrs-bc378b62-f730-4f62-bcf4-b733d63bce98' title='Show/Hide attributes'><svg class='icon xr-icon-file-text2'><use xlink:href='#icon-file-text2'></use></svg></label><input id='data-2dbc7690-b558-47bb-814e-afc4783dde4c' class='xr-var-data-in' type='checkbox'><label for='data-2dbc7690-b558-47bb-814e-afc4783dde4c' title='Show/Hide data repr'><svg class='icon xr-icon-database'><use xlink:href='#icon-database'></use></svg></label><div class='xr-var-attrs'><dl class='xr-attrs'><dt><span>units :</span></dt><dd>elevation</dd></dl></div><div class='xr-var-data'><pre>array([0, 0, 0, 0, 0, 0, 0, 0, 0, 0, 0, 0, 0, 0])</pre></div></li><li class='xr-var-item'><div class='xr-var-name'><span>Mesh2_face_nodes</span></div><div class='xr-var-dims'>(nMesh2_face, nMaxMesh2_face_nodes)</div><div class='xr-var-dtype'>uint64</div><div class='xr-var-preview xr-preview'>11 13 12 10 7 9 7 ... 5 3 5 4 2 0 1</div><input id='attrs-3f7e9d7e-cdea-4b83-96b6-b3cb18eac6da' class='xr-var-attrs-in' type='checkbox' ><label for='attrs-3f7e9d7e-cdea-4b83-96b6-b3cb18eac6da' title='Show/Hide attributes'><svg class='icon xr-icon-file-text2'><use xlink:href='#icon-file-text2'></use></svg></label><input id='data-894b3b7f-92c3-4cc6-b723-f87657e1f310' class='xr-var-data-in' type='checkbox'><label for='data-894b3b7f-92c3-4cc6-b723-f87657e1f310' title='Show/Hide data repr'><svg class='icon xr-icon-database'><use xlink:href='#icon-database'></use></svg></label><div class='xr-var-attrs'><dl class='xr-attrs'><dt><span>cf_role :</span></dt><dd>face_node_connectivity</dd><dt><span>_FillValue :</span></dt><dd>18446744073709551615</dd><dt><span>start_index :</span></dt><dd>0</dd></dl></div><div class='xr-var-data'><pre>array([[11, 13, 12, 10,  7,  9],\n       [ 7, 10,  8,  6,  4,  5],\n       [ 3,  5,  4,  2,  0,  1]], dtype=uint64)</pre></div></li></ul></div></li><li class='xr-section-item'><input id='section-57c53c1c-c96b-473c-86c2-d69b5f37254d' class='xr-section-summary-in' type='checkbox' disabled ><label for='section-57c53c1c-c96b-473c-86c2-d69b5f37254d' class='xr-section-summary'  title='Expand/collapse section'>Indexes: <span>(0)</span></label><div class='xr-section-inline-details'></div><div class='xr-section-details'><ul class='xr-var-list'></ul></div></li><li class='xr-section-item'><input id='section-d2d05671-0fa1-4b2c-ac44-0d336ce6b0cc' class='xr-section-summary-in' type='checkbox' disabled ><label for='section-d2d05671-0fa1-4b2c-ac44-0d336ce6b0cc' class='xr-section-summary'  title='Expand/collapse section'>Attributes: <span>(0)</span></label><div class='xr-section-inline-details'></div><div class='xr-section-details'><dl class='xr-attrs'></dl></div></li></ul></div></div>"
     },
     "execution_count": 208,
     "metadata": {},
     "output_type": "execute_result"
    }
   ],
   "source": [
    "# load our vertices into a UXarray Grid object\n",
    "verts_grid = ux.Grid(faces_verts_ndarray, vertices=True,\n",
    "                        islatlon=True,\n",
    "                        concave=False)\n",
    "verts_grid.ds"
   ],
   "metadata": {
    "collapsed": false,
    "ExecuteTime": {
     "start_time": "2023-04-18T14:14:03.706056Z",
     "end_time": "2023-04-18T14:14:03.725298Z"
    }
   }
  },
  {
   "cell_type": "code",
   "execution_count": 209,
   "outputs": [
    {
     "ename": "TypingError",
     "evalue": "Failed in nopython mode pipeline (step: nopython frontend)\n\u001B[1m\u001B[1mCannot unify array(float64, 1d, C) and array(int64, 1d, C) for 'face_z.2', defined at /Users/mbook/cp_uxarray/uxarray/helpers.py (244)\n\u001B[1m\nFile \"../../uxarray/helpers.py\", line 244:\u001B[0m\n\u001B[1mdef get_all_face_area_from_coords(x,\n    <source elided>\n        # After getting all the nodes of a face assembled call the  cal. face area routine\n\u001B[1m        face_area = calculate_face_area(face_x, face_y, face_z, quadrature_rule,\n\u001B[0m        \u001B[1m^\u001B[0m\u001B[0m\n\u001B[0m\n\u001B[0m\u001B[1mDuring: typing of assignment at /Users/mbook/cp_uxarray/uxarray/helpers.py (244)\u001B[0m\n\u001B[1m\nFile \"../../uxarray/helpers.py\", line 244:\u001B[0m\n\u001B[1mdef get_all_face_area_from_coords(x,\n    <source elided>\n        # After getting all the nodes of a face assembled call the  cal. face area routine\n\u001B[1m        face_area = calculate_face_area(face_x, face_y, face_z, quadrature_rule,\n\u001B[0m        \u001B[1m^\u001B[0m\u001B[0m\n",
     "output_type": "error",
     "traceback": [
      "\u001B[0;31m---------------------------------------------------------------------------\u001B[0m",
      "\u001B[0;31mTypingError\u001B[0m                               Traceback (most recent call last)",
      "Cell \u001B[0;32mIn[209], line 1\u001B[0m\n\u001B[0;32m----> 1\u001B[0m \u001B[43mverts_grid\u001B[49m\u001B[38;5;241;43m.\u001B[39;49m\u001B[43mface_areas\u001B[49m\n",
      "File \u001B[0;32m~/cp_uxarray/uxarray/grid.py:379\u001B[0m, in \u001B[0;36mGrid.face_areas\u001B[0;34m(self)\u001B[0m\n\u001B[1;32m    376\u001B[0m \u001B[38;5;124;03m\"\"\"Declare face_areas as a property.\"\"\"\u001B[39;00m\n\u001B[1;32m    378\u001B[0m \u001B[38;5;28;01mif\u001B[39;00m \u001B[38;5;28mself\u001B[39m\u001B[38;5;241m.\u001B[39m_face_areas \u001B[38;5;129;01mis\u001B[39;00m \u001B[38;5;28;01mNone\u001B[39;00m:\n\u001B[0;32m--> 379\u001B[0m     \u001B[38;5;28;43mself\u001B[39;49m\u001B[38;5;241;43m.\u001B[39;49m\u001B[43mcompute_face_areas\u001B[49m\u001B[43m(\u001B[49m\u001B[43m)\u001B[49m\n\u001B[1;32m    380\u001B[0m \u001B[38;5;28;01mreturn\u001B[39;00m \u001B[38;5;28mself\u001B[39m\u001B[38;5;241m.\u001B[39m_face_areas\n",
      "File \u001B[0;32m~/cp_uxarray/uxarray/grid.py:368\u001B[0m, in \u001B[0;36mGrid.compute_face_areas\u001B[0;34m(self, quadrature_rule, order)\u001B[0m\n\u001B[1;32m    365\u001B[0m         z \u001B[38;5;241m=\u001B[39m \u001B[38;5;28mself\u001B[39m\u001B[38;5;241m.\u001B[39mMesh2_node_z\u001B[38;5;241m.\u001B[39mdata\n\u001B[1;32m    367\u001B[0m     \u001B[38;5;66;03m# call function to get area of all the faces as a np array\u001B[39;00m\n\u001B[0;32m--> 368\u001B[0m     \u001B[38;5;28mself\u001B[39m\u001B[38;5;241m.\u001B[39m_face_areas \u001B[38;5;241m=\u001B[39m \u001B[43mget_all_face_area_from_coords\u001B[49m\u001B[43m(\u001B[49m\n\u001B[1;32m    369\u001B[0m \u001B[43m        \u001B[49m\u001B[43mx\u001B[49m\u001B[43m,\u001B[49m\u001B[43m \u001B[49m\u001B[43my\u001B[49m\u001B[43m,\u001B[49m\u001B[43m \u001B[49m\u001B[43mz\u001B[49m\u001B[43m,\u001B[49m\u001B[43m \u001B[49m\u001B[43mface_nodes\u001B[49m\u001B[43m,\u001B[49m\u001B[43m \u001B[49m\u001B[43mdim\u001B[49m\u001B[43m,\u001B[49m\u001B[43m \u001B[49m\u001B[43mquadrature_rule\u001B[49m\u001B[43m,\u001B[49m\u001B[43m \u001B[49m\u001B[43morder\u001B[49m\u001B[43m,\u001B[49m\u001B[43m \u001B[49m\u001B[43mcoords_type\u001B[49m\u001B[43m)\u001B[49m\n\u001B[1;32m    371\u001B[0m \u001B[38;5;28;01mreturn\u001B[39;00m \u001B[38;5;28mself\u001B[39m\u001B[38;5;241m.\u001B[39m_face_areas\n",
      "File \u001B[0;32m/opt/homebrew/anaconda3/envs/tensorflow/lib/python3.10/site-packages/numba/core/dispatcher.py:468\u001B[0m, in \u001B[0;36m_DispatcherBase._compile_for_args\u001B[0;34m(self, *args, **kws)\u001B[0m\n\u001B[1;32m    464\u001B[0m         msg \u001B[38;5;241m=\u001B[39m (\u001B[38;5;124mf\u001B[39m\u001B[38;5;124m\"\u001B[39m\u001B[38;5;132;01m{\u001B[39;00m\u001B[38;5;28mstr\u001B[39m(e)\u001B[38;5;241m.\u001B[39mrstrip()\u001B[38;5;132;01m}\u001B[39;00m\u001B[38;5;124m \u001B[39m\u001B[38;5;130;01m\\n\u001B[39;00m\u001B[38;5;130;01m\\n\u001B[39;00m\u001B[38;5;124mThis error may have been caused \u001B[39m\u001B[38;5;124m\"\u001B[39m\n\u001B[1;32m    465\u001B[0m                \u001B[38;5;124mf\u001B[39m\u001B[38;5;124m\"\u001B[39m\u001B[38;5;124mby the following argument(s):\u001B[39m\u001B[38;5;130;01m\\n\u001B[39;00m\u001B[38;5;132;01m{\u001B[39;00margs_str\u001B[38;5;132;01m}\u001B[39;00m\u001B[38;5;130;01m\\n\u001B[39;00m\u001B[38;5;124m\"\u001B[39m)\n\u001B[1;32m    466\u001B[0m         e\u001B[38;5;241m.\u001B[39mpatch_message(msg)\n\u001B[0;32m--> 468\u001B[0m     \u001B[43merror_rewrite\u001B[49m\u001B[43m(\u001B[49m\u001B[43me\u001B[49m\u001B[43m,\u001B[49m\u001B[43m \u001B[49m\u001B[38;5;124;43m'\u001B[39;49m\u001B[38;5;124;43mtyping\u001B[39;49m\u001B[38;5;124;43m'\u001B[39;49m\u001B[43m)\u001B[49m\n\u001B[1;32m    469\u001B[0m \u001B[38;5;28;01mexcept\u001B[39;00m errors\u001B[38;5;241m.\u001B[39mUnsupportedError \u001B[38;5;28;01mas\u001B[39;00m e:\n\u001B[1;32m    470\u001B[0m     \u001B[38;5;66;03m# Something unsupported is present in the user code, add help info\u001B[39;00m\n\u001B[1;32m    471\u001B[0m     error_rewrite(e, \u001B[38;5;124m'\u001B[39m\u001B[38;5;124munsupported_error\u001B[39m\u001B[38;5;124m'\u001B[39m)\n",
      "File \u001B[0;32m/opt/homebrew/anaconda3/envs/tensorflow/lib/python3.10/site-packages/numba/core/dispatcher.py:409\u001B[0m, in \u001B[0;36m_DispatcherBase._compile_for_args.<locals>.error_rewrite\u001B[0;34m(e, issue_type)\u001B[0m\n\u001B[1;32m    407\u001B[0m     \u001B[38;5;28;01mraise\u001B[39;00m e\n\u001B[1;32m    408\u001B[0m \u001B[38;5;28;01melse\u001B[39;00m:\n\u001B[0;32m--> 409\u001B[0m     \u001B[38;5;28;01mraise\u001B[39;00m e\u001B[38;5;241m.\u001B[39mwith_traceback(\u001B[38;5;28;01mNone\u001B[39;00m)\n",
      "\u001B[0;31mTypingError\u001B[0m: Failed in nopython mode pipeline (step: nopython frontend)\n\u001B[1m\u001B[1mCannot unify array(float64, 1d, C) and array(int64, 1d, C) for 'face_z.2', defined at /Users/mbook/cp_uxarray/uxarray/helpers.py (244)\n\u001B[1m\nFile \"../../uxarray/helpers.py\", line 244:\u001B[0m\n\u001B[1mdef get_all_face_area_from_coords(x,\n    <source elided>\n        # After getting all the nodes of a face assembled call the  cal. face area routine\n\u001B[1m        face_area = calculate_face_area(face_x, face_y, face_z, quadrature_rule,\n\u001B[0m        \u001B[1m^\u001B[0m\u001B[0m\n\u001B[0m\n\u001B[0m\u001B[1mDuring: typing of assignment at /Users/mbook/cp_uxarray/uxarray/helpers.py (244)\u001B[0m\n\u001B[1m\nFile \"../../uxarray/helpers.py\", line 244:\u001B[0m\n\u001B[1mdef get_all_face_area_from_coords(x,\n    <source elided>\n        # After getting all the nodes of a face assembled call the  cal. face area routine\n\u001B[1m        face_area = calculate_face_area(face_x, face_y, face_z, quadrature_rule,\n\u001B[0m        \u001B[1m^\u001B[0m\u001B[0m\n"
     ]
    }
   ],
   "source": [
    "verts_grid.face_areas"
   ],
   "metadata": {
    "collapsed": false,
    "ExecuteTime": {
     "start_time": "2023-04-18T14:07:08.187116Z",
     "end_time": "2023-04-18T14:07:08.206754Z"
    }
   }
  },
  {
   "cell_type": "code",
   "execution_count": null,
   "outputs": [],
   "source": [],
   "metadata": {
    "collapsed": false
   }
  }
 ],
 "metadata": {
  "kernelspec": {
   "display_name": "Python 3.10 (tensorflow)",
   "language": "python",
   "name": "tensorflow"
  },
  "language_info": {
   "codemirror_mode": {
    "name": "ipython",
    "version": 3
   },
   "file_extension": ".py",
   "mimetype": "text/x-python",
   "name": "python",
   "nbconvert_exporter": "python",
   "pygments_lexer": "ipython3",
   "version": "3.10.9"
  }
 },
 "nbformat": 4,
 "nbformat_minor": 0
}
